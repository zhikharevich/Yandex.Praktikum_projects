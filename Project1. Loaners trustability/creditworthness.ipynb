{
 "cells": [
  {
   "cell_type": "markdown",
   "metadata": {},
   "source": [
    "# Проект 1. Предобработка данных"
   ]
  },
  {
   "cell_type": "markdown",
   "metadata": {},
   "source": [
    "## Задание 1. Исследование данных"
   ]
  },
  {
   "cell_type": "markdown",
   "metadata": {},
   "source": [
    "### Изучение информации о файле данных"
   ]
  },
  {
   "cell_type": "markdown",
   "metadata": {},
   "source": [
    "Выводим файл и смотрим общую информацию о данных."
   ]
  },
  {
   "cell_type": "code",
   "execution_count": 2,
   "metadata": {},
   "outputs": [
    {
     "name": "stdout",
     "output_type": "stream",
     "text": [
      "<class 'pandas.core.frame.DataFrame'>\n",
      "RangeIndex: 21525 entries, 0 to 21524\n",
      "Data columns (total 12 columns):\n",
      "children            21525 non-null int64\n",
      "days_employed       19351 non-null float64\n",
      "dob_days            21525 non-null int64\n",
      "education           21525 non-null object\n",
      "education_id        21525 non-null int64\n",
      "family_status       21525 non-null object\n",
      "family_status_id    21525 non-null int64\n",
      "gender              21525 non-null object\n",
      "income_type         21525 non-null object\n",
      "debt                21525 non-null int64\n",
      "total_income        19351 non-null float64\n",
      "purpose             21525 non-null object\n",
      "dtypes: float64(2), int64(5), object(5)\n",
      "memory usage: 2.0+ MB\n",
      "None\n"
     ]
    }
   ],
   "source": [
    "import pandas as pd\n",
    "data = pd.read_csv('/datasets/data.csv')\n",
    "print(data.info())"
   ]
  },
  {
   "cell_type": "markdown",
   "metadata": {},
   "source": [
    "Видно, что есть два столбца с вещественными значениями (days_employed и total_income), которые нужно заменить на целые числа.  \n",
    "В этих же столбцах пропущенные значения,причем их число одинаковое, возможно, это одни и те же строки.  \n",
    "Оценим структуру данных."
   ]
  },
  {
   "cell_type": "code",
   "execution_count": 3,
   "metadata": {},
   "outputs": [
    {
     "name": "stdout",
     "output_type": "stream",
     "text": [
      "    children  days_employed  dob_days            education  education_id  \\\n",
      "0          1   -8437.673028        42               высшее             0   \n",
      "1          1   -4024.803754        36              среднее             1   \n",
      "2          0   -5623.422610        33              Среднее             1   \n",
      "3          3   -4124.747207        32              среднее             1   \n",
      "4          0  340266.072047        53              среднее             1   \n",
      "5          0    -926.185831        27               высшее             0   \n",
      "6          0   -2879.202052        43               высшее             0   \n",
      "7          0    -152.779569        50              СРЕДНЕЕ             1   \n",
      "8          2   -6929.865299        35               ВЫСШЕЕ             0   \n",
      "9          0   -2188.756445        41              среднее             1   \n",
      "10         2   -4171.483647        36               высшее             0   \n",
      "11         0    -792.701887        40              среднее             1   \n",
      "12         0            NaN        65              среднее             1   \n",
      "13         0   -1846.641941        54  неоконченное высшее             2   \n",
      "14         0   -1844.956182        56               высшее             0   \n",
      "\n",
      "       family_status  family_status_id gender income_type  debt  \\\n",
      "0    женат / замужем                 0      F   сотрудник     0   \n",
      "1    женат / замужем                 0      F   сотрудник     0   \n",
      "2    женат / замужем                 0      M   сотрудник     0   \n",
      "3    женат / замужем                 0      M   сотрудник     0   \n",
      "4   гражданский брак                 1      F   пенсионер     0   \n",
      "5   гражданский брак                 1      M   компаньон     0   \n",
      "6    женат / замужем                 0      F   компаньон     0   \n",
      "7    женат / замужем                 0      M   сотрудник     0   \n",
      "8   гражданский брак                 1      F   сотрудник     0   \n",
      "9    женат / замужем                 0      M   сотрудник     0   \n",
      "10   женат / замужем                 0      M   компаньон     0   \n",
      "11   женат / замужем                 0      F   сотрудник     0   \n",
      "12  гражданский брак                 1      M   пенсионер     0   \n",
      "13   женат / замужем                 0      F   сотрудник     0   \n",
      "14  гражданский брак                 1      F   компаньон     1   \n",
      "\n",
      "     total_income                            purpose  \n",
      "0   253875.639453                      покупка жилья  \n",
      "1   112080.014102            приобретение автомобиля  \n",
      "2   145885.952297                      покупка жилья  \n",
      "3   267628.550329         дополнительное образование  \n",
      "4   158616.077870                    сыграть свадьбу  \n",
      "5   255763.565419                      покупка жилья  \n",
      "6   240525.971920                  операции с жильем  \n",
      "7   135823.934197                        образование  \n",
      "8    95856.832424              на проведение свадьбы  \n",
      "9   144425.938277            покупка жилья для семьи  \n",
      "10  113943.491460               покупка недвижимости  \n",
      "11   77069.234271  покупка коммерческой недвижимости  \n",
      "12            NaN                    сыграть свадьбу  \n",
      "13  130458.228857            приобретение автомобиля  \n",
      "14  165127.911772         покупка жилой недвижимости  \n"
     ]
    }
   ],
   "source": [
    "print(data.head(15))"
   ]
  },
  {
   "cell_type": "markdown",
   "metadata": {},
   "source": [
    "Странности: \n",
    "- отрицательные значения для трудового стажа\n",
    "- разные наименования для схожих целей (покупка недвижимости/покупка жилья/операции с жильем и т.д.)"
   ]
  },
  {
   "cell_type": "markdown",
   "metadata": {},
   "source": [
    "### Заполнение пропущенных значений и замена типа данных"
   ]
  },
  {
   "cell_type": "markdown",
   "metadata": {},
   "source": [
    "Но для начала разберемся с пропущенными значениями.  \n",
    "Проверим гипотезу, что строки с отсутствующим уровнем дохода и без информации о трудовом стаже, - это одни и те же люди"
   ]
  },
  {
   "cell_type": "code",
   "execution_count": 4,
   "metadata": {},
   "outputs": [
    {
     "name": "stdout",
     "output_type": "stream",
     "text": [
      "children            2174\n",
      "days_employed          0\n",
      "dob_days            2174\n",
      "education           2174\n",
      "education_id        2174\n",
      "family_status       2174\n",
      "family_status_id    2174\n",
      "gender              2174\n",
      "income_type         2174\n",
      "debt                2174\n",
      "total_income           0\n",
      "purpose             2174\n",
      "dtype: int64\n"
     ]
    }
   ],
   "source": [
    "print(data[data['days_employed'].isnull()].count())"
   ]
  },
  {
   "cell_type": "markdown",
   "metadata": {},
   "source": [
    "Гипотеза подтвердилась! Но мы не знаем, в чем причина - не было ли дохода и опыта, или данные не были предоставлены.  \n",
    "Попробуем по **income_type** понять, возможно ли такое, что могут быть в базе люди без дохода и опыта. Или данные просто не были предоставлены (не требовались при выдаче), и мы вправе заменить пропуски в этих количественных переменных на среднее арифметическое или медиану."
   ]
  },
  {
   "cell_type": "code",
   "execution_count": 5,
   "metadata": {},
   "outputs": [
    {
     "name": "stdout",
     "output_type": "stream",
     "text": [
      "сотрудник          1105\n",
      "компаньон           508\n",
      "пенсионер           413\n",
      "госслужащий         147\n",
      "предприниматель       1\n",
      "Name: income_type, dtype: int64\n"
     ]
    }
   ],
   "source": [
    "print(data[data['days_employed'].isnull()]['income_type'].value_counts())"
   ]
  },
  {
   "cell_type": "markdown",
   "metadata": {},
   "source": [
    "Похоже, что данные не были предоставлены. Статус предполагает, что тот или иной уровень дохода должен быть.  \n",
    "В таком случае определим, что лучше использовать для каждого из параметров - **среднее** или **медиану**."
   ]
  },
  {
   "cell_type": "code",
   "execution_count": 6,
   "metadata": {},
   "outputs": [
    {
     "name": "stdout",
     "output_type": "stream",
     "text": [
      "20667.26379327158\n",
      "2265604.028722744\n",
      "145017.93753253992\n",
      "167422.30220817294\n"
     ]
    }
   ],
   "source": [
    "print(data['total_income'].min())\n",
    "print(data['total_income'].max())\n",
    "print(data['total_income'].median())\n",
    "print(data['total_income'].mean())"
   ]
  },
  {
   "cell_type": "markdown",
   "metadata": {},
   "source": [
    "Среднее и медиана близки, распределение позволяет использовать **среднее**."
   ]
  },
  {
   "cell_type": "code",
   "execution_count": 7,
   "metadata": {},
   "outputs": [
    {
     "name": "stdout",
     "output_type": "stream",
     "text": [
      "<class 'pandas.core.frame.DataFrame'>\n",
      "RangeIndex: 21525 entries, 0 to 21524\n",
      "Data columns (total 12 columns):\n",
      "children            21525 non-null int64\n",
      "days_employed       19351 non-null float64\n",
      "dob_days            21525 non-null int64\n",
      "education           21525 non-null object\n",
      "education_id        21525 non-null int64\n",
      "family_status       21525 non-null object\n",
      "family_status_id    21525 non-null int64\n",
      "gender              21525 non-null object\n",
      "income_type         21525 non-null object\n",
      "debt                21525 non-null int64\n",
      "total_income        19351 non-null float64\n",
      "purpose             21525 non-null object\n",
      "dtypes: float64(2), int64(5), object(5)\n",
      "memory usage: 2.0+ MB\n",
      "None\n"
     ]
    }
   ],
   "source": [
    "print(data.info())"
   ]
  },
  {
   "cell_type": "code",
   "execution_count": 10,
   "metadata": {},
   "outputs": [
    {
     "name": "stdout",
     "output_type": "stream",
     "text": [
      "       income_type   total_income\n",
      "0      безработный  131339.751676\n",
      "1        в декрете   53829.130729\n",
      "2      госслужащий  170898.309923\n",
      "3        компаньон  202417.461462\n",
      "4        пенсионер  137127.465690\n",
      "5  предприниматель  499163.144947\n",
      "6        сотрудник  161380.260488\n",
      "7          студент   98201.625314\n"
     ]
    }
   ],
   "source": [
    "total_income_grouped = data.groupby('income_type')['total_income'].mean().reset_index()\n",
    "print(total_income_grouped)"
   ]
  },
  {
   "cell_type": "code",
   "execution_count": 16,
   "metadata": {},
   "outputs": [
    {
     "name": "stdout",
     "output_type": "stream",
     "text": [
      "   children  days_employed  dob_days education  education_id  \\\n",
      "0         1   -8437.673028        42    высшее             0   \n",
      "1         1   -4024.803754        36   среднее             1   \n",
      "2         0   -5623.422610        33   Среднее             1   \n",
      "3         3   -4124.747207        32   среднее             1   \n",
      "4         0  340266.072047        53   среднее             1   \n",
      "\n",
      "      family_status  family_status_id gender income_type  debt   total_income  \\\n",
      "0   женат / замужем                 0      F   сотрудник     0  253875.639453   \n",
      "1   женат / замужем                 0      F   сотрудник     0  112080.014102   \n",
      "2   женат / замужем                 0      M   сотрудник     0  145885.952297   \n",
      "3   женат / замужем                 0      M   сотрудник     0  267628.550329   \n",
      "4  гражданский брак                 1      F   пенсионер     0  158616.077870   \n",
      "\n",
      "                      purpose  \n",
      "0               покупка жилья  \n",
      "1     приобретение автомобиля  \n",
      "2               покупка жилья  \n",
      "3  дополнительное образование  \n",
      "4             сыграть свадьбу  \n"
     ]
    }
   ],
   "source": [
    "print(data.head())"
   ]
  },
  {
   "cell_type": "code",
   "execution_count": 22,
   "metadata": {
    "scrolled": true
   },
   "outputs": [
    {
     "name": "stdout",
     "output_type": "stream",
     "text": [
      "    children  days_employed  dob_days            education  education_id  \\\n",
      "0          1   -8437.673028        42               высшее             0   \n",
      "1          1   -4024.803754        36              среднее             1   \n",
      "2          0   -5623.422610        33              Среднее             1   \n",
      "3          3   -4124.747207        32              среднее             1   \n",
      "4          0  340266.072047        53              среднее             1   \n",
      "5          0    -926.185831        27               высшее             0   \n",
      "6          0   -2879.202052        43               высшее             0   \n",
      "7          0    -152.779569        50              СРЕДНЕЕ             1   \n",
      "8          2   -6929.865299        35               ВЫСШЕЕ             0   \n",
      "9          0   -2188.756445        41              среднее             1   \n",
      "10         2   -4171.483647        36               высшее             0   \n",
      "11         0    -792.701887        40              среднее             1   \n",
      "12         0            NaN        65              среднее             1   \n",
      "13         0   -1846.641941        54  неоконченное высшее             2   \n",
      "14         0   -1844.956182        56               высшее             0   \n",
      "15         1    -972.364419        26              среднее             1   \n",
      "16         0   -1719.934226        35              среднее             1   \n",
      "17         0   -2369.999720        33               высшее             0   \n",
      "18         0  400281.136913        53              среднее             1   \n",
      "19         0  -10038.818549        48              СРЕДНЕЕ             1   \n",
      "\n",
      "       family_status  family_status_id gender income_type  debt  \\\n",
      "0    женат / замужем                 0      F   сотрудник     0   \n",
      "1    женат / замужем                 0      F   сотрудник     0   \n",
      "2    женат / замужем                 0      M   сотрудник     0   \n",
      "3    женат / замужем                 0      M   сотрудник     0   \n",
      "4   гражданский брак                 1      F   пенсионер     0   \n",
      "5   гражданский брак                 1      M   компаньон     0   \n",
      "6    женат / замужем                 0      F   компаньон     0   \n",
      "7    женат / замужем                 0      M   сотрудник     0   \n",
      "8   гражданский брак                 1      F   сотрудник     0   \n",
      "9    женат / замужем                 0      M   сотрудник     0   \n",
      "10   женат / замужем                 0      M   компаньон     0   \n",
      "11   женат / замужем                 0      F   сотрудник     0   \n",
      "12  гражданский брак                 1      M   пенсионер     0   \n",
      "13   женат / замужем                 0      F   сотрудник     0   \n",
      "14  гражданский брак                 1      F   компаньон     1   \n",
      "15   женат / замужем                 0      F   сотрудник     0   \n",
      "16   женат / замужем                 0      F   сотрудник     0   \n",
      "17  гражданский брак                 1      M   сотрудник     0   \n",
      "18    вдовец / вдова                 2      F   пенсионер     0   \n",
      "19         в разводе                 3      F   сотрудник     0   \n",
      "\n",
      "     total_income                                 purpose  total_income_new  \n",
      "0   253875.639453                           покупка жилья     253875.639453  \n",
      "1   112080.014102                 приобретение автомобиля     112080.014102  \n",
      "2   145885.952297                           покупка жилья     145885.952297  \n",
      "3   267628.550329              дополнительное образование     267628.550329  \n",
      "4   158616.077870                         сыграть свадьбу     158616.077870  \n",
      "5   255763.565419                           покупка жилья     255763.565419  \n",
      "6   240525.971920                       операции с жильем     240525.971920  \n",
      "7   135823.934197                             образование     135823.934197  \n",
      "8    95856.832424                   на проведение свадьбы      95856.832424  \n",
      "9   144425.938277                 покупка жилья для семьи     144425.938277  \n",
      "10  113943.491460                    покупка недвижимости     113943.491460  \n",
      "11   77069.234271       покупка коммерческой недвижимости      77069.234271  \n",
      "12            NaN                         сыграть свадьбу     137127.465690  \n",
      "13  130458.228857                 приобретение автомобиля     130458.228857  \n",
      "14  165127.911772              покупка жилой недвижимости     165127.911772  \n",
      "15  116820.904450  строительство собственной недвижимости     116820.904450  \n",
      "16  289202.704229                            недвижимость     289202.704229  \n",
      "17   90410.586745              строительство недвижимости      90410.586745  \n",
      "18   56823.777243      на покупку подержанного автомобиля      56823.777243  \n",
      "19  242831.107982            на покупку своего автомобиля     242831.107982  \n"
     ]
    }
   ],
   "source": [
    "def income_by_type(row):\n",
    "    income_type = row['income_type']\n",
    "    total_income = row['total_income']\n",
    "    if pd.isnull(total_income) == False:\n",
    "        return total_income\n",
    "    else:\n",
    "        return total_income_grouped[total_income_grouped['income_type'] == income_type]['total_income'].values[0]\n",
    "data['total_income_new'] = data.apply(income_by_type, axis=1)\n",
    "print(data.head(20))"
   ]
  },
  {
   "cell_type": "code",
   "execution_count": 7,
   "metadata": {},
   "outputs": [
    {
     "name": "stdout",
     "output_type": "stream",
     "text": [
      "<class 'pandas.core.frame.DataFrame'>\n",
      "RangeIndex: 21525 entries, 0 to 21524\n",
      "Data columns (total 12 columns):\n",
      "children            21525 non-null int64\n",
      "days_employed       19351 non-null float64\n",
      "dob_days            21525 non-null int64\n",
      "education           21525 non-null object\n",
      "education_id        21525 non-null int64\n",
      "family_status       21525 non-null object\n",
      "family_status_id    21525 non-null int64\n",
      "gender              21525 non-null object\n",
      "income_type         21525 non-null object\n",
      "debt                21525 non-null int64\n",
      "total_income        21525 non-null float64\n",
      "purpose             21525 non-null object\n",
      "dtypes: float64(2), int64(5), object(5)\n",
      "memory usage: 2.0+ MB\n",
      "None\n"
     ]
    }
   ],
   "source": [
    "total_income_average = data['total_income'].mean()\n",
    "data['total_income'] = data['total_income'].fillna(total_income_average)\n",
    "print(data.info())"
   ]
  },
  {
   "cell_type": "code",
   "execution_count": null,
   "metadata": {},
   "outputs": [],
   "source": []
  },
  {
   "cell_type": "markdown",
   "metadata": {},
   "source": [
    "Заменим формат в столбце **total_income** на целое число. Некоторой неточностью округления в данном случае можно пренебречь."
   ]
  },
  {
   "cell_type": "code",
   "execution_count": 8,
   "metadata": {},
   "outputs": [
    {
     "name": "stdout",
     "output_type": "stream",
     "text": [
      "    children  days_employed  dob_days            education  education_id  \\\n",
      "0          1   -8437.673028        42               высшее             0   \n",
      "1          1   -4024.803754        36              среднее             1   \n",
      "2          0   -5623.422610        33              Среднее             1   \n",
      "3          3   -4124.747207        32              среднее             1   \n",
      "4          0  340266.072047        53              среднее             1   \n",
      "5          0    -926.185831        27               высшее             0   \n",
      "6          0   -2879.202052        43               высшее             0   \n",
      "7          0    -152.779569        50              СРЕДНЕЕ             1   \n",
      "8          2   -6929.865299        35               ВЫСШЕЕ             0   \n",
      "9          0   -2188.756445        41              среднее             1   \n",
      "10         2   -4171.483647        36               высшее             0   \n",
      "11         0    -792.701887        40              среднее             1   \n",
      "12         0            NaN        65              среднее             1   \n",
      "13         0   -1846.641941        54  неоконченное высшее             2   \n",
      "14         0   -1844.956182        56               высшее             0   \n",
      "\n",
      "       family_status  family_status_id gender income_type  debt  total_income  \\\n",
      "0    женат / замужем                 0      F   сотрудник     0        253875   \n",
      "1    женат / замужем                 0      F   сотрудник     0        112080   \n",
      "2    женат / замужем                 0      M   сотрудник     0        145885   \n",
      "3    женат / замужем                 0      M   сотрудник     0        267628   \n",
      "4   гражданский брак                 1      F   пенсионер     0        158616   \n",
      "5   гражданский брак                 1      M   компаньон     0        255763   \n",
      "6    женат / замужем                 0      F   компаньон     0        240525   \n",
      "7    женат / замужем                 0      M   сотрудник     0        135823   \n",
      "8   гражданский брак                 1      F   сотрудник     0         95856   \n",
      "9    женат / замужем                 0      M   сотрудник     0        144425   \n",
      "10   женат / замужем                 0      M   компаньон     0        113943   \n",
      "11   женат / замужем                 0      F   сотрудник     0         77069   \n",
      "12  гражданский брак                 1      M   пенсионер     0        167422   \n",
      "13   женат / замужем                 0      F   сотрудник     0        130458   \n",
      "14  гражданский брак                 1      F   компаньон     1        165127   \n",
      "\n",
      "                              purpose  \n",
      "0                       покупка жилья  \n",
      "1             приобретение автомобиля  \n",
      "2                       покупка жилья  \n",
      "3          дополнительное образование  \n",
      "4                     сыграть свадьбу  \n",
      "5                       покупка жилья  \n",
      "6                   операции с жильем  \n",
      "7                         образование  \n",
      "8               на проведение свадьбы  \n",
      "9             покупка жилья для семьи  \n",
      "10               покупка недвижимости  \n",
      "11  покупка коммерческой недвижимости  \n",
      "12                    сыграть свадьбу  \n",
      "13            приобретение автомобиля  \n",
      "14         покупка жилой недвижимости  \n"
     ]
    }
   ],
   "source": [
    "data['total_income'] = data['total_income'].astype(int)\n",
    "print(data.head(15))"
   ]
  },
  {
   "cell_type": "code",
   "execution_count": 9,
   "metadata": {
    "scrolled": true
   },
   "outputs": [
    {
     "name": "stdout",
     "output_type": "stream",
     "text": [
      "-18388.949900568383\n",
      "401755.40047533\n",
      "-1203.369528770489\n",
      "63046.49766147338\n"
     ]
    }
   ],
   "source": [
    "print(data['days_employed'].min())\n",
    "print(data['days_employed'].max())\n",
    "print(data['days_employed'].median())\n",
    "print(data['days_employed'].mean())"
   ]
  },
  {
   "cell_type": "markdown",
   "metadata": {},
   "source": [
    "Здесь загвоздка... Сначала необходимо разобраться со значениями в столбце **days_employed**, а затем уже заполнять пропуски. Проблемы две: отрицательные значения и слишком большие значения.  \n",
    "Посчитаем количество отрицательных значений."
   ]
  },
  {
   "cell_type": "code",
   "execution_count": 10,
   "metadata": {},
   "outputs": [
    {
     "name": "stdout",
     "output_type": "stream",
     "text": [
      "15906\n"
     ]
    }
   ],
   "source": [
    "print(data[data['days_employed'] < 0]['days_employed'].count())"
   ]
  },
  {
   "cell_type": "markdown",
   "metadata": {},
   "source": [
    "Судя по количеству значений, ошибка системная. В идеале, необходимо обратиться к поставщикам информации и попытаться уточнить ситуацию. Но предположим, что ошибка только в знаке, и исправим ее."
   ]
  },
  {
   "cell_type": "code",
   "execution_count": 11,
   "metadata": {},
   "outputs": [
    {
     "name": "stdout",
     "output_type": "stream",
     "text": [
      "    children  days_employed  dob_days            education  education_id  \\\n",
      "0          1    8437.673028        42               высшее             0   \n",
      "1          1    4024.803754        36              среднее             1   \n",
      "2          0    5623.422610        33              Среднее             1   \n",
      "3          3    4124.747207        32              среднее             1   \n",
      "4          0  340266.072047        53              среднее             1   \n",
      "5          0     926.185831        27               высшее             0   \n",
      "6          0    2879.202052        43               высшее             0   \n",
      "7          0     152.779569        50              СРЕДНЕЕ             1   \n",
      "8          2    6929.865299        35               ВЫСШЕЕ             0   \n",
      "9          0    2188.756445        41              среднее             1   \n",
      "10         2    4171.483647        36               высшее             0   \n",
      "11         0     792.701887        40              среднее             1   \n",
      "12         0            NaN        65              среднее             1   \n",
      "13         0    1846.641941        54  неоконченное высшее             2   \n",
      "14         0    1844.956182        56               высшее             0   \n",
      "\n",
      "       family_status  family_status_id gender income_type  debt  total_income  \\\n",
      "0    женат / замужем                 0      F   сотрудник     0        253875   \n",
      "1    женат / замужем                 0      F   сотрудник     0        112080   \n",
      "2    женат / замужем                 0      M   сотрудник     0        145885   \n",
      "3    женат / замужем                 0      M   сотрудник     0        267628   \n",
      "4   гражданский брак                 1      F   пенсионер     0        158616   \n",
      "5   гражданский брак                 1      M   компаньон     0        255763   \n",
      "6    женат / замужем                 0      F   компаньон     0        240525   \n",
      "7    женат / замужем                 0      M   сотрудник     0        135823   \n",
      "8   гражданский брак                 1      F   сотрудник     0         95856   \n",
      "9    женат / замужем                 0      M   сотрудник     0        144425   \n",
      "10   женат / замужем                 0      M   компаньон     0        113943   \n",
      "11   женат / замужем                 0      F   сотрудник     0         77069   \n",
      "12  гражданский брак                 1      M   пенсионер     0        167422   \n",
      "13   женат / замужем                 0      F   сотрудник     0        130458   \n",
      "14  гражданский брак                 1      F   компаньон     1        165127   \n",
      "\n",
      "                              purpose  days_employed_group  \n",
      "0                       покупка жилья                   -1  \n",
      "1             приобретение автомобиля                   -1  \n",
      "2                       покупка жилья                   -1  \n",
      "3          дополнительное образование                   -1  \n",
      "4                     сыграть свадьбу                    1  \n",
      "5                       покупка жилья                   -1  \n",
      "6                   операции с жильем                   -1  \n",
      "7                         образование                   -1  \n",
      "8               на проведение свадьбы                   -1  \n",
      "9             покупка жилья для семьи                   -1  \n",
      "10               покупка недвижимости                   -1  \n",
      "11  покупка коммерческой недвижимости                   -1  \n",
      "12                    сыграть свадьбу                    1  \n",
      "13            приобретение автомобиля                   -1  \n",
      "14         покупка жилой недвижимости                   -1  \n"
     ]
    }
   ],
   "source": [
    "def days_employed_group(value):\n",
    "    if value < 0:\n",
    "        return -1\n",
    "    return 1\n",
    "data['days_employed_group'] = data['days_employed'].apply(days_employed_group)\n",
    "data['days_employed'] = data['days_employed'] * data['days_employed_group']\n",
    "print(data.head(15))"
   ]
  },
  {
   "cell_type": "markdown",
   "metadata": {},
   "source": [
    "Сделано. Теперь попробуем перевести в дни в годы и посмотреть, в каком количестве случаев стаж превышает 50 лет."
   ]
  },
  {
   "cell_type": "code",
   "execution_count": 12,
   "metadata": {},
   "outputs": [
    {
     "name": "stdout",
     "output_type": "stream",
     "text": [
      "3445\n"
     ]
    }
   ],
   "source": [
    "data['years_employed'] = data['days_employed'] // 365\n",
    "print(data[data['years_employed'] > 50]['years_employed'].count())"
   ]
  },
  {
   "cell_type": "markdown",
   "metadata": {},
   "source": [
    "Очень много... Что ж, пока оставим эту загадку, тем более, что у нас нет задачи проанализировать кредитоспособность в зависимости от стажа. Необходимо получить дополнительную информацию от поставщиков, а затем внести коррективы.  \n",
    "В любом случае, заменим пропущенные значения и переведем в целочисленный формат."
   ]
  },
  {
   "cell_type": "code",
   "execution_count": 13,
   "metadata": {},
   "outputs": [
    {
     "name": "stdout",
     "output_type": "stream",
     "text": [
      "24.14163324048118\n",
      "401755.40047533\n",
      "2194.220566878695\n",
      "66914.72890682236\n"
     ]
    }
   ],
   "source": [
    "print(data['days_employed'].min())\n",
    "print(data['days_employed'].max())\n",
    "print(data['days_employed'].median())\n",
    "print(data['days_employed'].mean())"
   ]
  },
  {
   "cell_type": "markdown",
   "metadata": {},
   "source": [
    "Очевидно, что нужно использовать **медиану** - выпадающие чересчур высокие значения завышают **среднее**."
   ]
  },
  {
   "cell_type": "code",
   "execution_count": 14,
   "metadata": {},
   "outputs": [
    {
     "name": "stdout",
     "output_type": "stream",
     "text": [
      "<class 'pandas.core.frame.DataFrame'>\n",
      "RangeIndex: 21525 entries, 0 to 21524\n",
      "Data columns (total 14 columns):\n",
      "children               21525 non-null int64\n",
      "days_employed          21525 non-null int64\n",
      "dob_days               21525 non-null int64\n",
      "education              21525 non-null object\n",
      "education_id           21525 non-null int64\n",
      "family_status          21525 non-null object\n",
      "family_status_id       21525 non-null int64\n",
      "gender                 21525 non-null object\n",
      "income_type            21525 non-null object\n",
      "debt                   21525 non-null int64\n",
      "total_income           21525 non-null int64\n",
      "purpose                21525 non-null object\n",
      "days_employed_group    21525 non-null int64\n",
      "years_employed         19351 non-null float64\n",
      "dtypes: float64(1), int64(8), object(5)\n",
      "memory usage: 2.3+ MB\n",
      "None\n"
     ]
    }
   ],
   "source": [
    "days_employed_median = data['days_employed'].median()\n",
    "data['days_employed'] = data['days_employed'].fillna(days_employed_median)\n",
    "data['days_employed'] = data['days_employed'].astype(int) #переведем в целочисленные значения\n",
    "print(data.info())"
   ]
  },
  {
   "cell_type": "markdown",
   "metadata": {},
   "source": [
    "### Удаление дубликатов"
   ]
  },
  {
   "cell_type": "markdown",
   "metadata": {},
   "source": [
    "Начинаем поиск дубликатов.\n",
    "Проверим столбцы **children**, **education**, **family_status**, **gender**, **income_type** на наличие дубликатов.  \n",
    "Поскольку количество вариантов ответа в каждом столбце невелико, мы можем использовать метод *value_counts*."
   ]
  },
  {
   "cell_type": "code",
   "execution_count": 15,
   "metadata": {},
   "outputs": [
    {
     "name": "stdout",
     "output_type": "stream",
     "text": [
      " 0     14149\n",
      " 1      4818\n",
      " 2      2055\n",
      " 3       330\n",
      " 20       76\n",
      "-1        47\n",
      " 4        41\n",
      " 5         9\n",
      "Name: children, dtype: int64\n"
     ]
    }
   ],
   "source": [
    "print(data['children'].value_counts())"
   ]
  },
  {
   "cell_type": "markdown",
   "metadata": {},
   "source": [
    "-1 ребенок навевает грустные мысли... Скорее всего, это ошибка ввода, заменим на 1. Также, как и 20, скорее всего, 2."
   ]
  },
  {
   "cell_type": "code",
   "execution_count": 16,
   "metadata": {},
   "outputs": [
    {
     "name": "stdout",
     "output_type": "stream",
     "text": [
      "0    14149\n",
      "1     4865\n",
      "2     2131\n",
      "3      330\n",
      "4       41\n",
      "5        9\n",
      "Name: children, dtype: int64\n"
     ]
    }
   ],
   "source": [
    "data['children'] = data['children'].replace(-1, 1)\n",
    "data['children'] = data['children'].replace(20, 2)\n",
    "print(data['children'].value_counts())"
   ]
  },
  {
   "cell_type": "markdown",
   "metadata": {},
   "source": [
    "С детьми разобрались. Посмотрим, что с образованием."
   ]
  },
  {
   "cell_type": "code",
   "execution_count": 17,
   "metadata": {},
   "outputs": [
    {
     "name": "stdout",
     "output_type": "stream",
     "text": [
      "среднее                13750\n",
      "высшее                  4718\n",
      "СРЕДНЕЕ                  772\n",
      "Среднее                  711\n",
      "неоконченное высшее      668\n",
      "ВЫСШЕЕ                   274\n",
      "Высшее                   268\n",
      "начальное                250\n",
      "Неоконченное высшее       47\n",
      "НЕОКОНЧЕННОЕ ВЫСШЕЕ       29\n",
      "НАЧАЛЬНОЕ                 17\n",
      "Начальное                 15\n",
      "ученая степень             4\n",
      "УЧЕНАЯ СТЕПЕНЬ             1\n",
      "Ученая степень             1\n",
      "Name: education, dtype: int64\n"
     ]
    }
   ],
   "source": [
    "print(data['education'].value_counts())"
   ]
  },
  {
   "cell_type": "markdown",
   "metadata": {},
   "source": [
    "Видимо, образование вводили вручную, отсюда дубликаты. Но похоже, что приведение к нижнему регистру должно решить проблему"
   ]
  },
  {
   "cell_type": "code",
   "execution_count": 18,
   "metadata": {},
   "outputs": [
    {
     "name": "stdout",
     "output_type": "stream",
     "text": [
      "среднее                15233\n",
      "высшее                  5260\n",
      "неоконченное высшее      744\n",
      "начальное                282\n",
      "ученая степень             6\n",
      "Name: education, dtype: int64\n"
     ]
    }
   ],
   "source": [
    "data['education'] = data['education'].str.lower()\n",
    "print(data['education'].value_counts())"
   ]
  },
  {
   "cell_type": "markdown",
   "metadata": {},
   "source": [
    "Заодно проверим, что корректно приписаны education_id"
   ]
  },
  {
   "cell_type": "code",
   "execution_count": 19,
   "metadata": {},
   "outputs": [
    {
     "name": "stdout",
     "output_type": "stream",
     "text": [
      "                    education_id    \n",
      "                             min max\n",
      "education                           \n",
      "высшее                         0   0\n",
      "начальное                      3   3\n",
      "неоконченное высшее            2   2\n",
      "среднее                        1   1\n",
      "ученая степень                 4   4\n"
     ]
    }
   ],
   "source": [
    "print(data.groupby('education').agg({'education_id': ['min', 'max']}))"
   ]
  },
  {
   "cell_type": "markdown",
   "metadata": {},
   "source": [
    "Ура! Взглянем на семейное положение."
   ]
  },
  {
   "cell_type": "code",
   "execution_count": 20,
   "metadata": {},
   "outputs": [
    {
     "name": "stdout",
     "output_type": "stream",
     "text": [
      "женат / замужем          12380\n",
      "гражданский брак          4177\n",
      "Не женат / не замужем     2813\n",
      "в разводе                 1195\n",
      "вдовец / вдова             960\n",
      "Name: family_status, dtype: int64\n"
     ]
    }
   ],
   "source": [
    "print(data['family_status'].value_counts())"
   ]
  },
  {
   "cell_type": "markdown",
   "metadata": {},
   "source": [
    "Все ОК"
   ]
  },
  {
   "cell_type": "code",
   "execution_count": 21,
   "metadata": {},
   "outputs": [
    {
     "name": "stdout",
     "output_type": "stream",
     "text": [
      "F      14236\n",
      "M       7288\n",
      "XNA        1\n",
      "Name: gender, dtype: int64\n"
     ]
    }
   ],
   "source": [
    "print(data['gender'].value_counts())"
   ]
  },
  {
   "cell_type": "markdown",
   "metadata": {},
   "source": [
    "Дубликатов нет, но есть одно странное значение... Кто знает, может быть, это третий пол))? В любом случае, можно оставить без изменений, поскольку это лишь один кейс, и анализ по полу не планируется"
   ]
  },
  {
   "cell_type": "code",
   "execution_count": 22,
   "metadata": {},
   "outputs": [
    {
     "name": "stdout",
     "output_type": "stream",
     "text": [
      "сотрудник          11119\n",
      "компаньон           5085\n",
      "пенсионер           3856\n",
      "госслужащий         1459\n",
      "предприниматель        2\n",
      "безработный            2\n",
      "в декрете              1\n",
      "студент                1\n",
      "Name: income_type, dtype: int64\n"
     ]
    }
   ],
   "source": [
    "print(data['income_type'].value_counts())"
   ]
  },
  {
   "cell_type": "markdown",
   "metadata": {},
   "source": [
    "### Лемматизация"
   ]
  },
  {
   "cell_type": "markdown",
   "metadata": {},
   "source": [
    "Приступим к лемматизации данных в столбце **purpose**.  \n",
    "Для начала выведем все уникальные значения в столбце"
   ]
  },
  {
   "cell_type": "code",
   "execution_count": 23,
   "metadata": {},
   "outputs": [
    {
     "name": "stdout",
     "output_type": "stream",
     "text": [
      "свадьба                                   797\n",
      "на проведение свадьбы                     777\n",
      "сыграть свадьбу                           774\n",
      "операции с недвижимостью                  676\n",
      "покупка коммерческой недвижимости         664\n",
      "операции с жильем                         653\n",
      "покупка жилья для сдачи                   653\n",
      "операции с коммерческой недвижимостью     651\n",
      "жилье                                     647\n",
      "покупка жилья                             647\n",
      "покупка жилья для семьи                   641\n",
      "строительство собственной недвижимости    635\n",
      "недвижимость                              634\n",
      "операции со своей недвижимостью           630\n",
      "строительство жилой недвижимости          626\n",
      "покупка недвижимости                      624\n",
      "строительство недвижимости                620\n",
      "покупка своего жилья                      620\n",
      "ремонт жилью                              612\n",
      "покупка жилой недвижимости                607\n",
      "на покупку своего автомобиля              505\n",
      "заняться высшим образованием              496\n",
      "автомобиль                                495\n",
      "сделка с подержанным автомобилем          489\n",
      "свой автомобиль                           480\n",
      "на покупку подержанного автомобиля        479\n",
      "автомобили                                478\n",
      "на покупку автомобиля                     472\n",
      "дополнительное образование                462\n",
      "приобретение автомобиля                   462\n",
      "сделка с автомобилем                      455\n",
      "высшее образование                        453\n",
      "получение дополнительного образования     447\n",
      "образование                               447\n",
      "получение образования                     443\n",
      "профильное образование                    436\n",
      "получение высшего образования             426\n",
      "заняться образованием                     412\n",
      "Name: purpose, dtype: int64\n"
     ]
    }
   ],
   "source": [
    "print(data['purpose'].value_counts())"
   ]
  },
  {
   "cell_type": "markdown",
   "metadata": {},
   "source": [
    "Видно, что есть несколько тем: приобретение или ремонт недвижимости, приобретение автомобиля, образование, свадьба. \n",
    "Но все написано по-разному, необходимо привести все к единому виду для последующей классификации.  \n",
    "Создадим столбец с леммой для каждой строчки"
   ]
  },
  {
   "cell_type": "code",
   "execution_count": 24,
   "metadata": {},
   "outputs": [
    {
     "name": "stdout",
     "output_type": "stream",
     "text": [
      "    children  days_employed  dob_days            education  education_id  \\\n",
      "0          1           8437        42               высшее             0   \n",
      "1          1           4024        36              среднее             1   \n",
      "2          0           5623        33              среднее             1   \n",
      "3          3           4124        32              среднее             1   \n",
      "4          0         340266        53              среднее             1   \n",
      "5          0            926        27               высшее             0   \n",
      "6          0           2879        43               высшее             0   \n",
      "7          0            152        50              среднее             1   \n",
      "8          2           6929        35               высшее             0   \n",
      "9          0           2188        41              среднее             1   \n",
      "10         2           4171        36               высшее             0   \n",
      "11         0            792        40              среднее             1   \n",
      "12         0           2194        65              среднее             1   \n",
      "13         0           1846        54  неоконченное высшее             2   \n",
      "14         0           1844        56               высшее             0   \n",
      "\n",
      "       family_status  family_status_id gender income_type  debt  total_income  \\\n",
      "0    женат / замужем                 0      F   сотрудник     0        253875   \n",
      "1    женат / замужем                 0      F   сотрудник     0        112080   \n",
      "2    женат / замужем                 0      M   сотрудник     0        145885   \n",
      "3    женат / замужем                 0      M   сотрудник     0        267628   \n",
      "4   гражданский брак                 1      F   пенсионер     0        158616   \n",
      "5   гражданский брак                 1      M   компаньон     0        255763   \n",
      "6    женат / замужем                 0      F   компаньон     0        240525   \n",
      "7    женат / замужем                 0      M   сотрудник     0        135823   \n",
      "8   гражданский брак                 1      F   сотрудник     0         95856   \n",
      "9    женат / замужем                 0      M   сотрудник     0        144425   \n",
      "10   женат / замужем                 0      M   компаньон     0        113943   \n",
      "11   женат / замужем                 0      F   сотрудник     0         77069   \n",
      "12  гражданский брак                 1      M   пенсионер     0        167422   \n",
      "13   женат / замужем                 0      F   сотрудник     0        130458   \n",
      "14  гражданский брак                 1      F   компаньон     1        165127   \n",
      "\n",
      "                              purpose  days_employed_group  years_employed  \\\n",
      "0                       покупка жилья                   -1            23.0   \n",
      "1             приобретение автомобиля                   -1            11.0   \n",
      "2                       покупка жилья                   -1            15.0   \n",
      "3          дополнительное образование                   -1            11.0   \n",
      "4                     сыграть свадьбу                    1           932.0   \n",
      "5                       покупка жилья                   -1             2.0   \n",
      "6                   операции с жильем                   -1             7.0   \n",
      "7                         образование                   -1             0.0   \n",
      "8               на проведение свадьбы                   -1            18.0   \n",
      "9             покупка жилья для семьи                   -1             5.0   \n",
      "10               покупка недвижимости                   -1            11.0   \n",
      "11  покупка коммерческой недвижимости                   -1             2.0   \n",
      "12                    сыграть свадьбу                    1             NaN   \n",
      "13            приобретение автомобиля                   -1             5.0   \n",
      "14         покупка жилой недвижимости                   -1             5.0   \n",
      "\n",
      "                               purpose_lemma  \n",
      "0                         покупка   жилье \\n  \n",
      "1               приобретение   автомобиль \\n  \n",
      "2                         покупка   жилье \\n  \n",
      "3            дополнительный   образование \\n  \n",
      "4                       сыграть   свадьба \\n  \n",
      "5                         покупка   жилье \\n  \n",
      "6                    операция   с   жилье \\n  \n",
      "7                             образование \\n  \n",
      "8               на   проведение   свадьба \\n  \n",
      "9           покупка   жилье   для   семья \\n  \n",
      "10                 покупка   недвижимость \\n  \n",
      "11  покупка   коммерческий   недвижимость \\n  \n",
      "12                      сыграть   свадьба \\n  \n",
      "13              приобретение   автомобиль \\n  \n",
      "14         покупка   жилой   недвижимость \\n  \n"
     ]
    }
   ],
   "source": [
    "from pymystem3 import Mystem\n",
    "m = Mystem()\n",
    "def lemma(text):\n",
    "    return ' '.join(m.lemmatize(text))\n",
    "data['purpose_lemma'] = data['purpose'].apply(lemma)\n",
    "print(data.head(15))"
   ]
  },
  {
   "cell_type": "code",
   "execution_count": 26,
   "metadata": {},
   "outputs": [
    {
     "name": "stdout",
     "output_type": "stream",
     "text": [
      "['покупка   жилье \\n' 'приобретение   автомобиль \\n'\n",
      " 'дополнительный   образование \\n' 'сыграть   свадьба \\n'\n",
      " 'операция   с   жилье \\n' 'образование \\n' 'на   проведение   свадьба \\n'\n",
      " 'покупка   жилье   для   семья \\n' 'покупка   недвижимость \\n'\n",
      " 'покупка   коммерческий   недвижимость \\n'\n",
      " 'покупка   жилой   недвижимость \\n'\n",
      " 'строительство   собственный   недвижимость \\n' 'недвижимость \\n'\n",
      " 'строительство   недвижимость \\n'\n",
      " 'на   покупка   подержать   автомобиль \\n'\n",
      " 'на   покупка   свой   автомобиль \\n'\n",
      " 'операция   с   коммерческий   недвижимость \\n'\n",
      " 'строительство   жилой   недвижимость \\n' 'жилье \\n'\n",
      " 'операция   со   свой   недвижимость \\n' 'автомобиль \\n'\n",
      " 'заниматься   образование \\n' 'сделка   с   подержанный   автомобиль \\n'\n",
      " 'получение   образование \\n' 'свадьба \\n'\n",
      " 'получение   дополнительный   образование \\n' 'покупка   свой   жилье \\n'\n",
      " 'операция   с   недвижимость \\n' 'получение   высокий   образование \\n'\n",
      " 'свой   автомобиль \\n' 'сделка   с   автомобиль \\n'\n",
      " 'профильный   образование \\n' 'высокий   образование \\n'\n",
      " 'покупка   жилье   для   сдача \\n' 'на   покупка   автомобиль \\n'\n",
      " 'ремонт   жилье \\n' 'заниматься   высокий   образование \\n']\n"
     ]
    }
   ],
   "source": [
    "print(data['purpose_lemma'].unique())"
   ]
  },
  {
   "cell_type": "markdown",
   "metadata": {},
   "source": [
    "Получилось создать столбец с леммой для каждой строчки.  \n",
    "Теперь создадим функцию и применим метод *apply()* для создания столбца с классификацией целей."
   ]
  },
  {
   "cell_type": "code",
   "execution_count": 33,
   "metadata": {},
   "outputs": [
    {
     "name": "stdout",
     "output_type": "stream",
     "text": [
      "<class 'dict'>\n"
     ]
    }
   ],
   "source": [
    "classification = { 'недвижимость': 'приобретение или ремонт недвижимости', 'жилье': 'приобретение или ремонт недвижимости', 'свадьба': 'свадьба', 'автомобиль': 'приобретение автомобиля', 'образование': 'образование' }\n",
    "print(type(classification))"
   ]
  },
  {
   "cell_type": "code",
   "execution_count": 39,
   "metadata": {},
   "outputs": [
    {
     "name": "stdout",
     "output_type": "stream",
     "text": [
      "   children  days_employed  dob_days education  education_id  \\\n",
      "0         1           8437        42    высшее             0   \n",
      "1         1           4024        36   среднее             1   \n",
      "2         0           5623        33   среднее             1   \n",
      "3         3           4124        32   среднее             1   \n",
      "4         0         340266        53   среднее             1   \n",
      "\n",
      "      family_status  family_status_id gender income_type  debt  total_income  \\\n",
      "0   женат / замужем                 0      F   сотрудник     0        253875   \n",
      "1   женат / замужем                 0      F   сотрудник     0        112080   \n",
      "2   женат / замужем                 0      M   сотрудник     0        145885   \n",
      "3   женат / замужем                 0      M   сотрудник     0        267628   \n",
      "4  гражданский брак                 1      F   пенсионер     0        158616   \n",
      "\n",
      "                      purpose  days_employed_group  years_employed  \\\n",
      "0               покупка жилья                   -1            23.0   \n",
      "1     приобретение автомобиля                   -1            11.0   \n",
      "2               покупка жилья                   -1            15.0   \n",
      "3  дополнительное образование                   -1            11.0   \n",
      "4             сыграть свадьбу                    1           932.0   \n",
      "\n",
      "                     purpose_lemma                         purpose_group  \n",
      "0               покупка   жилье \\n  приобретение или ремонт недвижимости  \n",
      "1     приобретение   автомобиль \\n               приобретение автомобиля  \n",
      "2               покупка   жилье \\n  приобретение или ремонт недвижимости  \n",
      "3  дополнительный   образование \\n                           образование  \n",
      "4             сыграть   свадьба \\n                               свадьба  \n"
     ]
    }
   ],
   "source": [
    "def purpose_group(text):\n",
    "    for key in classification:\n",
    "        if key in text:\n",
    "            return classification.get(key)\n",
    "data['purpose_group'] = data['purpose_lemma'].apply(purpose_group)\n",
    "print(data.head())"
   ]
  },
  {
   "cell_type": "markdown",
   "metadata": {},
   "source": [
    "Все варианты удалось распределить по 4 категориям."
   ]
  },
  {
   "cell_type": "markdown",
   "metadata": {},
   "source": [
    "### Категоризация данных и создание словарей"
   ]
  },
  {
   "cell_type": "markdown",
   "metadata": {},
   "source": [
    "Начнем с целей кредита, с которыми только что работали. Создадим словарь, который позволит позволит впоследствии создать более компактный датафрейм с данными, к которым мы будем обращаться.  \n",
    "Для начала \"оцифруем\" категории"
   ]
  },
  {
   "cell_type": "code",
   "execution_count": 25,
   "metadata": {},
   "outputs": [
    {
     "name": "stdout",
     "output_type": "stream",
     "text": [
      "1    10840\n",
      "3     4315\n",
      "4     4022\n",
      "2     2348\n",
      "Name: purpose_id, dtype: int64\n"
     ]
    }
   ],
   "source": [
    "def purpose_category(purpose):\n",
    "    if purpose == 'приобретение или ремонт недвижимости':\n",
    "        return 1\n",
    "    if purpose == 'свадьба':\n",
    "        return 2\n",
    "    if purpose == 'приобретение автомобиля':\n",
    "        return 3\n",
    "    if purpose == 'образование':\n",
    "        return 4\n",
    "data['purpose_id'] = data['purpose_group'].apply(purpose_category)\n",
    "data['purpose_id'] = data['purpose_id'].astype(int)\n",
    "print(data['purpose_id'].value_counts())"
   ]
  },
  {
   "cell_type": "markdown",
   "metadata": {},
   "source": [
    "Создаем словарь и удаляем дубликаты"
   ]
  },
  {
   "cell_type": "code",
   "execution_count": 26,
   "metadata": {},
   "outputs": [
    {
     "name": "stdout",
     "output_type": "stream",
     "text": [
      "                          purpose_group  purpose_id\n",
      "0  приобретение или ремонт недвижимости           1\n",
      "3                               свадьба           2\n",
      "1               приобретение автомобиля           3\n",
      "2                           образование           4\n"
     ]
    }
   ],
   "source": [
    "purpose_dict = data[['purpose_group','purpose_id']]\n",
    "purpose_dict = purpose_dict.drop_duplicates().reset_index(drop=True)\n",
    "print(purpose_dict.sort_values('purpose_id'))"
   ]
  },
  {
   "cell_type": "markdown",
   "metadata": {},
   "source": [
    "Приступим к классификации данных и созданию словарей для трех других параметров, для которых планируется анализ кредитоспособности.   \n",
    "Начнем с наличия детей.\n",
    "Первым делом проверим, на какие категории имеет смысл разбивать "
   ]
  },
  {
   "cell_type": "code",
   "execution_count": 27,
   "metadata": {},
   "outputs": [
    {
     "name": "stdout",
     "output_type": "stream",
     "text": [
      "0    14149\n",
      "1     4865\n",
      "2     2131\n",
      "3      330\n",
      "4       41\n",
      "5        9\n",
      "Name: children, dtype: int64\n"
     ]
    }
   ],
   "source": [
    "print(data['children'].value_counts())"
   ]
  },
  {
   "cell_type": "markdown",
   "metadata": {},
   "source": [
    "Наверное, можно было бы выделить отдельно группу семей с двумя и более детьми. Но это не очень целесообразно, поскольку эта группа была бы сравнительно небольшой. Выделим две категории: семьи с детьми и без детей"
   ]
  },
  {
   "cell_type": "code",
   "execution_count": 28,
   "metadata": {},
   "outputs": [
    {
     "name": "stdout",
     "output_type": "stream",
     "text": [
      "Нет детей    14149\n",
      "Есть дети     7376\n",
      "Name: children_group, dtype: int64\n"
     ]
    }
   ],
   "source": [
    "def children_group(number): \n",
    "    if number == 0:\n",
    "        return 'Нет детей'\n",
    "    return 'Есть дети'\n",
    "data['children_group'] = data['children'].apply(children_group)\n",
    "print(data['children_group'].value_counts())"
   ]
  },
  {
   "cell_type": "markdown",
   "metadata": {},
   "source": [
    "Здесь всего два значения, нет особого смысла создавать словарь, с этой переменной будет работать достаточно просто."
   ]
  },
  {
   "cell_type": "markdown",
   "metadata": {},
   "source": [
    "Проанализируем ситуацию с семейным положением."
   ]
  },
  {
   "cell_type": "code",
   "execution_count": 29,
   "metadata": {},
   "outputs": [
    {
     "name": "stdout",
     "output_type": "stream",
     "text": [
      "женат / замужем          12380\n",
      "гражданский брак          4177\n",
      "Не женат / не замужем     2813\n",
      "в разводе                 1195\n",
      "вдовец / вдова             960\n",
      "Name: family_status, dtype: int64\n"
     ]
    }
   ],
   "source": [
    "print(data['family_status'].value_counts())"
   ]
  },
  {
   "cell_type": "markdown",
   "metadata": {},
   "source": [
    "Откровенно говоря, не очень понятно, как именно объединять группы по семейному положению. Дело в том, что каждая из групп может по-разному вести себя в отношении возврата кредита. Например, вдруг официальная регистрация брака позитивно влияет на возврат кредита, а клиенты, которые не торопятся ставить штамп в паспорте, менее ответственны и в других вопросах?  \n",
    "Создадим словарь по имеющимся категориям, при необходимости сгруппируем на этапе анализа по сходству потребительского поведения."
   ]
  },
  {
   "cell_type": "code",
   "execution_count": 30,
   "metadata": {},
   "outputs": [
    {
     "name": "stdout",
     "output_type": "stream",
     "text": [
      "           family_status  family_status_id\n",
      "0        женат / замужем                 0\n",
      "1       гражданский брак                 1\n",
      "2         вдовец / вдова                 2\n",
      "3              в разводе                 3\n",
      "4  Не женат / не замужем                 4\n"
     ]
    }
   ],
   "source": [
    "family_status_dict = data[['family_status','family_status_id']]\n",
    "family_status_dict = family_status_dict.drop_duplicates().reset_index(drop=True)\n",
    "print(family_status_dict.sort_values('family_status_id'))"
   ]
  },
  {
   "cell_type": "markdown",
   "metadata": {},
   "source": [
    "Проанализируем ситуацию с уровнем дохода. Цель - разбить на несколько крупных и примерно равных по размеру категорий.  \n",
    "Для начала еще раз посмотрим на минимальное, максимальное, среднее и медианное значения."
   ]
  },
  {
   "cell_type": "code",
   "execution_count": 31,
   "metadata": {},
   "outputs": [
    {
     "name": "stdout",
     "output_type": "stream",
     "text": [
      "20667\n",
      "2265604\n",
      "156400.0\n",
      "167421.82174216027\n"
     ]
    }
   ],
   "source": [
    "print(data['total_income'].min())\n",
    "print(data['total_income'].max())\n",
    "print(data['total_income'].median())\n",
    "print(data['total_income'].mean())"
   ]
  },
  {
   "cell_type": "markdown",
   "metadata": {},
   "source": [
    "Попробуем разбить на 4 равных группы, используя классификацию по процентильным группам"
   ]
  },
  {
   "cell_type": "code",
   "execution_count": 32,
   "metadata": {},
   "outputs": [
    {
     "name": "stdout",
     "output_type": "stream",
     "text": [
      "1    5382\n",
      "4    5381\n",
      "3    5381\n",
      "2    5381\n",
      "Name: income_group_id, dtype: int64\n"
     ]
    }
   ],
   "source": [
    "import numpy as np\n",
    "cut_points = [np.percentile(data['total_income'], i) for i in [25, 50, 75]]\n",
    "data['income_group_id'] = 1\n",
    "for i in range(3):\n",
    "    data['income_group_id'] = data['income_group_id'] + (data['total_income'] < cut_points[i])\n",
    "print(data['income_group_id'].value_counts())"
   ]
  },
  {
   "cell_type": "code",
   "execution_count": 33,
   "metadata": {},
   "outputs": [
    {
     "name": "stdout",
     "output_type": "stream",
     "text": [
      "                total_income         \n",
      "                         min      max\n",
      "income_group_id                      \n",
      "1                     195543  2265604\n",
      "2                     156400   195537\n",
      "3                     107798   156373\n",
      "4                      20667   107789\n"
     ]
    }
   ],
   "source": [
    "print(data.groupby('income_group_id').agg({'total_income':['min', 'max']})) #проверим корректность разделения"
   ]
  },
  {
   "cell_type": "markdown",
   "metadata": {},
   "source": [
    "Создадим столбец с обозначениями групп по доходу."
   ]
  },
  {
   "cell_type": "code",
   "execution_count": 34,
   "metadata": {},
   "outputs": [
    {
     "name": "stdout",
     "output_type": "stream",
     "text": [
      "Высокий          5382\n",
      "Выше среднего    5381\n",
      "Ниже среднего    5381\n",
      "Низкий           5381\n",
      "Name: income_group, dtype: int64\n"
     ]
    }
   ],
   "source": [
    "def income_group (income_group_id):\n",
    "    if income_group_id == 1:\n",
    "        return 'Высокий'\n",
    "    if income_group_id == 2:\n",
    "        return 'Выше среднего'\n",
    "    if income_group_id == 3:\n",
    "        return 'Ниже среднего'\n",
    "    if income_group_id == 4:\n",
    "        return 'Низкий'\n",
    "data['income_group'] = data['income_group_id'].apply(income_group)\n",
    "print(data['income_group'].value_counts())"
   ]
  },
  {
   "cell_type": "markdown",
   "metadata": {},
   "source": [
    "Создадим словарь с группами по доходу."
   ]
  },
  {
   "cell_type": "code",
   "execution_count": 35,
   "metadata": {},
   "outputs": [
    {
     "name": "stdout",
     "output_type": "stream",
     "text": [
      "    income_group  income_group_id\n",
      "0        Высокий                1\n",
      "2  Выше среднего                2\n",
      "1  Ниже среднего                3\n",
      "3         Низкий                4\n"
     ]
    }
   ],
   "source": [
    "income_group_dict = data[['income_group','income_group_id']]\n",
    "income_group_dict = income_group_dict.drop_duplicates().reset_index(drop=True)\n",
    "print(income_group_dict.sort_values('income_group_id'))"
   ]
  },
  {
   "cell_type": "markdown",
   "metadata": {},
   "source": [
    "## Задание 2. Анализ данных"
   ]
  },
  {
   "cell_type": "markdown",
   "metadata": {},
   "source": [
    "### Анализ зависимости между различными параметрами клиентов и возвратом кредита в срок"
   ]
  },
  {
   "cell_type": "markdown",
   "metadata": {},
   "source": [
    "Для начала создадим датафрейм с теми столбцами, которые нам понадобятся для дальнейшего анализа.  \n",
    "Дополнительно будем использовать словари"
   ]
  },
  {
   "cell_type": "code",
   "execution_count": 36,
   "metadata": {},
   "outputs": [
    {
     "name": "stdout",
     "output_type": "stream",
     "text": [
      "  children_group  family_status_id  income_group_id  purpose_id  debt\n",
      "0      Есть дети                 0                1           1     0\n",
      "1      Есть дети                 0                3           3     0\n",
      "2      Нет детей                 0                3           1     0\n",
      "3      Есть дети                 0                1           4     0\n",
      "4      Нет детей                 1                2           2     0\n",
      "5      Нет детей                 1                1           1     0\n",
      "6      Нет детей                 0                1           1     0\n",
      "7      Нет детей                 0                3           4     0\n",
      "8      Есть дети                 1                4           2     0\n",
      "9      Нет детей                 0                3           1     0\n"
     ]
    }
   ],
   "source": [
    "debt_return = data[['children_group', 'family_status_id', 'income_group_id', 'purpose_id', 'debt']]\n",
    "print(debt_return.head(10))"
   ]
  },
  {
   "cell_type": "markdown",
   "metadata": {},
   "source": [
    "Посмотрим на долю невозвращенных долгов по каждой группе."
   ]
  },
  {
   "cell_type": "markdown",
   "metadata": {},
   "source": [
    "Проанализируем данные по долгам в разрезе **уровня дохода**."
   ]
  },
  {
   "cell_type": "code",
   "execution_count": 37,
   "metadata": {},
   "outputs": [
    {
     "name": "stdout",
     "output_type": "stream",
     "text": [
      "  children_group  family_status_id  income_group_id  purpose_id  debt  \\\n",
      "0      Есть дети                 0                1           1     0   \n",
      "1      Есть дети                 0                3           3     0   \n",
      "2      Нет детей                 0                3           1     0   \n",
      "3      Есть дети                 0                1           4     0   \n",
      "4      Нет детей                 1                2           2     0   \n",
      "5      Нет детей                 1                1           1     0   \n",
      "6      Нет детей                 0                1           1     0   \n",
      "7      Нет детей                 0                3           4     0   \n",
      "8      Есть дети                 1                4           2     0   \n",
      "9      Нет детей                 0                3           1     0   \n",
      "\n",
      "    income_group  \n",
      "0        Высокий  \n",
      "1  Ниже среднего  \n",
      "2  Ниже среднего  \n",
      "3        Высокий  \n",
      "4  Выше среднего  \n",
      "5        Высокий  \n",
      "6        Высокий  \n",
      "7  Ниже среднего  \n",
      "8         Низкий  \n",
      "9  Ниже среднего  \n"
     ]
    }
   ],
   "source": [
    "debt_return = debt_return.merge(income_group_dict, on='income_group_id', how='left')#подтягиваем словарь с обозначением групп по доходу\n",
    "print(debt_return.head(10))"
   ]
  },
  {
   "cell_type": "code",
   "execution_count": 38,
   "metadata": {},
   "outputs": [
    {
     "name": "stdout",
     "output_type": "stream",
     "text": [
      "               debt          ratio\n",
      "              count  sum          \n",
      "income_group                      \n",
      "Высокий        5382  386  0.071721\n",
      "Выше среднего  5381  456  0.084743\n",
      "Ниже среднего  5381  472  0.087716\n",
      "Низкий         5381  427  0.079353\n"
     ]
    }
   ],
   "source": [
    "income_group_debt = debt_return.groupby('income_group').agg({'debt':['count', 'sum']}) #создаем датафрейм, сгруппированный по уровню дохода, с новыми столбцами с информацией об общем количестве клиентов в каждой группе и количестве клиентов с просроченным возвратом долга\n",
    "income_group_debt['ratio'] = income_group_debt['debt']['sum'] / income_group_debt['debt']['count'] #создаем столбец с долей должников\n",
    "print(income_group_debt)"
   ]
  },
  {
   "cell_type": "markdown",
   "metadata": {},
   "source": [
    "Результаты достаточно интересны: наиболее ответственны в плане возврата кредитов клиенты с высоким доходом (что понятно, так как им достаточно просто расплачиваться по кредитным обязательствам) и низким.  \n",
    "Второй результат достаточно неожиданный: вероятно, клиенты с низким доходом стремятся не попасть в \"долговую яму\" и, взяв кредит, тщательно следят за выплатами."
   ]
  },
  {
   "cell_type": "markdown",
   "metadata": {},
   "source": [
    "Проанализируем данные по долгам в разрезе **наличия детей**."
   ]
  },
  {
   "cell_type": "code",
   "execution_count": 39,
   "metadata": {},
   "outputs": [
    {
     "name": "stdout",
     "output_type": "stream",
     "text": [
      "                 debt           ratio\n",
      "                count   sum          \n",
      "children_group                       \n",
      "Есть дети        7376   678  0.091920\n",
      "Нет детей       14149  1063  0.075129\n"
     ]
    }
   ],
   "source": [
    "children_group_debt = debt_return.groupby('children_group').agg({'debt':['count', 'sum']})\n",
    "children_group_debt['ratio'] = children_group_debt['debt']['sum'] / children_group_debt['debt']['count'] \n",
    "print(children_group_debt)"
   ]
  },
  {
   "cell_type": "markdown",
   "metadata": {},
   "source": [
    "Итак, заемщики с детьми менее надежны, чем бездетные. У них одна надежда: что у кредитного менеджера тоже есть дети..."
   ]
  },
  {
   "cell_type": "markdown",
   "metadata": {},
   "source": [
    "Проанализируем данные по долгам в разрезе **семейного положения**."
   ]
  },
  {
   "cell_type": "code",
   "execution_count": 40,
   "metadata": {},
   "outputs": [
    {
     "name": "stdout",
     "output_type": "stream",
     "text": [
      "                        debt          ratio\n",
      "                       count  sum          \n",
      "family_status                              \n",
      "Не женат / не замужем   2813  274  0.097405\n",
      "в разводе               1195   85  0.071130\n",
      "вдовец / вдова           960   63  0.065625\n",
      "гражданский брак        4177  388  0.092890\n",
      "женат / замужем        12380  931  0.075202\n"
     ]
    }
   ],
   "source": [
    "debt_return = debt_return.merge(family_status_dict, on='family_status_id', how='left')\n",
    "family_status_debt = debt_return.groupby('family_status').agg({'debt':['count', 'sum']})\n",
    "family_status_debt['ratio'] = family_status_debt['debt']['sum'] / family_status_debt['debt']['count'] \n",
    "print(family_status_debt)"
   ]
  },
  {
   "cell_type": "markdown",
   "metadata": {},
   "source": [
    "Как и ожидалось, четкие критерии для категоризации клиентов по семейному положению выработать сложно.  \n",
    "Наименее надежные категории - холостые/незамужние и состоящие в гражданском браке.  \n",
    "Лучше всего отдают кредиты - вдовы/вдовцы, чуть похуже - разведенные и состоящие в официальном браке"
   ]
  },
  {
   "cell_type": "markdown",
   "metadata": {},
   "source": [
    "Проанализируем данные по долгам в разрезе **целей кредита**."
   ]
  },
  {
   "cell_type": "code",
   "execution_count": 41,
   "metadata": {},
   "outputs": [
    {
     "name": "stdout",
     "output_type": "stream",
     "text": [
      "                                       debt          ratio\n",
      "                                      count  sum          \n",
      "purpose_group                                             \n",
      "образование                            4022  370  0.091994\n",
      "приобретение автомобиля                4315  403  0.093395\n",
      "приобретение или ремонт недвижимости  10840  782  0.072140\n",
      "свадьба                                2348  186  0.079216\n"
     ]
    }
   ],
   "source": [
    "debt_return = debt_return.merge(purpose_dict, on='purpose_id', how='left')\n",
    "purpose_group_debt = debt_return.groupby('purpose_group').agg({'debt':['count', 'sum']})\n",
    "purpose_group_debt['ratio'] = purpose_group_debt['debt']['sum'] / purpose_group_debt['debt']['count'] \n",
    "print(purpose_group_debt)"
   ]
  },
  {
   "cell_type": "markdown",
   "metadata": {},
   "source": [
    "Хуже всего отдают кредит те, у кто берут его для получения образования и приобретения автомобиля.  \n",
    "Заемщики, приобретающие недвижимость или нуждающиеся в кредите для проведения свадьбы, более надежны."
   ]
  },
  {
   "cell_type": "markdown",
   "metadata": {},
   "source": [
    "### Результаты анализа"
   ]
  },
  {
   "cell_type": "markdown",
   "metadata": {},
   "source": [
    "После анализа данных можно сделать следующие выводы.  \n",
    "1. Кредитоспособность заемщиков связана с целым рядом различных параметров.\n",
    "2. Во-первых, выяснилось, что более надежны в плане своевременного возврата кредита заемщики без детей. Очевидно, что это связано с более высокой финансовой нагрузкой, которую испытывают семьи с детьми.\n",
    "3. Во-вторых, нет однозначной связи между уровнем дохода и возвратом кредита в срок.    \n",
    "  A. Наиболее ответственны в плане возврата кредитов клиенты с высоким доходом, что объяснимо, так как им проще расплачиваться по кредитным обязательствам.  \n",
    "  B. Интересно, что на втором месте по надежности оказались заещики с низким доходом. Вероятно, такие клиенты стремятся не попасть в \"долговую яму\" и, взяв кредит, тщательно следят за выплатами.\n",
    "4. Как и ожидалось, четкие критерии для категоризации клиентов по семейному положения выработать сложно.  \n",
    "  A. Наименее надежные категории - холостые/незамужние и состоящие в гражданском браке. По всей видимости, это наиболее молодые и наименее ответственные сегменты заемщиков.  \n",
    "  B. Лучше всего отдают кредиты - вдовы/вдовцы, что, по всей видимости, связано с высоким уровнем финансовой ответственности старшего поколения.  \n",
    "  C. Чуть менее надежны, чем вдовы, - разведенные и состоящие в официальном браке. Сам факт регистрации отношений (пусть и в прошлом), возможно, связан с уровнем ответственности клиента.  \n",
    "5. С точки зрения целей кредита, можно сформулировать следующее утверждение: более надежны те заемщики, которые берут кредит, на цели, связанные с созданием семьи.  \n",
    "  A. Меньше всего просроченных кредитов среди тех, кто взял заем на покупку недвижимости или организацию свадьбы. Понятно, что среди покупателей недвижимости есть не только семейные, тем не менее, определенная взаимосвязь существует.  \n",
    "  B. Хуже всего отдают кредит те, у кто берут его для получения образования и приобретения автомобиля."
   ]
  }
 ],
 "metadata": {
  "kernelspec": {
   "display_name": "Python 3",
   "language": "python",
   "name": "python3"
  },
  "language_info": {
   "codemirror_mode": {
    "name": "ipython",
    "version": 3
   },
   "file_extension": ".py",
   "mimetype": "text/x-python",
   "name": "python",
   "nbconvert_exporter": "python",
   "pygments_lexer": "ipython3",
   "version": "3.7.3"
  },
  "toc": {
   "base_numbering": 1,
   "nav_menu": {},
   "number_sections": true,
   "sideBar": true,
   "skip_h1_title": true,
   "title_cell": "Table of Contents",
   "title_sidebar": "Contents",
   "toc_cell": false,
   "toc_position": {},
   "toc_section_display": true,
   "toc_window_display": false
  }
 },
 "nbformat": 4,
 "nbformat_minor": 2
}
