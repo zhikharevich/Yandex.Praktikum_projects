{
 "cells": [
  {
   "cell_type": "markdown",
   "metadata": {},
   "source": [
    "# Проект 2. Исследовательский анализ данных"
   ]
  },
  {
   "cell_type": "markdown",
   "metadata": {},
   "source": [
    "## 1. Предобработка данных и предварительный анализ"
   ]
  },
  {
   "cell_type": "markdown",
   "metadata": {},
   "source": [
    "### Изучение информации о файле"
   ]
  },
  {
   "cell_type": "markdown",
   "metadata": {},
   "source": [
    "Выводим файл и смотрим общую информацию о данных."
   ]
  },
  {
   "cell_type": "code",
   "execution_count": 1,
   "metadata": {},
   "outputs": [
    {
     "name": "stdout",
     "output_type": "stream",
     "text": [
      "  building_series_id\\ttotal_images\\tlast_price\\ttotal_area\\tfirst_day_exposition\\trooms\\tceiling_height\\tfloors_total\\tliving_area\\tfloor\\tis_apartment\\tstudio\\tarea\\topen_plan\\tkitchen_area\\tbalcony\\tlocality_name\\tairports_nearest\\tcityCenters_nearest\\tparks_around3000\\tparks_nearest\\tponds_around3000\\tponds_nearest\\tdays_exposition\n",
      "0  1564812\\t20\\t13000000.0\\t108.0\\t2019-03-07T00:...                                                                                                                                                                                                                                                                                            \n",
      "1  \\t7\\t3350000.0\\t40.4\\t2018-12-04T00:00:00\\t1\\t...                                                                                                                                                                                                                                                                                            \n",
      "2  Сталинский\\t10\\t5196000.0\\t56.0\\t2015-08-20T00...                                                                                                                                                                                                                                                                                            \n",
      "3  \\t0\\t64900000.0\\t159.0\\t2015-07-24T00:00:00\\t3...                                                                                                                                                                                                                                                                                            \n",
      "4  \\t2\\t10000000.0\\t100.0\\t2018-06-19T00:00:00\\t2...                                                                                                                                                                                                                                                                                            \n"
     ]
    }
   ],
   "source": [
    "import pandas as pd\n",
    "data = pd.read_csv('/datasets/real_estate_data.csv')\n",
    "print(data.head())"
   ]
  },
  {
   "cell_type": "markdown",
   "metadata": {},
   "source": [
    "В данном случае разделитель - знак табуляции, а не запятая, необходимо добавить уточнение в функцию read_csv."
   ]
  },
  {
   "cell_type": "code",
   "execution_count": 2,
   "metadata": {},
   "outputs": [
    {
     "name": "stdout",
     "output_type": "stream",
     "text": [
      "  building_series_id  total_images  last_price  total_area  \\\n",
      "0            1564812            20  13000000.0       108.0   \n",
      "1                NaN             7   3350000.0        40.4   \n",
      "2         Сталинский            10   5196000.0        56.0   \n",
      "3                NaN             0  64900000.0       159.0   \n",
      "4                NaN             2  10000000.0       100.0   \n",
      "\n",
      "  first_day_exposition  rooms  ceiling_height  floors_total  living_area  \\\n",
      "0  2019-03-07T00:00:00      3            2.70          16.0         51.0   \n",
      "1  2018-12-04T00:00:00      1             NaN          11.0         18.6   \n",
      "2  2015-08-20T00:00:00      2             NaN           5.0         34.3   \n",
      "3  2015-07-24T00:00:00      3             NaN          14.0          NaN   \n",
      "4  2018-06-19T00:00:00      2            3.03          14.0         32.0   \n",
      "\n",
      "   floor  ... kitchen_area  balcony    locality_name  airports_nearest  \\\n",
      "0      8  ...         25.0      NaN  Санкт-Петербург           18863.0   \n",
      "1      1  ...         11.0      2.0   посёлок Шушары           12817.0   \n",
      "2      4  ...          8.3      0.0  Санкт-Петербург           21741.0   \n",
      "3      9  ...          NaN      0.0  Санкт-Петербург           28098.0   \n",
      "4     13  ...         41.0      NaN  Санкт-Петербург           31856.0   \n",
      "\n",
      "   cityCenters_nearest  parks_around3000 parks_nearest  ponds_around3000  \\\n",
      "0              16028.0               1.0         482.0               2.0   \n",
      "1              18603.0               0.0           NaN               0.0   \n",
      "2              13933.0               1.0          90.0               2.0   \n",
      "3               6800.0               2.0          84.0               3.0   \n",
      "4               8098.0               2.0         112.0               1.0   \n",
      "\n",
      "   ponds_nearest  days_exposition  \n",
      "0          755.0              NaN  \n",
      "1            NaN             81.0  \n",
      "2          574.0            558.0  \n",
      "3          234.0            424.0  \n",
      "4           48.0            121.0  \n",
      "\n",
      "[5 rows x 24 columns]\n"
     ]
    }
   ],
   "source": [
    "data = pd.read_csv('/datasets/real_estate_data.csv', sep='\\t')\n",
    "print(data.head())"
   ]
  },
  {
   "cell_type": "markdown",
   "metadata": {},
   "source": [
    "Всего 24 столбца, уже видно, что много пропущенных значений. Посмотрим на структуру данных."
   ]
  },
  {
   "cell_type": "code",
   "execution_count": 3,
   "metadata": {},
   "outputs": [
    {
     "name": "stdout",
     "output_type": "stream",
     "text": [
      "<class 'pandas.core.frame.DataFrame'>\n",
      "RangeIndex: 23699 entries, 0 to 23698\n",
      "Data columns (total 24 columns):\n",
      "building_series_id      6517 non-null object\n",
      "total_images            23699 non-null int64\n",
      "last_price              23699 non-null float64\n",
      "total_area              23699 non-null float64\n",
      "first_day_exposition    23699 non-null object\n",
      "rooms                   23699 non-null int64\n",
      "ceiling_height          14504 non-null float64\n",
      "floors_total            23613 non-null float64\n",
      "living_area             21796 non-null float64\n",
      "floor                   23699 non-null int64\n",
      "is_apartment            2775 non-null object\n",
      "studio                  23699 non-null bool\n",
      "area                    23699 non-null float64\n",
      "open_plan               23699 non-null bool\n",
      "kitchen_area            21421 non-null float64\n",
      "balcony                 12180 non-null float64\n",
      "locality_name           23650 non-null object\n",
      "airports_nearest        18157 non-null float64\n",
      "cityCenters_nearest     18180 non-null float64\n",
      "parks_around3000        18181 non-null float64\n",
      "parks_nearest           8079 non-null float64\n",
      "ponds_around3000        18181 non-null float64\n",
      "ponds_nearest           9110 non-null float64\n",
      "days_exposition         20518 non-null float64\n",
      "dtypes: bool(2), float64(15), int64(3), object(4)\n",
      "memory usage: 4.0+ MB\n",
      "None\n"
     ]
    }
   ],
   "source": [
    "print(data.info())"
   ]
  },
  {
   "cell_type": "markdown",
   "metadata": {},
   "source": [
    "### Корректировка пропущенных значений и добавление столбцов"
   ]
  },
  {
   "cell_type": "markdown",
   "metadata": {},
   "source": [
    "К сожалению, лишь немногие столбцы в датафрейме могут похвастаться отсутствием пропущенных значений...  \n",
    "Начнем разбираться по порядку."
   ]
  },
  {
   "cell_type": "code",
   "execution_count": 4,
   "metadata": {},
   "outputs": [
    {
     "name": "stdout",
     "output_type": "stream",
     "text": [
      "1564812.0            2807\n",
      "1564812               998\n",
      "1564792.0             374\n",
      "1564801.0             311\n",
      "1564806.0             175\n",
      "1568627.0             144\n",
      "1564792               133\n",
      "1569071.0             133\n",
      "1564796.0             116\n",
      "1564801                92\n",
      "1569033.0              87\n",
      "1564806                67\n",
      "1569038.0              62\n",
      "Кирпичный              60\n",
      "1568627                52\n",
      "Кирп.Монолит           47\n",
      "1569066.0              46\n",
      "1564796                44\n",
      "1569071                40\n",
      "1568734.0              37\n",
      "1569033                32\n",
      "1568675.0              28\n",
      "1568643.0              26\n",
      "1569054.0              24\n",
      "1569088.0              23\n",
      "1569038                23\n",
      "Старый фонд            22\n",
      "Старый фонд с КР       22\n",
      "137 серия              21\n",
      "137                    19\n",
      "                     ... \n",
      "13                      2\n",
      "блочный                 2\n",
      "121 (Гатчинская)        2\n",
      "индивидуальный          2\n",
      "15                      2\n",
      "504Д                    1\n",
      "Г-24                    1\n",
      "1ЛГ-502                 1\n",
      "1-335-1                 1\n",
      "16                      1\n",
      "121 гатчинская          1\n",
      "II-18/9                 1\n",
      "504.0                   1\n",
      "ИТП                     1\n",
      "старый фонд с кр        1\n",
      "1-528 КП - 2            1\n",
      "Г-2И                    1\n",
      "663278.0                1\n",
      "1-528-КП-97             1\n",
      "14                      1\n",
      "1ЛГ-6066М               1\n",
      "121(гатчинская)         1\n",
      "121.0                   1\n",
      "монолит                 1\n",
      "Кирпичный монолит       1\n",
      "1-ЛГ-600-I              1\n",
      "Индивид.                1\n",
      "12                      1\n",
      "корабль                 1\n",
      "1 ЛГ - 600.11           1\n",
      "Name: building_series_id, Length: 121, dtype: int64\n"
     ]
    }
   ],
   "source": [
    "print(data['building_series_id'].value_counts()) #смотрим на уникальные значения и их количество в столбце building_series_id"
   ]
  },
  {
   "cell_type": "markdown",
   "metadata": {},
   "source": [
    "Пока эта переменная не выглядит жизнеспособной: слишком много пропущенных значений, а имеющиеся значения в основном невозможно идентифицировать: чаще всего, это просто коды. Похоже, параметр не удастся использовать при дальнейшем анализе, хотя очевидно, что тип здания вполне может влиять на стоимость. Необходимо обратиться к поставщикам данных и уточнить, каким образом собирается эта информация. Возможно, нужно ввести коррективы в процесс сбора и/или хранения этого типа данных."
   ]
  },
  {
   "cell_type": "code",
   "execution_count": 5,
   "metadata": {},
   "outputs": [
    {
     "name": "stdout",
     "output_type": "stream",
     "text": [
      "10    1798\n",
      "9     1725\n",
      "20    1694\n",
      "8     1585\n",
      "7     1521\n",
      "6     1482\n",
      "11    1362\n",
      "5     1301\n",
      "12    1225\n",
      "0     1059\n",
      "13    1015\n",
      "14     986\n",
      "4      986\n",
      "15     948\n",
      "1      872\n",
      "3      769\n",
      "16     761\n",
      "17     650\n",
      "18     642\n",
      "2      640\n",
      "19     603\n",
      "23      16\n",
      "21      12\n",
      "24       8\n",
      "22       8\n",
      "26       5\n",
      "28       4\n",
      "32       4\n",
      "50       3\n",
      "29       3\n",
      "31       2\n",
      "35       2\n",
      "30       2\n",
      "27       2\n",
      "37       1\n",
      "39       1\n",
      "25       1\n",
      "42       1\n",
      "Name: total_images, dtype: int64\n"
     ]
    }
   ],
   "source": [
    "print(data['total_images'].value_counts()) #смотрим на уникальные значения и их количество в столбце total_images"
   ]
  },
  {
   "cell_type": "markdown",
   "metadata": {},
   "source": [
    "С этой переменной, похоже, все в порядке. Количество фотографий более 30 выглядит странно, но теоретически эта цифра возможна. В любом случае, не стоит ожидать от этого параметра большой предсказательной силы в отношении цены квартиры )"
   ]
  },
  {
   "cell_type": "markdown",
   "metadata": {},
   "source": [
    "Детально разбираться с переменной last_price будем позднее, поскольку это ключевая переменная.  \n",
    "Пока посмотрим на ее основные параметры."
   ]
  },
  {
   "cell_type": "code",
   "execution_count": 6,
   "metadata": {},
   "outputs": [
    {
     "data": {
      "text/plain": [
       "count    2.369900e+04\n",
       "mean     6.541549e+06\n",
       "std      1.088701e+07\n",
       "min      1.219000e+04\n",
       "25%      3.400000e+06\n",
       "50%      4.650000e+06\n",
       "75%      6.800000e+06\n",
       "max      7.630000e+08\n",
       "Name: last_price, dtype: float64"
      ]
     },
     "execution_count": 6,
     "metadata": {},
     "output_type": "execute_result"
    }
   ],
   "source": [
    "data['last_price'].describe()"
   ]
  },
  {
   "cell_type": "markdown",
   "metadata": {},
   "source": [
    "Странно выглядит и минимальная цена (12 тысяч), и максимальная (763 миллиона), видимо, данные придется чистить.  \n",
    "Среднее почти в полтора раза больше медианы.  \n",
    "Изменим тип данных на целое число, так как при таких значениях копейки не имеют значения."
   ]
  },
  {
   "cell_type": "code",
   "execution_count": 3,
   "metadata": {},
   "outputs": [
    {
     "name": "stdout",
     "output_type": "stream",
     "text": [
      "<class 'pandas.core.frame.DataFrame'>\n",
      "RangeIndex: 23699 entries, 0 to 23698\n",
      "Data columns (total 24 columns):\n",
      "building_series_id      6517 non-null object\n",
      "total_images            23699 non-null int64\n",
      "last_price              23699 non-null int64\n",
      "total_area              23699 non-null float64\n",
      "first_day_exposition    23699 non-null object\n",
      "rooms                   23699 non-null int64\n",
      "ceiling_height          14504 non-null float64\n",
      "floors_total            23613 non-null float64\n",
      "living_area             21796 non-null float64\n",
      "floor                   23699 non-null int64\n",
      "is_apartment            2775 non-null object\n",
      "studio                  23699 non-null bool\n",
      "area                    23699 non-null float64\n",
      "open_plan               23699 non-null bool\n",
      "kitchen_area            21421 non-null float64\n",
      "balcony                 12180 non-null float64\n",
      "locality_name           23650 non-null object\n",
      "airports_nearest        18157 non-null float64\n",
      "cityCenters_nearest     18180 non-null float64\n",
      "parks_around3000        18181 non-null float64\n",
      "parks_nearest           8079 non-null float64\n",
      "ponds_around3000        18181 non-null float64\n",
      "ponds_nearest           9110 non-null float64\n",
      "days_exposition         20518 non-null float64\n",
      "dtypes: bool(2), float64(14), int64(4), object(4)\n",
      "memory usage: 4.0+ MB\n",
      "None\n"
     ]
    }
   ],
   "source": [
    "data['last_price'] = data['last_price'].astype(int)\n",
    "print(data.info())"
   ]
  },
  {
   "cell_type": "code",
   "execution_count": 8,
   "metadata": {},
   "outputs": [
    {
     "data": {
      "text/plain": [
       "count    23699.000000\n",
       "mean        60.348651\n",
       "std         35.654083\n",
       "min         12.000000\n",
       "25%         40.000000\n",
       "50%         52.000000\n",
       "75%         69.900000\n",
       "max        900.000000\n",
       "Name: total_area, dtype: float64"
      ]
     },
     "execution_count": 8,
     "metadata": {},
     "output_type": "execute_result"
    }
   ],
   "source": [
    "data['total_area'].describe() #посмотрим на переменную total_area"
   ]
  },
  {
   "cell_type": "markdown",
   "metadata": {},
   "source": [
    "В целом, данные выглядят разумно, хотя 900 метров - это чересчур. Оставим эту переменную в формате float - дробные значения в принципе могут несколько увеличить точность оценки.  \n",
    "Создадим столбец с ценой за квадратный метр и приведем его к формату целого числа."
   ]
  },
  {
   "cell_type": "code",
   "execution_count": 4,
   "metadata": {},
   "outputs": [
    {
     "name": "stdout",
     "output_type": "stream",
     "text": [
      "<class 'pandas.core.frame.DataFrame'>\n",
      "RangeIndex: 23699 entries, 0 to 23698\n",
      "Data columns (total 25 columns):\n",
      "building_series_id      6517 non-null object\n",
      "total_images            23699 non-null int64\n",
      "last_price              23699 non-null int64\n",
      "total_area              23699 non-null float64\n",
      "first_day_exposition    23699 non-null object\n",
      "rooms                   23699 non-null int64\n",
      "ceiling_height          14504 non-null float64\n",
      "floors_total            23613 non-null float64\n",
      "living_area             21796 non-null float64\n",
      "floor                   23699 non-null int64\n",
      "is_apartment            2775 non-null object\n",
      "studio                  23699 non-null bool\n",
      "area                    23699 non-null float64\n",
      "open_plan               23699 non-null bool\n",
      "kitchen_area            21421 non-null float64\n",
      "balcony                 12180 non-null float64\n",
      "locality_name           23650 non-null object\n",
      "airports_nearest        18157 non-null float64\n",
      "cityCenters_nearest     18180 non-null float64\n",
      "parks_around3000        18181 non-null float64\n",
      "parks_nearest           8079 non-null float64\n",
      "ponds_around3000        18181 non-null float64\n",
      "ponds_nearest           9110 non-null float64\n",
      "days_exposition         20518 non-null float64\n",
      "price_per_sqm           23699 non-null int64\n",
      "dtypes: bool(2), float64(14), int64(5), object(4)\n",
      "memory usage: 4.2+ MB\n",
      "None\n"
     ]
    }
   ],
   "source": [
    "data['price_per_sqm'] = data['last_price'] / data['total_area']\n",
    "data['price_per_sqm'] = data['price_per_sqm'].astype(int)\n",
    "print(data.info())"
   ]
  },
  {
   "cell_type": "markdown",
   "metadata": {},
   "source": [
    "Столбец first_day_exposition необходимо перевести в формат даты для дальнейшего использования."
   ]
  },
  {
   "cell_type": "code",
   "execution_count": 5,
   "metadata": {
    "scrolled": true
   },
   "outputs": [
    {
     "name": "stdout",
     "output_type": "stream",
     "text": [
      "   building_series_id  total_images  last_price  total_area  \\\n",
      "0             1564812            20    13000000      108.00   \n",
      "1                 NaN             7     3350000       40.40   \n",
      "2          Сталинский            10     5196000       56.00   \n",
      "3                 NaN             0    64900000      159.00   \n",
      "4                 NaN             2    10000000      100.00   \n",
      "5                 NaN            10     2890000       30.40   \n",
      "6                 NaN             6     3700000       37.30   \n",
      "7                 NaN             5     7915000       71.60   \n",
      "8                 NaN            20     2900000       33.16   \n",
      "9                 NaN            18     5400000       61.00   \n",
      "10                NaN             5     5050000       39.60   \n",
      "11                NaN             9     3300000       44.00   \n",
      "12                NaN            10     3890000       54.00   \n",
      "13          1568627.0            20     3550000       42.80   \n",
      "14                NaN             1     4400000       36.00   \n",
      "\n",
      "   first_day_exposition  rooms  ceiling_height  floors_total  living_area  \\\n",
      "0            2019-03-07      3            2.70          16.0        51.00   \n",
      "1            2018-12-04      1             NaN          11.0        18.60   \n",
      "2            2015-08-20      2             NaN           5.0        34.30   \n",
      "3            2015-07-24      3             NaN          14.0          NaN   \n",
      "4            2018-06-19      2            3.03          14.0        32.00   \n",
      "5            2018-09-10      1             NaN          12.0        14.40   \n",
      "6            2017-11-02      1             NaN          26.0        10.60   \n",
      "7            2019-04-18      2             NaN          24.0          NaN   \n",
      "8            2018-05-23      1             NaN          27.0        15.43   \n",
      "9            2017-02-26      3            2.50           9.0        43.60   \n",
      "10           2017-11-16      1            2.67          12.0        20.30   \n",
      "11           2018-08-27      2             NaN           5.0        31.00   \n",
      "12           2016-06-30      2             NaN           5.0        30.00   \n",
      "13           2017-07-01      2            2.56           5.0        27.00   \n",
      "14           2016-06-23      1             NaN           6.0        17.00   \n",
      "\n",
      "    floor  ... balcony              locality_name  airports_nearest  \\\n",
      "0       8  ...     NaN            Санкт-Петербург           18863.0   \n",
      "1       1  ...     2.0             посёлок Шушары           12817.0   \n",
      "2       4  ...     0.0            Санкт-Петербург           21741.0   \n",
      "3       9  ...     0.0            Санкт-Петербург           28098.0   \n",
      "4      13  ...     NaN            Санкт-Петербург           31856.0   \n",
      "5       5  ...     NaN  городской посёлок Янино-1               NaN   \n",
      "6       6  ...     1.0          посёлок Парголово           52996.0   \n",
      "7      22  ...     2.0            Санкт-Петербург           23982.0   \n",
      "8      26  ...     NaN             посёлок Мурино               NaN   \n",
      "9       7  ...     2.0            Санкт-Петербург           50898.0   \n",
      "10      3  ...     NaN            Санкт-Петербург           38357.0   \n",
      "11      4  ...     1.0                  Ломоносов           48252.0   \n",
      "12      5  ...     0.0                  Сертолово               NaN   \n",
      "13      5  ...     1.0                   Петергоф           37868.0   \n",
      "14      1  ...     0.0                     Пушкин           20782.0   \n",
      "\n",
      "    cityCenters_nearest  parks_around3000  parks_nearest ponds_around3000  \\\n",
      "0               16028.0               1.0          482.0              2.0   \n",
      "1               18603.0               0.0            NaN              0.0   \n",
      "2               13933.0               1.0           90.0              2.0   \n",
      "3                6800.0               2.0           84.0              3.0   \n",
      "4                8098.0               2.0          112.0              1.0   \n",
      "5                   NaN               NaN            NaN              NaN   \n",
      "6               19143.0               0.0            NaN              0.0   \n",
      "7               11634.0               0.0            NaN              0.0   \n",
      "8                   NaN               NaN            NaN              NaN   \n",
      "9               15008.0               0.0            NaN              0.0   \n",
      "10              13878.0               1.0          310.0              2.0   \n",
      "11              51677.0               0.0            NaN              0.0   \n",
      "12                  NaN               NaN            NaN              NaN   \n",
      "13              33058.0               1.0          294.0              3.0   \n",
      "14              30759.0               0.0            NaN              1.0   \n",
      "\n",
      "    ponds_nearest  days_exposition  price_per_sqm  \n",
      "0           755.0              NaN         120370  \n",
      "1             NaN             81.0          82920  \n",
      "2           574.0            558.0          92785  \n",
      "3           234.0            424.0         408176  \n",
      "4            48.0            121.0         100000  \n",
      "5             NaN             55.0          95065  \n",
      "6             NaN            155.0          99195  \n",
      "7             NaN              NaN         110544  \n",
      "8             NaN            189.0          87454  \n",
      "9             NaN            289.0          88524  \n",
      "10          553.0            137.0         127525  \n",
      "11            NaN              7.0          75000  \n",
      "12            NaN             90.0          72037  \n",
      "13          298.0            366.0          82943  \n",
      "14           96.0            203.0         122222  \n",
      "\n",
      "[15 rows x 25 columns]\n"
     ]
    }
   ],
   "source": [
    "data['first_day_exposition'] = pd.to_datetime(data['first_day_exposition'], format='%Y-%m-%dT%H:%M:%S')\n",
    "print(data.head(15))"
   ]
  },
  {
   "cell_type": "markdown",
   "metadata": {},
   "source": [
    "Создадим отдельные столбцы с днем недели, месяцем и годом размещения объявления."
   ]
  },
  {
   "cell_type": "code",
   "execution_count": 6,
   "metadata": {
    "scrolled": true
   },
   "outputs": [
    {
     "name": "stdout",
     "output_type": "stream",
     "text": [
      "   building_series_id  total_images  last_price  total_area  \\\n",
      "0             1564812            20    13000000      108.00   \n",
      "1                 NaN             7     3350000       40.40   \n",
      "2          Сталинский            10     5196000       56.00   \n",
      "3                 NaN             0    64900000      159.00   \n",
      "4                 NaN             2    10000000      100.00   \n",
      "5                 NaN            10     2890000       30.40   \n",
      "6                 NaN             6     3700000       37.30   \n",
      "7                 NaN             5     7915000       71.60   \n",
      "8                 NaN            20     2900000       33.16   \n",
      "9                 NaN            18     5400000       61.00   \n",
      "10                NaN             5     5050000       39.60   \n",
      "11                NaN             9     3300000       44.00   \n",
      "12                NaN            10     3890000       54.00   \n",
      "13          1568627.0            20     3550000       42.80   \n",
      "14                NaN             1     4400000       36.00   \n",
      "\n",
      "   first_day_exposition  rooms  ceiling_height  floors_total  living_area  \\\n",
      "0            2019-03-07      3            2.70          16.0        51.00   \n",
      "1            2018-12-04      1             NaN          11.0        18.60   \n",
      "2            2015-08-20      2             NaN           5.0        34.30   \n",
      "3            2015-07-24      3             NaN          14.0          NaN   \n",
      "4            2018-06-19      2            3.03          14.0        32.00   \n",
      "5            2018-09-10      1             NaN          12.0        14.40   \n",
      "6            2017-11-02      1             NaN          26.0        10.60   \n",
      "7            2019-04-18      2             NaN          24.0          NaN   \n",
      "8            2018-05-23      1             NaN          27.0        15.43   \n",
      "9            2017-02-26      3            2.50           9.0        43.60   \n",
      "10           2017-11-16      1            2.67          12.0        20.30   \n",
      "11           2018-08-27      2             NaN           5.0        31.00   \n",
      "12           2016-06-30      2             NaN           5.0        30.00   \n",
      "13           2017-07-01      2            2.56           5.0        27.00   \n",
      "14           2016-06-23      1             NaN           6.0        17.00   \n",
      "\n",
      "    floor  ... cityCenters_nearest  parks_around3000  parks_nearest  \\\n",
      "0       8  ...             16028.0               1.0          482.0   \n",
      "1       1  ...             18603.0               0.0            NaN   \n",
      "2       4  ...             13933.0               1.0           90.0   \n",
      "3       9  ...              6800.0               2.0           84.0   \n",
      "4      13  ...              8098.0               2.0          112.0   \n",
      "5       5  ...                 NaN               NaN            NaN   \n",
      "6       6  ...             19143.0               0.0            NaN   \n",
      "7      22  ...             11634.0               0.0            NaN   \n",
      "8      26  ...                 NaN               NaN            NaN   \n",
      "9       7  ...             15008.0               0.0            NaN   \n",
      "10      3  ...             13878.0               1.0          310.0   \n",
      "11      4  ...             51677.0               0.0            NaN   \n",
      "12      5  ...                 NaN               NaN            NaN   \n",
      "13      5  ...             33058.0               1.0          294.0   \n",
      "14      1  ...             30759.0               0.0            NaN   \n",
      "\n",
      "    ponds_around3000  ponds_nearest  days_exposition price_per_sqm  \\\n",
      "0                2.0          755.0              NaN        120370   \n",
      "1                0.0            NaN             81.0         82920   \n",
      "2                2.0          574.0            558.0         92785   \n",
      "3                3.0          234.0            424.0        408176   \n",
      "4                1.0           48.0            121.0        100000   \n",
      "5                NaN            NaN             55.0         95065   \n",
      "6                0.0            NaN            155.0         99195   \n",
      "7                0.0            NaN              NaN        110544   \n",
      "8                NaN            NaN            189.0         87454   \n",
      "9                0.0            NaN            289.0         88524   \n",
      "10               2.0          553.0            137.0        127525   \n",
      "11               0.0            NaN              7.0         75000   \n",
      "12               NaN            NaN             90.0         72037   \n",
      "13               3.0          298.0            366.0         82943   \n",
      "14               1.0           96.0            203.0        122222   \n",
      "\n",
      "    exposition_weekday  exposition_month  exposition_year  \n",
      "0                    3                 3             2019  \n",
      "1                    1                12             2018  \n",
      "2                    3                 8             2015  \n",
      "3                    4                 7             2015  \n",
      "4                    1                 6             2018  \n",
      "5                    0                 9             2018  \n",
      "6                    3                11             2017  \n",
      "7                    3                 4             2019  \n",
      "8                    2                 5             2018  \n",
      "9                    6                 2             2017  \n",
      "10                   3                11             2017  \n",
      "11                   0                 8             2018  \n",
      "12                   3                 6             2016  \n",
      "13                   5                 7             2017  \n",
      "14                   3                 6             2016  \n",
      "\n",
      "[15 rows x 28 columns]\n"
     ]
    }
   ],
   "source": [
    "data['exposition_weekday'] = data['first_day_exposition'].dt.weekday\n",
    "data['exposition_month'] = data['first_day_exposition'].dt.month\n",
    "data['exposition_year'] = data['first_day_exposition'].dt.year\n",
    "print(data.head(15))"
   ]
  },
  {
   "cell_type": "code",
   "execution_count": 12,
   "metadata": {},
   "outputs": [
    {
     "name": "stdout",
     "output_type": "stream",
     "text": [
      "1     8047\n",
      "2     7940\n",
      "3     5814\n",
      "4     1180\n",
      "5      326\n",
      "0      197\n",
      "6      105\n",
      "7       59\n",
      "8       12\n",
      "9        8\n",
      "10       3\n",
      "14       2\n",
      "11       2\n",
      "19       1\n",
      "12       1\n",
      "16       1\n",
      "15       1\n",
      "Name: rooms, dtype: int64\n"
     ]
    }
   ],
   "source": [
    "print(data['rooms'].value_counts())"
   ]
  },
  {
   "cell_type": "markdown",
   "metadata": {},
   "source": [
    "Квартиры с количеством комнат более 8 выглядят странно, даже памятуя о питерских коммуналках. Вероятно, при последующем анализе придется их исключать.  \n",
    "Очень подозрительны также квартиры с 0 комнатами. Возможно, это студии или открытая планировка? Проверим."
   ]
  },
  {
   "cell_type": "code",
   "execution_count": 7,
   "metadata": {},
   "outputs": [
    {
     "name": "stdout",
     "output_type": "stream",
     "text": [
      "True     138\n",
      "False     59\n",
      "Name: studio, dtype: int64\n",
      "False    138\n",
      "True      59\n",
      "Name: open_plan, dtype: int64\n"
     ]
    }
   ],
   "source": [
    "print(data.query('rooms == 0')['studio'].value_counts())\n",
    "print(data.query('rooms == 0')['open_plan'].value_counts())"
   ]
  },
  {
   "cell_type": "markdown",
   "metadata": {},
   "source": [
    "Ага, все верно."
   ]
  },
  {
   "cell_type": "markdown",
   "metadata": {},
   "source": [
    "Посмотрим на следующую переменную - высоту потолков."
   ]
  },
  {
   "cell_type": "code",
   "execution_count": 14,
   "metadata": {},
   "outputs": [
    {
     "data": {
      "text/plain": [
       "count    14504.000000\n",
       "mean         2.771499\n",
       "std          1.261056\n",
       "min          1.000000\n",
       "25%          2.520000\n",
       "50%          2.650000\n",
       "75%          2.800000\n",
       "max        100.000000\n",
       "Name: ceiling_height, dtype: float64"
      ]
     },
     "execution_count": 14,
     "metadata": {},
     "output_type": "execute_result"
    }
   ],
   "source": [
    "data['ceiling_height'].describe()"
   ]
  },
  {
   "cell_type": "markdown",
   "metadata": {},
   "source": [
    "Вообще, есть очень странные значения: 100 метров и 1 метр, вероятно, и другие отклонения.  \n",
    "Построим гистограмму, импортируем для этого библиотеку matplotlib."
   ]
  },
  {
   "cell_type": "code",
   "execution_count": 9,
   "metadata": {},
   "outputs": [],
   "source": [
    "%matplotlib inline"
   ]
  },
  {
   "cell_type": "code",
   "execution_count": 10,
   "metadata": {},
   "outputs": [
    {
     "data": {
      "text/plain": [
       "<matplotlib.axes._subplots.AxesSubplot at 0x7f7db97d8be0>"
      ]
     },
     "execution_count": 10,
     "metadata": {},
     "output_type": "execute_result"
    },
    {
     "data": {
      "image/png": "[encoded data removed]",
      "text/plain": [
       "<Figure size 432x288 with 1 Axes>"
      ]
     },
     "metadata": {
      "needs_background": "light"
     },
     "output_type": "display_data"
    }
   ],
   "source": [
    "import matplotlib.pyplot as plt\n",
    "data['ceiling_height'].hist(bins=100, range=(1,5))"
   ]
  },
  {
   "cell_type": "markdown",
   "metadata": {},
   "source": [
    "Создадим переменную, удалив значения ниже 2,3м и выше 5м (в старых домах бывает такое,но вряд ли выше). Из-за большого разброса замена пропущенных на медианное значение может привести к искажению результатов."
   ]
  },
  {
   "cell_type": "code",
   "execution_count": 16,
   "metadata": {},
   "outputs": [
    {
     "name": "stdout",
     "output_type": "stream",
     "text": [
      "count    14452.000000\n",
      "mean         2.726060\n",
      "std          0.271125\n",
      "min          2.300000\n",
      "25%          2.520000\n",
      "50%          2.650000\n",
      "75%          2.800000\n",
      "max          5.000000\n",
      "Name: ceiling_height_correct, dtype: float64\n"
     ]
    }
   ],
   "source": [
    "def ceiling_height_correct(ceiling_height):\n",
    "    if 2.3 <= ceiling_height <= 5.0:\n",
    "        return ceiling_height\n",
    "    elif ceiling_height > 5 or ceiling_height < 2.3:\n",
    "        return \n",
    "data['ceiling_height_correct'] = data['ceiling_height'].apply(ceiling_height_correct)\n",
    "print(data['ceiling_height_correct'].describe())"
   ]
  },
  {
   "cell_type": "code",
   "execution_count": 17,
   "metadata": {},
   "outputs": [
    {
     "name": "stdout",
     "output_type": "stream",
     "text": [
      "5.0     5788\n",
      "9.0     3761\n",
      "16.0    1376\n",
      "12.0    1362\n",
      "4.0     1200\n",
      "10.0    1174\n",
      "25.0    1075\n",
      "6.0      914\n",
      "17.0     833\n",
      "3.0      668\n",
      "7.0      592\n",
      "14.0     553\n",
      "18.0     505\n",
      "24.0     469\n",
      "8.0      390\n",
      "2.0      383\n",
      "15.0     365\n",
      "23.0     352\n",
      "19.0     339\n",
      "22.0     286\n",
      "20.0     271\n",
      "13.0     229\n",
      "11.0     203\n",
      "27.0     164\n",
      "21.0     158\n",
      "26.0     124\n",
      "NaN       86\n",
      "1.0       25\n",
      "35.0      24\n",
      "28.0      21\n",
      "36.0       3\n",
      "29.0       1\n",
      "60.0       1\n",
      "33.0       1\n",
      "52.0       1\n",
      "37.0       1\n",
      "34.0       1\n",
      "Name: floors_total, dtype: int64\n"
     ]
    }
   ],
   "source": [
    "print(data['floors_total'].value_counts(dropna=False)) # смотрим на переменную с общим количеством этажей"
   ]
  },
  {
   "cell_type": "markdown",
   "metadata": {},
   "source": [
    "Проверим, нет ли каких-то особенностей в объектах с пропущенной этажностью, или это действительно просто пропуски?"
   ]
  },
  {
   "cell_type": "code",
   "execution_count": 18,
   "metadata": {},
   "outputs": [
    {
     "name": "stdout",
     "output_type": "stream",
     "text": [
      "      building_series_id  total_images  last_price  total_area  \\\n",
      "186                  NaN            12    11640000       65.20   \n",
      "237                  NaN             4     2438033       28.10   \n",
      "457                  NaN             4     9788348       70.80   \n",
      "671                  NaN             4     6051191       93.60   \n",
      "1757                 NaN             5     3600000       39.00   \n",
      "1930                 NaN             1     9750000       66.77   \n",
      "2392                 NaN             7     5395770       53.00   \n",
      "2846                 NaN             4     2325000       27.80   \n",
      "2952                 NaN            10     6500000       54.30   \n",
      "3031                 NaN             9     6400000       56.70   \n",
      "3438                 NaN            10     4100000       38.00   \n",
      "3817                 NaN             1     1640000       23.98   \n",
      "3831                 NaN             5     4850000       37.40   \n",
      "4140                 NaN             4    10296437      100.30   \n",
      "4617                 NaN             4     4275062       61.20   \n",
      "4848                 NaN            15    13000000       98.00   \n",
      "4901                 NaN             5     2200000       24.00   \n",
      "5146                 NaN            10     3085024       33.33   \n",
      "5187                 NaN             5     3300000       25.40   \n",
      "5784                 NaN             4     4262941       59.90   \n",
      "5958                 NaN             1     3200000       30.30   \n",
      "6030                 NaN             3    10900000      116.23   \n",
      "6136                 NaN            10     5467707       58.13   \n",
      "6288                 NaN            10     3094680       34.85   \n",
      "7508                 NaN             5     6800000       45.50   \n",
      "7662                 NaN             4     8220312       80.12   \n",
      "7922                 NaN             3     5426412       50.11   \n",
      "8478           1564812.0            19    13500000       77.80   \n",
      "8986                 NaN            10     4850000      103.10   \n",
      "9023                 NaN             5     2900000       35.10   \n",
      "...                  ...           ...         ...         ...   \n",
      "13955                NaN             4     5679678       87.30   \n",
      "14094                NaN             5     3290000       33.00   \n",
      "14153                NaN             1     1995000       23.17   \n",
      "14264          1564812.0            13    14000000       94.00   \n",
      "14526                NaN             1     5595000       52.47   \n",
      "14717                NaN             4     6042477       89.40   \n",
      "15989                NaN             1     4100000       74.50   \n",
      "16496                NaN             1     5235000       38.20   \n",
      "16549                NaN             5     5150000       49.20   \n",
      "16591                NaN             8     4500000       37.60   \n",
      "16668                NaN             0    15950000      108.00   \n",
      "16850                NaN             4     6188957       90.20   \n",
      "17498                NaN             4     4252249       60.20   \n",
      "17721                NaN             0    12000000       76.50   \n",
      "17925                NaN            10     3241540       32.69   \n",
      "18832                NaN             0    40348248      284.00   \n",
      "19133                NaN            10     2903659       24.67   \n",
      "19350                NaN            10     5249478       51.77   \n",
      "19452                NaN             5     9500000       76.80   \n",
      "20146          1564812.0            16     3850000       36.00   \n",
      "20250          1564812.0             5     6060000       60.60   \n",
      "20738                NaN             5     4480000       54.22   \n",
      "21273                NaN             3     6300000       70.02   \n",
      "21651                NaN             4     7143060       44.70   \n",
      "21753                NaN             7     6800000       57.00   \n",
      "22542          1564812.0             5     8500000       63.50   \n",
      "22656                NaN             4     4574160       64.50   \n",
      "22808                NaN             0    14569263      110.40   \n",
      "23590                NaN             0    21187872      123.30   \n",
      "23658                NaN             6     3063600       43.80   \n",
      "\n",
      "      first_day_exposition  rooms  ceiling_height  floors_total  living_area  \\\n",
      "186             2018-10-02      2             NaN           NaN        30.80   \n",
      "237             2016-11-23      1             NaN           NaN        20.75   \n",
      "457             2015-08-01      2             NaN           NaN        38.40   \n",
      "671             2017-04-06      3             NaN           NaN        47.10   \n",
      "1757            2017-04-22      1             NaN           NaN          NaN   \n",
      "1930            2016-05-13      2             NaN           NaN          NaN   \n",
      "2392            2017-06-29      2             NaN           NaN        29.00   \n",
      "2846            2016-09-21      1             NaN           NaN        19.40   \n",
      "2952            2019-04-23      1             NaN           NaN        22.20   \n",
      "3031            2018-03-27      2             NaN           NaN        32.00   \n",
      "3438            2018-04-14      1             NaN           NaN        19.00   \n",
      "3817            2015-08-25      1             NaN           NaN          NaN   \n",
      "3831            2019-03-02      1             NaN           NaN          NaN   \n",
      "4140            2017-07-02      3             NaN           NaN        58.18   \n",
      "4617            2017-04-27      2             NaN           NaN        32.00   \n",
      "4848            2017-02-08      3             NaN           NaN          NaN   \n",
      "4901            2018-10-22      0             NaN           NaN          NaN   \n",
      "5146            2018-10-06      1             NaN           NaN        11.00   \n",
      "5187            2018-11-02      0             NaN           NaN          NaN   \n",
      "5784            2017-04-02      2             NaN           NaN        31.70   \n",
      "5958            2018-09-07      0             NaN           NaN          NaN   \n",
      "6030            2017-05-05      4             NaN           NaN          NaN   \n",
      "6136            2018-11-04      3             NaN           NaN        31.00   \n",
      "6288            2018-10-01      1             NaN           NaN        11.00   \n",
      "7508            2018-01-22      1             NaN           NaN          NaN   \n",
      "7662            2017-05-06      2             NaN           NaN          NaN   \n",
      "7922            2016-06-08      2             NaN           NaN        26.94   \n",
      "8478            2019-04-17      2            2.80           NaN        39.41   \n",
      "8986            2018-07-10      3             NaN           NaN        68.10   \n",
      "9023            2018-07-18      1             NaN           NaN          NaN   \n",
      "...                    ...    ...             ...           ...          ...   \n",
      "13955           2017-04-02      3             NaN           NaN        50.40   \n",
      "14094           2018-02-01      1             NaN           NaN          NaN   \n",
      "14153           2016-06-22      1             NaN           NaN          NaN   \n",
      "14264           2019-01-23      6            2.65           NaN        51.00   \n",
      "14526           2016-03-23      2             NaN           NaN          NaN   \n",
      "14717           2017-03-17      3             NaN           NaN        50.00   \n",
      "15989           2017-04-22      3             NaN           NaN          NaN   \n",
      "16496           2016-04-01      1             NaN           NaN          NaN   \n",
      "16549           2017-04-22      2             NaN           NaN          NaN   \n",
      "16591           2018-07-10      1             NaN           NaN        17.50   \n",
      "16668           2017-10-24      3            2.80           NaN          NaN   \n",
      "16850           2016-09-21      3             NaN           NaN        47.70   \n",
      "17498           2017-04-01      2             NaN           NaN        31.80   \n",
      "17721           2017-07-02      2             NaN           NaN        36.30   \n",
      "17925           2018-10-01      1             NaN           NaN        11.00   \n",
      "18832           2016-11-24      4             NaN           NaN       104.76   \n",
      "19133           2018-10-10      1             NaN           NaN        16.00   \n",
      "19350           2018-11-04      2             NaN           NaN        22.00   \n",
      "19452           2019-04-11      3             NaN           NaN          NaN   \n",
      "20146           2018-10-12      1             NaN           NaN        19.00   \n",
      "20250           2015-10-29      2            2.80           NaN          NaN   \n",
      "20738           2018-02-01      2             NaN           NaN          NaN   \n",
      "21273           2015-03-28      2             NaN           NaN        34.87   \n",
      "21651           2019-01-11      1            3.00           NaN        13.79   \n",
      "21753           2017-05-01      2             NaN           NaN          NaN   \n",
      "22542           2017-05-24      2            2.80           NaN          NaN   \n",
      "22656           2017-04-02      2             NaN           NaN        31.70   \n",
      "22808           2016-11-20      3             NaN           NaN        45.38   \n",
      "23590           2017-04-25      3             NaN           NaN        50.40   \n",
      "23658           2016-11-28      1            2.70           NaN        14.00   \n",
      "\n",
      "       floor  ... parks_around3000  parks_nearest  ponds_around3000  \\\n",
      "186        4  ...              1.0          123.0               0.0   \n",
      "237        1  ...              0.0            NaN               1.0   \n",
      "457       12  ...              2.0          309.0               2.0   \n",
      "671        8  ...              0.0            NaN               1.0   \n",
      "1757       9  ...              1.0          835.0               1.0   \n",
      "1930       4  ...              1.0         2276.0               3.0   \n",
      "2392      22  ...              0.0            NaN               0.0   \n",
      "2846      15  ...              0.0            NaN               1.0   \n",
      "2952       6  ...              0.0            NaN               0.0   \n",
      "3031      12  ...              NaN            NaN               NaN   \n",
      "3438      12  ...              NaN            NaN               NaN   \n",
      "3817       1  ...              0.0            NaN               0.0   \n",
      "3831       7  ...              NaN            NaN               NaN   \n",
      "4140       3  ...              2.0          309.0               2.0   \n",
      "4617      12  ...              0.0            NaN               1.0   \n",
      "4848      18  ...              0.0            NaN               0.0   \n",
      "4901       6  ...              NaN            NaN               NaN   \n",
      "5146      12  ...              1.0          400.0               1.0   \n",
      "5187      15  ...              NaN            NaN               NaN   \n",
      "5784      18  ...              0.0            NaN               1.0   \n",
      "5958      13  ...              1.0          835.0               1.0   \n",
      "6030      24  ...              0.0            NaN               1.0   \n",
      "6136       6  ...              1.0          251.0               1.0   \n",
      "6288       8  ...              1.0          297.0               1.0   \n",
      "7508       8  ...              1.0          508.0               0.0   \n",
      "7662       6  ...              3.0          471.0               2.0   \n",
      "7922      24  ...              1.0          868.0               0.0   \n",
      "8478      21  ...              1.0          593.0               1.0   \n",
      "8986       4  ...              0.0            NaN               0.0   \n",
      "9023      11  ...              NaN            NaN               NaN   \n",
      "...      ...  ...              ...            ...               ...   \n",
      "13955      5  ...              0.0            NaN               1.0   \n",
      "14094     17  ...              NaN            NaN               NaN   \n",
      "14153      4  ...              2.0           24.0               1.0   \n",
      "14264     23  ...              0.0            NaN               0.0   \n",
      "14526     10  ...              1.0          868.0               0.0   \n",
      "14717      6  ...              0.0            NaN               1.0   \n",
      "15989      1  ...              0.0            NaN               0.0   \n",
      "16496      9  ...              1.0         2276.0               3.0   \n",
      "16549      9  ...              0.0            NaN               1.0   \n",
      "16591     11  ...              0.0            NaN               0.0   \n",
      "16668      3  ...              0.0            NaN               2.0   \n",
      "16850     14  ...              0.0            NaN               1.0   \n",
      "17498     13  ...              0.0            NaN               1.0   \n",
      "17721      8  ...              1.0          537.0               0.0   \n",
      "17925      9  ...              1.0          251.0               1.0   \n",
      "18832      6  ...              0.0            NaN               0.0   \n",
      "19133      6  ...              1.0          400.0               1.0   \n",
      "19350      6  ...              1.0          251.0               1.0   \n",
      "19452     10  ...              0.0            NaN               0.0   \n",
      "20146     15  ...              0.0            NaN               0.0   \n",
      "20250      2  ...              0.0            NaN               1.0   \n",
      "20738     10  ...              NaN            NaN               NaN   \n",
      "21273     19  ...              0.0            NaN               1.0   \n",
      "21651     19  ...              0.0            NaN               0.0   \n",
      "21753     21  ...              2.0          104.0               0.0   \n",
      "22542      3  ...              0.0            NaN               1.0   \n",
      "22656     20  ...              0.0            NaN               1.0   \n",
      "22808      6  ...              0.0            NaN               0.0   \n",
      "23590     18  ...              0.0            NaN               0.0   \n",
      "23658      8  ...              2.0           24.0               1.0   \n",
      "\n",
      "       ponds_nearest  days_exposition  price_per_sqm exposition_weekday  \\\n",
      "186              NaN             49.0         178527                  1   \n",
      "237            374.0            251.0          86762                  2   \n",
      "457            706.0            727.0         138253                  5   \n",
      "671            374.0            123.0          64649                  3   \n",
      "1757           652.0             77.0          92307                  5   \n",
      "1930           244.0             90.0         146023                  4   \n",
      "2392             NaN             48.0         101806                  3   \n",
      "2846           374.0            307.0          83633                  2   \n",
      "2952             NaN              NaN         119705                  1   \n",
      "3031             NaN            231.0         112874                  1   \n",
      "3438             NaN             95.0         107894                  5   \n",
      "3817             NaN            378.0          68390                  1   \n",
      "3831             NaN              NaN         129679                  5   \n",
      "4140           706.0             35.0         102656                  6   \n",
      "4617           374.0             72.0          69853                  3   \n",
      "4848             NaN             29.0         132653                  2   \n",
      "4901             NaN             51.0          91666                  0   \n",
      "5146           492.0            140.0          92559                  5   \n",
      "5187             NaN              3.0         129921                  4   \n",
      "5784           374.0            127.0          71167                  6   \n",
      "5958           652.0             68.0         105610                  4   \n",
      "6030           844.0             83.0          93779                  4   \n",
      "6136           350.0            110.0          94059                  6   \n",
      "6288           465.0            145.0          88800                  0   \n",
      "7508             NaN             26.0         149450                  0   \n",
      "7662           440.0             93.0         102600                  5   \n",
      "7922             NaN             14.0         108290                  2   \n",
      "8478           130.0              NaN         173521                  2   \n",
      "8986             NaN             28.0          47041                  1   \n",
      "9023             NaN             26.0          82621                  2   \n",
      "...              ...              ...            ...                ...   \n",
      "13955          374.0             58.0          65059                  6   \n",
      "14094            NaN            440.0          99696                  3   \n",
      "14153          271.0             34.0          86102                  2   \n",
      "14264            NaN              NaN         148936                  2   \n",
      "14526            NaN             90.0         106632                  2   \n",
      "14717          374.0            143.0          67589                  4   \n",
      "15989            NaN             72.0          55033                  5   \n",
      "16496          244.0             90.0         137041                  4   \n",
      "16549          427.0             18.0         104674                  5   \n",
      "16591            NaN              8.0         119680                  1   \n",
      "16668          444.0             91.0         147685                  1   \n",
      "16850          374.0            320.0          68613                  2   \n",
      "17498          374.0            128.0          70635                  5   \n",
      "17721            NaN             36.0         156862                  6   \n",
      "17925          350.0            145.0          99159                  0   \n",
      "18832            NaN            256.0         142071                  3   \n",
      "19133          492.0            136.0         117699                  2   \n",
      "19350          350.0            111.0         101400                  6   \n",
      "19452            NaN              NaN         123697                  3   \n",
      "20146            NaN            183.0         106944                  4   \n",
      "20250          830.0           1257.0         100000                  3   \n",
      "20738            NaN             42.0          82626                  3   \n",
      "21273          844.0            516.0          89974                  5   \n",
      "21651            NaN              NaN         159800                  4   \n",
      "21753            NaN             36.0         119298                  0   \n",
      "22542          853.0            512.0         133858                  2   \n",
      "22656          374.0            127.0          70917                  6   \n",
      "22808            NaN            260.0         131967                  6   \n",
      "23590            NaN            104.0         171840                  1   \n",
      "23658          271.0            246.0          69945                  0   \n",
      "\n",
      "       exposition_month  exposition_year  ceiling_height_correct  \n",
      "186                  10             2018                     NaN  \n",
      "237                  11             2016                     NaN  \n",
      "457                   8             2015                     NaN  \n",
      "671                   4             2017                     NaN  \n",
      "1757                  4             2017                     NaN  \n",
      "1930                  5             2016                     NaN  \n",
      "2392                  6             2017                     NaN  \n",
      "2846                  9             2016                     NaN  \n",
      "2952                  4             2019                     NaN  \n",
      "3031                  3             2018                     NaN  \n",
      "3438                  4             2018                     NaN  \n",
      "3817                  8             2015                     NaN  \n",
      "3831                  3             2019                     NaN  \n",
      "4140                  7             2017                     NaN  \n",
      "4617                  4             2017                     NaN  \n",
      "4848                  2             2017                     NaN  \n",
      "4901                 10             2018                     NaN  \n",
      "5146                 10             2018                     NaN  \n",
      "5187                 11             2018                     NaN  \n",
      "5784                  4             2017                     NaN  \n",
      "5958                  9             2018                     NaN  \n",
      "6030                  5             2017                     NaN  \n",
      "6136                 11             2018                     NaN  \n",
      "6288                 10             2018                     NaN  \n",
      "7508                  1             2018                     NaN  \n",
      "7662                  5             2017                     NaN  \n",
      "7922                  6             2016                     NaN  \n",
      "8478                  4             2019                    2.80  \n",
      "8986                  7             2018                     NaN  \n",
      "9023                  7             2018                     NaN  \n",
      "...                 ...              ...                     ...  \n",
      "13955                 4             2017                     NaN  \n",
      "14094                 2             2018                     NaN  \n",
      "14153                 6             2016                     NaN  \n",
      "14264                 1             2019                    2.65  \n",
      "14526                 3             2016                     NaN  \n",
      "14717                 3             2017                     NaN  \n",
      "15989                 4             2017                     NaN  \n",
      "16496                 4             2016                     NaN  \n",
      "16549                 4             2017                     NaN  \n",
      "16591                 7             2018                     NaN  \n",
      "16668                10             2017                    2.80  \n",
      "16850                 9             2016                     NaN  \n",
      "17498                 4             2017                     NaN  \n",
      "17721                 7             2017                     NaN  \n",
      "17925                10             2018                     NaN  \n",
      "18832                11             2016                     NaN  \n",
      "19133                10             2018                     NaN  \n",
      "19350                11             2018                     NaN  \n",
      "19452                 4             2019                     NaN  \n",
      "20146                10             2018                     NaN  \n",
      "20250                10             2015                    2.80  \n",
      "20738                 2             2018                     NaN  \n",
      "21273                 3             2015                     NaN  \n",
      "21651                 1             2019                    3.00  \n",
      "21753                 5             2017                     NaN  \n",
      "22542                 5             2017                    2.80  \n",
      "22656                 4             2017                     NaN  \n",
      "22808                11             2016                     NaN  \n",
      "23590                 4             2017                     NaN  \n",
      "23658                11             2016                    2.70  \n",
      "\n",
      "[86 rows x 29 columns]\n"
     ]
    }
   ],
   "source": [
    "print(data[data['floors_total'].isnull()])"
   ]
  },
  {
   "cell_type": "markdown",
   "metadata": {},
   "source": [
    "Видимо, это просто пропуски. При перекодировке в новый столбец с группированной этажностью обозначим эти объекты как \"Неизвестно\""
   ]
  },
  {
   "cell_type": "markdown",
   "metadata": {},
   "source": [
    "Еще важный момент относительно этажности, который стоит проверить.  \n",
    "Нет ли в данных квартир с номером этажа больше, чем общее количество этажей в доме?"
   ]
  },
  {
   "cell_type": "code",
   "execution_count": 19,
   "metadata": {},
   "outputs": [
    {
     "name": "stdout",
     "output_type": "stream",
     "text": [
      "<class 'pandas.core.frame.DataFrame'>\n",
      "Int64Index: 0 entries\n",
      "Data columns (total 29 columns):\n",
      "building_series_id        0 non-null object\n",
      "total_images              0 non-null int64\n",
      "last_price                0 non-null int64\n",
      "total_area                0 non-null float64\n",
      "first_day_exposition      0 non-null datetime64[ns]\n",
      "rooms                     0 non-null int64\n",
      "ceiling_height            0 non-null float64\n",
      "floors_total              0 non-null float64\n",
      "living_area               0 non-null float64\n",
      "floor                     0 non-null int64\n",
      "is_apartment              0 non-null object\n",
      "studio                    0 non-null bool\n",
      "area                      0 non-null float64\n",
      "open_plan                 0 non-null bool\n",
      "kitchen_area              0 non-null float64\n",
      "balcony                   0 non-null float64\n",
      "locality_name             0 non-null object\n",
      "airports_nearest          0 non-null float64\n",
      "cityCenters_nearest       0 non-null float64\n",
      "parks_around3000          0 non-null float64\n",
      "parks_nearest             0 non-null float64\n",
      "ponds_around3000          0 non-null float64\n",
      "ponds_nearest             0 non-null float64\n",
      "days_exposition           0 non-null float64\n",
      "price_per_sqm             0 non-null int64\n",
      "exposition_weekday        0 non-null int64\n",
      "exposition_month          0 non-null int64\n",
      "exposition_year           0 non-null int64\n",
      "ceiling_height_correct    0 non-null float64\n",
      "dtypes: bool(2), datetime64[ns](1), float64(15), int64(8), object(3)\n",
      "memory usage: 0.0+ bytes\n",
      "None\n"
     ]
    }
   ],
   "source": [
    "print(data.query('floors_total < floor').info())"
   ]
  },
  {
   "cell_type": "markdown",
   "metadata": {},
   "source": [
    "Срез оказался пустым, перейдем к созданию столбца с кодами \"Первый/Последний/Другой/Неизвестно\".  \n",
    "Но для начала надо решить, что делать с одноэтажными домами ) Посмотрим на срез данных с такой информацией."
   ]
  },
  {
   "cell_type": "code",
   "execution_count": 20,
   "metadata": {},
   "outputs": [
    {
     "name": "stdout",
     "output_type": "stream",
     "text": [
      "      building_series_id  total_images  last_price  total_area  \\\n",
      "3076                 NaN            20     2000000        80.0   \n",
      "4379                 NaN             5     5300000        58.5   \n",
      "5300                 NaN             5     2990000        60.0   \n",
      "5698                 NaN             7      450000        42.0   \n",
      "5787                 NaN            16     9000000        88.0   \n",
      "7962                 NaN             4      550000        46.2   \n",
      "8335                 NaN            10     2700000        80.0   \n",
      "8388                 NaN            20     3550000        48.2   \n",
      "9517                 NaN             4     1200000        39.4   \n",
      "9752                 NaN            16      850000        62.0   \n",
      "10817                NaN             6      790000        50.6   \n",
      "11641          1564812.0             6     3685000        44.7   \n",
      "11746                NaN            10     1070000        38.8   \n",
      "14836                NaN             3     3900000        45.0   \n",
      "15543                NaN            12     3500000        54.0   \n",
      "16444                NaN            15      990000        88.0   \n",
      "17020                NaN            10     3700000       100.0   \n",
      "17744                NaN             8     2300000        50.9   \n",
      "18900                NaN             2     1800000        65.0   \n",
      "19590                NaN            20     6150000        95.0   \n",
      "21603                NaN            12     1900000        40.0   \n",
      "22550                NaN             2     5800000       115.0   \n",
      "22841                NaN             9      980000        54.0   \n",
      "22855                NaN            16     2950000        31.0   \n",
      "23498                NaN             7     1600000        54.0   \n",
      "\n",
      "      first_day_exposition  rooms  ceiling_height  floors_total  living_area  \\\n",
      "3076            2018-01-03      3             NaN           1.0         48.5   \n",
      "4379            2017-11-15      2             NaN           1.0         31.6   \n",
      "5300            2018-11-15      3             NaN           1.0         50.0   \n",
      "5698            2017-07-31      2             NaN           1.0         23.0   \n",
      "5787            2018-08-06      3             NaN           1.0          NaN   \n",
      "7962            2018-04-20      3             NaN           1.0          NaN   \n",
      "8335            2018-07-07      3            3.00           1.0         45.0   \n",
      "8388            2019-03-30      3            2.65           1.0         33.9   \n",
      "9517            2018-01-08      2             NaN           1.0          NaN   \n",
      "9752            2018-11-10      2             NaN           1.0         31.0   \n",
      "10817           2017-11-29      3             NaN           1.0         32.0   \n",
      "11641           2018-07-05      1            2.50           1.0         23.5   \n",
      "11746           2018-06-20      2             NaN           1.0         28.1   \n",
      "14836           2018-02-01      2            3.00           1.0         28.4   \n",
      "15543           2017-12-01      2            2.90           1.0         24.4   \n",
      "16444           2019-04-08      3             NaN           1.0         40.0   \n",
      "17020           2018-01-01      3            3.00           1.0         35.0   \n",
      "17744           2017-08-09      2             NaN           1.0         30.0   \n",
      "18900           2018-02-02      3            2.45           1.0          NaN   \n",
      "19590           2018-07-29      2             NaN           1.0         65.0   \n",
      "21603           2019-01-29      2            2.90           1.0         19.2   \n",
      "22550           2017-09-12      2             NaN           1.0         40.0   \n",
      "22841           2017-12-09      2             NaN           1.0          NaN   \n",
      "22855           2018-03-07      1            2.70           1.0         16.4   \n",
      "23498           2016-12-26      2            2.30           1.0         33.0   \n",
      "\n",
      "       floor  ... parks_around3000  parks_nearest  ponds_around3000  \\\n",
      "3076       1  ...              NaN            NaN               NaN   \n",
      "4379       1  ...              NaN            NaN               NaN   \n",
      "5300       1  ...              NaN            NaN               NaN   \n",
      "5698       1  ...              NaN            NaN               NaN   \n",
      "5787       1  ...              0.0            NaN               1.0   \n",
      "7962       1  ...              NaN            NaN               NaN   \n",
      "8335       1  ...              NaN            NaN               NaN   \n",
      "8388       1  ...              0.0            NaN               0.0   \n",
      "9517       1  ...              NaN            NaN               NaN   \n",
      "9752       1  ...              NaN            NaN               NaN   \n",
      "10817      1  ...              NaN            NaN               NaN   \n",
      "11641      1  ...              0.0            NaN               3.0   \n",
      "11746      1  ...              NaN            NaN               NaN   \n",
      "14836      1  ...              0.0            NaN               2.0   \n",
      "15543      1  ...              NaN            NaN               NaN   \n",
      "16444      1  ...              NaN            NaN               NaN   \n",
      "17020      1  ...              NaN            NaN               NaN   \n",
      "17744      1  ...              NaN            NaN               NaN   \n",
      "18900      1  ...              NaN            NaN               NaN   \n",
      "19590      1  ...              NaN            NaN               NaN   \n",
      "21603      1  ...              NaN            NaN               NaN   \n",
      "22550      1  ...              0.0            NaN               0.0   \n",
      "22841      1  ...              NaN            NaN               NaN   \n",
      "22855      1  ...              3.0          188.0               1.0   \n",
      "23498      1  ...              NaN            NaN               NaN   \n",
      "\n",
      "       ponds_nearest  days_exposition  price_per_sqm exposition_weekday  \\\n",
      "3076             NaN             44.0          25000                  2   \n",
      "4379             NaN            226.0          90598                  2   \n",
      "5300             NaN             40.0          49833                  3   \n",
      "5698             NaN            233.0          10714                  0   \n",
      "5787           792.0             60.0         102272                  0   \n",
      "7962             NaN             45.0          11904                  4   \n",
      "8335             NaN             51.0          33750                  5   \n",
      "8388             NaN              NaN          73651                  5   \n",
      "9517             NaN             45.0          30456                  0   \n",
      "9752             NaN              NaN          13709                  5   \n",
      "10817            NaN              NaN          15612                  2   \n",
      "11641          534.0            112.0          82438                  3   \n",
      "11746            NaN              6.0          27577                  2   \n",
      "14836          640.0            196.0          86666                  3   \n",
      "15543            NaN            202.0          64814                  4   \n",
      "16444            NaN              NaN          11250                  0   \n",
      "17020            NaN            346.0          37000                  0   \n",
      "17744            NaN            454.0          45186                  2   \n",
      "18900            NaN             45.0          27692                  4   \n",
      "19590            NaN             23.0          64736                  6   \n",
      "21603            NaN              NaN          47500                  1   \n",
      "22550            NaN            124.0          50434                  1   \n",
      "22841            NaN             45.0          18148                  5   \n",
      "22855          269.0            328.0          95161                  2   \n",
      "23498            NaN            281.0          29629                  0   \n",
      "\n",
      "       exposition_month  exposition_year  ceiling_height_correct  \n",
      "3076                  1             2018                     NaN  \n",
      "4379                 11             2017                     NaN  \n",
      "5300                 11             2018                     NaN  \n",
      "5698                  7             2017                     NaN  \n",
      "5787                  8             2018                     NaN  \n",
      "7962                  4             2018                     NaN  \n",
      "8335                  7             2018                    3.00  \n",
      "8388                  3             2019                    2.65  \n",
      "9517                  1             2018                     NaN  \n",
      "9752                 11             2018                     NaN  \n",
      "10817                11             2017                     NaN  \n",
      "11641                 7             2018                    2.50  \n",
      "11746                 6             2018                     NaN  \n",
      "14836                 2             2018                    3.00  \n",
      "15543                12             2017                    2.90  \n",
      "16444                 4             2019                     NaN  \n",
      "17020                 1             2018                    3.00  \n",
      "17744                 8             2017                     NaN  \n",
      "18900                 2             2018                    2.45  \n",
      "19590                 7             2018                     NaN  \n",
      "21603                 1             2019                    2.90  \n",
      "22550                 9             2017                     NaN  \n",
      "22841                12             2017                     NaN  \n",
      "22855                 3             2018                    2.70  \n",
      "23498                12             2016                    2.30  \n",
      "\n",
      "[25 rows x 29 columns]\n"
     ]
    }
   ],
   "source": [
    "print(data.query('floors_total ==1'))"
   ]
  },
  {
   "cell_type": "markdown",
   "metadata": {},
   "source": [
    "Особенно подозрительными эти данные не выглядят... Что ж, закодируем их как первый этаж."
   ]
  },
  {
   "cell_type": "code",
   "execution_count": 21,
   "metadata": {},
   "outputs": [
    {
     "name": "stdout",
     "output_type": "stream",
     "text": [
      "    floor  floors_total floor_grouped\n",
      "0       8          16.0        Другой\n",
      "1       1          11.0        Первый\n",
      "2       4           5.0        Другой\n",
      "3       9          14.0        Другой\n",
      "4      13          14.0        Другой\n",
      "5       5          12.0        Другой\n",
      "6       6          26.0        Другой\n",
      "7      22          24.0        Другой\n",
      "8      26          27.0        Другой\n",
      "9       7           9.0        Другой\n",
      "10      3          12.0        Другой\n",
      "11      4           5.0        Другой\n",
      "12      5           5.0     Последний\n",
      "13      5           5.0     Последний\n",
      "14      1           6.0        Первый\n",
      "Другой        17363\n",
      "Последний      3336\n",
      "Первый         2917\n",
      "Неизвестно       83\n",
      "Name: floor_grouped, dtype: int64\n"
     ]
    }
   ],
   "source": [
    "def floor_grouped(row):\n",
    "    floors_total = row['floors_total']\n",
    "    floor = row['floor']    \n",
    "    if floor == 1:\n",
    "        return 'Первый'\n",
    "    elif floor == floors_total and floors_total > 1:\n",
    "        return 'Последний'\n",
    "    elif floor > 1 and floor < floors_total:\n",
    "        return 'Другой'\n",
    "    else:\n",
    "        return 'Неизвестно'\n",
    "data['floor_grouped'] = data.apply(floor_grouped, axis=1)\n",
    "print(data.loc[:, ['floor', 'floors_total', 'floor_grouped']].head(15))\n",
    "print(data['floor_grouped'].value_counts(dropna=False))"
   ]
  },
  {
   "cell_type": "markdown",
   "metadata": {},
   "source": [
    "Похоже, все закодировано верно.  \n",
    "Следующий важный столбец - living_area. Здесь смущают пропущенные значения. Возможно, это студии?"
   ]
  },
  {
   "cell_type": "code",
   "execution_count": 22,
   "metadata": {},
   "outputs": [
    {
     "name": "stdout",
     "output_type": "stream",
     "text": [
      "False    1893\n",
      "True       10\n",
      "Name: studio, dtype: int64\n"
     ]
    }
   ],
   "source": [
    "print(data[data['living_area'].isnull()]['studio'].value_counts())"
   ]
  },
  {
   "cell_type": "markdown",
   "metadata": {},
   "source": [
    "Гипотеза не потвердилась.  \n",
    "Проверим, что с информацией по площади кухонь для этих квартир."
   ]
  },
  {
   "cell_type": "code",
   "execution_count": 23,
   "metadata": {},
   "outputs": [
    {
     "name": "stdout",
     "output_type": "stream",
     "text": [
      "NaN      1464\n",
      "6.00       25\n",
      "10.00      22\n",
      "9.00       20\n",
      "12.00      18\n",
      "14.00      14\n",
      "7.00       13\n",
      "8.00       12\n",
      "15.00      10\n",
      "20.00       5\n",
      "5.00        5\n",
      "11.00       5\n",
      "7.50        5\n",
      "18.00       5\n",
      "9.50        4\n",
      "10.30       4\n",
      "13.00       4\n",
      "8.70        4\n",
      "8.50        4\n",
      "9.80        4\n",
      "6.50        4\n",
      "11.20       3\n",
      "10.70       3\n",
      "7.80        3\n",
      "10.60       3\n",
      "8.10        3\n",
      "9.90        3\n",
      "7.40        3\n",
      "12.40       3\n",
      "5.80        3\n",
      "         ... \n",
      "10.80       1\n",
      "18.30       1\n",
      "10.40       1\n",
      "12.14       1\n",
      "14.61       1\n",
      "10.94       1\n",
      "14.43       1\n",
      "13.53       1\n",
      "11.63       1\n",
      "9.97        1\n",
      "12.35       1\n",
      "11.67       1\n",
      "11.55       1\n",
      "17.70       1\n",
      "6.70        1\n",
      "9.27        1\n",
      "10.15       1\n",
      "11.12       1\n",
      "5.90        1\n",
      "11.28       1\n",
      "9.24        1\n",
      "11.71       1\n",
      "10.29       1\n",
      "11.10       1\n",
      "42.50       1\n",
      "7.48        1\n",
      "23.25       1\n",
      "13.64       1\n",
      "23.20       1\n",
      "16.48       1\n",
      "Name: kitchen_area, Length: 216, dtype: int64\n"
     ]
    }
   ],
   "source": [
    "print(data[data['living_area'].isnull()]['kitchen_area'].value_counts(dropna=False))"
   ]
  },
  {
   "cell_type": "markdown",
   "metadata": {},
   "source": [
    "Для многих объектов также отсутствует информация о площади кухонь, но все же не для всех.  \n",
    "Есть искушение удалить объекты с отсутствующей информацией о жилой площади, но все же их достаточно много.  \n",
    "Лучше оставить, но придется применить достаточно сложную логику, чтобы избежать странных значений.  \n",
    "Некорректно заполнять пропуски в данном столбце, основываясь только на данных столбца (среднее или медиана).  \n",
    "Необходимо учитывать также значения, указанные в столбцах total_area и kitchen_area (сумма жилой площади и площади кухни не может превышать общую площадь).  \n",
    "Предлагается следующий алгоритм замены пропущенных значений:\n",
    "- если неизвестны оба параметра (площадь кухни и жилая площадь), то пропущенные значения заменяем на общую площадь, умноженную на медианную долю кухни и жилой площади в общей площади;\n",
    "- если неизвестна только площадь кухни, то пропущенные значения заменяем на общую площадь за вычетом жилой площади, умноженную на медианную долю площади кухни в общей площади после вычета жилой площади;\n",
    "- если неизвестна только жилая площадь, пропущенные значения жилой площади заменяем на общую площадь за вычетом площади кухни, умноженную на медианную долю жилой площади в общей площади после вычета площади кухни"
   ]
  },
  {
   "cell_type": "markdown",
   "metadata": {},
   "source": [
    "Перед началом анализа посмотрим, есть ли объекты, для которых некорректно введены параметры площади (сумма площади кухни и жилой больше или равны общей)."
   ]
  },
  {
   "cell_type": "code",
   "execution_count": 24,
   "metadata": {},
   "outputs": [
    {
     "name": "stdout",
     "output_type": "stream",
     "text": [
      "<class 'pandas.core.frame.DataFrame'>\n",
      "Int64Index: 64 entries, 184 to 23202\n",
      "Data columns (total 30 columns):\n",
      "building_series_id        10 non-null object\n",
      "total_images              64 non-null int64\n",
      "last_price                64 non-null int64\n",
      "total_area                64 non-null float64\n",
      "first_day_exposition      64 non-null datetime64[ns]\n",
      "rooms                     64 non-null int64\n",
      "ceiling_height            42 non-null float64\n",
      "floors_total              64 non-null float64\n",
      "living_area               64 non-null float64\n",
      "floor                     64 non-null int64\n",
      "is_apartment              17 non-null object\n",
      "studio                    64 non-null bool\n",
      "area                      64 non-null float64\n",
      "open_plan                 64 non-null bool\n",
      "kitchen_area              64 non-null float64\n",
      "balcony                   44 non-null float64\n",
      "locality_name             64 non-null object\n",
      "airports_nearest          44 non-null float64\n",
      "cityCenters_nearest       44 non-null float64\n",
      "parks_around3000          44 non-null float64\n",
      "parks_nearest             18 non-null float64\n",
      "ponds_around3000          44 non-null float64\n",
      "ponds_nearest             18 non-null float64\n",
      "days_exposition           56 non-null float64\n",
      "price_per_sqm             64 non-null int64\n",
      "exposition_weekday        64 non-null int64\n",
      "exposition_month          64 non-null int64\n",
      "exposition_year           64 non-null int64\n",
      "ceiling_height_correct    40 non-null float64\n",
      "floor_grouped             64 non-null object\n",
      "dtypes: bool(2), datetime64[ns](1), float64(15), int64(8), object(4)\n",
      "memory usage: 14.6+ KB\n",
      "None\n"
     ]
    }
   ],
   "source": [
    "print(data.query('(living_area + kitchen_area) > total_area').info())"
   ]
  },
  {
   "cell_type": "markdown",
   "metadata": {},
   "source": [
    "Таких 64 объекта. Будем иметь их в виду при подсчете медианных значений для замены пропущенных, а также заменим для этих объектов значения жилой площади и площади кухни на медианные.  \n",
    "Создадим логический столбец для легкого выявления этих объектов."
   ]
  },
  {
   "cell_type": "code",
   "execution_count": 25,
   "metadata": {},
   "outputs": [
    {
     "name": "stdout",
     "output_type": "stream",
     "text": [
      "False    23635\n",
      "True        64\n",
      "Name: incorrect_area, dtype: int64\n"
     ]
    }
   ],
   "source": [
    "def incorrect_area(row):\n",
    "    living_area = row['living_area']\n",
    "    kitchen_area = row['kitchen_area']\n",
    "    total_area = row['total_area']\n",
    "    if (living_area + kitchen_area) > total_area:\n",
    "        return True\n",
    "    else:\n",
    "        return False\n",
    "data['incorrect_area'] = data.apply(incorrect_area, axis=1)\n",
    "print(data['incorrect_area'].value_counts())"
   ]
  },
  {
   "cell_type": "markdown",
   "metadata": {},
   "source": [
    "Создадим функции, которые нам позволят создать столбцы с долями, избежав некорректных значений."
   ]
  },
  {
   "cell_type": "code",
   "execution_count": 26,
   "metadata": {},
   "outputs": [],
   "source": [
    "def living_area_share(row):\n",
    "    living_area = row['living_area']\n",
    "    kitchen_area = row['kitchen_area']\n",
    "    total_area = row['total_area']\n",
    "    if (living_area + kitchen_area) > total_area:\n",
    "        return\n",
    "    else:\n",
    "        return living_area / total_area \n",
    "data['living_area_share'] = data.apply(living_area_share, axis=1)\n",
    "def kitchen_area_share(row):\n",
    "    living_area = row['living_area']\n",
    "    kitchen_area = row['kitchen_area']\n",
    "    total_area = row['total_area']\n",
    "    if (living_area + kitchen_area) > total_area:\n",
    "        return\n",
    "    else:\n",
    "        return kitchen_area / total_area \n",
    "data['kitchen_area_share'] = data.apply(kitchen_area_share, axis=1)\n",
    "def living_area_nokitchen_share(row):\n",
    "    living_area = row['living_area']\n",
    "    kitchen_area = row['kitchen_area']\n",
    "    total_area = row['total_area']\n",
    "    if (living_area + kitchen_area) > total_area:\n",
    "        return\n",
    "    elif kitchen_area == total_area:\n",
    "        return 0\n",
    "    else:\n",
    "        return living_area / (total_area - kitchen_area)\n",
    "data['living_area_nokitchen_share'] = data.apply(living_area_nokitchen_share, axis=1)\n",
    "def kitchen_area_noliving_share(row):\n",
    "    living_area = row['living_area']\n",
    "    kitchen_area = row['kitchen_area']\n",
    "    total_area = row['total_area']\n",
    "    if (living_area + kitchen_area) > total_area:\n",
    "        return\n",
    "    elif living_area == total_area:\n",
    "        return 0\n",
    "    else:\n",
    "        return kitchen_area / (total_area - living_area)\n",
    "data['kitchen_area_noliving_share'] = data.apply(kitchen_area_noliving_share, axis=1)"
   ]
  },
  {
   "cell_type": "code",
   "execution_count": 27,
   "metadata": {},
   "outputs": [
    {
     "name": "stdout",
     "output_type": "stream",
     "text": [
      "    living_area  kitchen_area  total_area  living_area_share  \\\n",
      "0         51.00         25.00      108.00           0.472222   \n",
      "1         18.60         11.00       40.40           0.460396   \n",
      "2         34.30          8.30       56.00           0.612500   \n",
      "3           NaN           NaN      159.00                NaN   \n",
      "4         32.00         41.00      100.00           0.320000   \n",
      "5         14.40          9.10       30.40           0.473684   \n",
      "6         10.60         14.40       37.30           0.284182   \n",
      "7           NaN         18.90       71.60                NaN   \n",
      "8         15.43          8.81       33.16           0.465320   \n",
      "9         43.60          6.50       61.00           0.714754   \n",
      "10        20.30          8.50       39.60           0.512626   \n",
      "11        31.00          6.00       44.00           0.704545   \n",
      "12        30.00          9.00       54.00           0.555556   \n",
      "13        27.00          5.20       42.80           0.630841   \n",
      "14        17.00          8.00       36.00           0.472222   \n",
      "\n",
      "    kitchen_area_share  living_area_nokitchen_share  \\\n",
      "0             0.231481                     0.614458   \n",
      "1             0.272277                     0.632653   \n",
      "2             0.148214                     0.719078   \n",
      "3                  NaN                          NaN   \n",
      "4             0.410000                     0.542373   \n",
      "5             0.299342                     0.676056   \n",
      "6             0.386059                     0.462882   \n",
      "7             0.263966                          NaN   \n",
      "8             0.265682                     0.633676   \n",
      "9             0.106557                     0.800000   \n",
      "10            0.214646                     0.652733   \n",
      "11            0.136364                     0.815789   \n",
      "12            0.166667                     0.666667   \n",
      "13            0.121495                     0.718085   \n",
      "14            0.222222                     0.607143   \n",
      "\n",
      "    kitchen_area_noliving_share  \n",
      "0                      0.438596  \n",
      "1                      0.504587  \n",
      "2                      0.382488  \n",
      "3                           NaN  \n",
      "4                      0.602941  \n",
      "5                      0.568750  \n",
      "6                      0.539326  \n",
      "7                           NaN  \n",
      "8                      0.496898  \n",
      "9                      0.373563  \n",
      "10                     0.440415  \n",
      "11                     0.461538  \n",
      "12                     0.375000  \n",
      "13                     0.329114  \n",
      "14                     0.421053  \n"
     ]
    }
   ],
   "source": [
    "print(data.loc[:, ['living_area', 'kitchen_area', 'total_area', 'living_area_share', 'kitchen_area_share', 'living_area_nokitchen_share', 'kitchen_area_noliving_share']].head(15))"
   ]
  },
  {
   "cell_type": "markdown",
   "metadata": {},
   "source": [
    "Новые столбцы считаются верно. Проверим, нет ли странных долей (больше 1 или меньше 0). А также нет ли случаев, когда сумма долей площади кухни и жилой площади превышает 1. "
   ]
  },
  {
   "cell_type": "code",
   "execution_count": 28,
   "metadata": {},
   "outputs": [
    {
     "name": "stdout",
     "output_type": "stream",
     "text": [
      "count    21732.000000\n",
      "mean         0.563967\n",
      "std          0.104341\n",
      "min          0.021583\n",
      "25%          0.494969\n",
      "50%          0.567442\n",
      "75%          0.637188\n",
      "max          1.000000\n",
      "Name: living_area_share, dtype: float64\n",
      "count    21357.000000\n",
      "mean         0.186988\n",
      "std          0.072254\n",
      "min          0.025381\n",
      "25%          0.133333\n",
      "50%          0.172131\n",
      "75%          0.231579\n",
      "max          0.724638\n",
      "Name: kitchen_area_share, dtype: float64\n",
      "count    20918.000000\n",
      "mean         0.687430\n",
      "std          0.091130\n",
      "min          0.024390\n",
      "25%          0.634615\n",
      "50%          0.689655\n",
      "75%          0.742857\n",
      "max          1.000000\n",
      "Name: living_area_nokitchen_share, dtype: float64\n",
      "count    20920.000000\n",
      "mean         0.422055\n",
      "std          0.108916\n",
      "min          0.000000\n",
      "25%          0.352941\n",
      "50%          0.411089\n",
      "75%          0.477836\n",
      "max          1.000000\n",
      "Name: kitchen_area_noliving_share, dtype: float64\n",
      "count    20918.000000\n",
      "mean         0.748283\n",
      "std          0.068136\n",
      "min          0.136691\n",
      "25%          0.710641\n",
      "50%          0.750000\n",
      "75%          0.786161\n",
      "max          1.000000\n",
      "dtype: float64\n"
     ]
    }
   ],
   "source": [
    "print(data['living_area_share'].describe())\n",
    "print(data['kitchen_area_share'].describe())\n",
    "print(data['living_area_nokitchen_share'].describe())\n",
    "print(data['kitchen_area_noliving_share'].describe())\n",
    "print((data['living_area_share']+data['kitchen_area_share']).describe())"
   ]
  },
  {
   "cell_type": "markdown",
   "metadata": {},
   "source": [
    "Создадим переменные с медианными значениями нужных нам долей, и заменим пропуски. В принципе, в данном случае распределения близки к нормальным, и можно было бы использовать и среднее."
   ]
  },
  {
   "cell_type": "code",
   "execution_count": 29,
   "metadata": {},
   "outputs": [
    {
     "name": "stdout",
     "output_type": "stream",
     "text": [
      "0.5674418604651164 0.17213114754098363 0.6896551724137931 0.41108915239350025\n"
     ]
    }
   ],
   "source": [
    "living_area_share_median = data['living_area_share'].median()\n",
    "kitchen_area_share_median = data['kitchen_area_share'].median()\n",
    "living_area_nokitchen_share_median = data['living_area_nokitchen_share'].median()\n",
    "kitchen_area_noliving_share_median = data['kitchen_area_noliving_share'].median()\n",
    "print(living_area_share_median, kitchen_area_share_median, living_area_nokitchen_share_median, kitchen_area_noliving_share_median)"
   ]
  },
  {
   "cell_type": "markdown",
   "metadata": {},
   "source": [
    "Создадим функцию, которая создаст переменную с корректной жилой площадью в соответствии с нашим алгоритмом."
   ]
  },
  {
   "cell_type": "code",
   "execution_count": 30,
   "metadata": {},
   "outputs": [
    {
     "name": "stdout",
     "output_type": "stream",
     "text": [
      "<class 'pandas.core.frame.DataFrame'>\n",
      "RangeIndex: 23699 entries, 0 to 23698\n",
      "Data columns (total 36 columns):\n",
      "building_series_id             6517 non-null object\n",
      "total_images                   23699 non-null int64\n",
      "last_price                     23699 non-null int64\n",
      "total_area                     23699 non-null float64\n",
      "first_day_exposition           23699 non-null datetime64[ns]\n",
      "rooms                          23699 non-null int64\n",
      "ceiling_height                 14504 non-null float64\n",
      "floors_total                   23613 non-null float64\n",
      "living_area                    21796 non-null float64\n",
      "floor                          23699 non-null int64\n",
      "is_apartment                   2775 non-null object\n",
      "studio                         23699 non-null bool\n",
      "area                           23699 non-null float64\n",
      "open_plan                      23699 non-null bool\n",
      "kitchen_area                   21421 non-null float64\n",
      "balcony                        12180 non-null float64\n",
      "locality_name                  23650 non-null object\n",
      "airports_nearest               18157 non-null float64\n",
      "cityCenters_nearest            18180 non-null float64\n",
      "parks_around3000               18181 non-null float64\n",
      "parks_nearest                  8079 non-null float64\n",
      "ponds_around3000               18181 non-null float64\n",
      "ponds_nearest                  9110 non-null float64\n",
      "days_exposition                20518 non-null float64\n",
      "price_per_sqm                  23699 non-null int64\n",
      "exposition_weekday             23699 non-null int64\n",
      "exposition_month               23699 non-null int64\n",
      "exposition_year                23699 non-null int64\n",
      "ceiling_height_correct         14452 non-null float64\n",
      "floor_grouped                  23699 non-null object\n",
      "incorrect_area                 23699 non-null bool\n",
      "living_area_share              21732 non-null float64\n",
      "kitchen_area_share             21357 non-null float64\n",
      "living_area_nokitchen_share    20918 non-null float64\n",
      "kitchen_area_noliving_share    20920 non-null float64\n",
      "living_area_correct            23699 non-null float64\n",
      "dtypes: bool(3), datetime64[ns](1), float64(20), int64(8), object(4)\n",
      "memory usage: 6.0+ MB\n",
      "None\n",
      "    living_area_nokitchen_share  living_area  total_area  living_area_share  \\\n",
      "0                      0.614458        51.00      108.00           0.472222   \n",
      "1                      0.632653        18.60       40.40           0.460396   \n",
      "2                      0.719078        34.30       56.00           0.612500   \n",
      "3                           NaN          NaN      159.00                NaN   \n",
      "4                      0.542373        32.00      100.00           0.320000   \n",
      "5                      0.676056        14.40       30.40           0.473684   \n",
      "6                      0.462882        10.60       37.30           0.284182   \n",
      "7                           NaN          NaN       71.60                NaN   \n",
      "8                      0.633676        15.43       33.16           0.465320   \n",
      "9                      0.800000        43.60       61.00           0.714754   \n",
      "10                     0.652733        20.30       39.60           0.512626   \n",
      "11                     0.815789        31.00       44.00           0.704545   \n",
      "12                     0.666667        30.00       54.00           0.555556   \n",
      "13                     0.718085        27.00       42.80           0.630841   \n",
      "14                     0.607143        17.00       36.00           0.472222   \n",
      "\n",
      "    kitchen_area_share  living_area_correct  \n",
      "0             0.231481            51.000000  \n",
      "1             0.272277            18.600000  \n",
      "2             0.148214            34.300000  \n",
      "3                  NaN            90.223256  \n",
      "4             0.410000            32.000000  \n",
      "5             0.299342            14.400000  \n",
      "6             0.386059            10.600000  \n",
      "7             0.263966            36.344828  \n",
      "8             0.265682            15.430000  \n",
      "9             0.106557            43.600000  \n",
      "10            0.214646            20.300000  \n",
      "11            0.136364            31.000000  \n",
      "12            0.166667            30.000000  \n",
      "13            0.121495            27.000000  \n",
      "14            0.222222            17.000000  \n"
     ]
    }
   ],
   "source": [
    "def living_area_correct(row):\n",
    "    total_area = row['total_area']\n",
    "    living_area = row['living_area']\n",
    "    living_area_share = row['living_area_share']\n",
    "    kitchen_area_share = row['kitchen_area_share']\n",
    "    kitchen_area = row['kitchen_area']\n",
    "    if pd.isnull(living_area_share) == False:\n",
    "        return living_area\n",
    "    elif pd.isnull(living_area_share) == True and pd.isnull(kitchen_area_share) == True:\n",
    "        return living_area_share_median * total_area\n",
    "    elif pd.isnull(living_area_share) == True and pd.isnull(kitchen_area_share) == False:\n",
    "        return living_area_nokitchen_share_median * (total_area - kitchen_area)\n",
    "data['living_area_correct'] = data.apply(living_area_correct, axis=1)\n",
    "print(data.info())\n",
    "print(data.loc[:, ['living_area_nokitchen_share', 'living_area', 'total_area', 'living_area_share', 'kitchen_area_share', 'living_area_correct']].head(15))"
   ]
  },
  {
   "cell_type": "markdown",
   "metadata": {},
   "source": [
    "Сделаем тоже самое для площади кухни."
   ]
  },
  {
   "cell_type": "code",
   "execution_count": 31,
   "metadata": {},
   "outputs": [
    {
     "name": "stdout",
     "output_type": "stream",
     "text": [
      "<class 'pandas.core.frame.DataFrame'>\n",
      "RangeIndex: 23699 entries, 0 to 23698\n",
      "Data columns (total 37 columns):\n",
      "building_series_id             6517 non-null object\n",
      "total_images                   23699 non-null int64\n",
      "last_price                     23699 non-null int64\n",
      "total_area                     23699 non-null float64\n",
      "first_day_exposition           23699 non-null datetime64[ns]\n",
      "rooms                          23699 non-null int64\n",
      "ceiling_height                 14504 non-null float64\n",
      "floors_total                   23613 non-null float64\n",
      "living_area                    21796 non-null float64\n",
      "floor                          23699 non-null int64\n",
      "is_apartment                   2775 non-null object\n",
      "studio                         23699 non-null bool\n",
      "area                           23699 non-null float64\n",
      "open_plan                      23699 non-null bool\n",
      "kitchen_area                   21421 non-null float64\n",
      "balcony                        12180 non-null float64\n",
      "locality_name                  23650 non-null object\n",
      "airports_nearest               18157 non-null float64\n",
      "cityCenters_nearest            18180 non-null float64\n",
      "parks_around3000               18181 non-null float64\n",
      "parks_nearest                  8079 non-null float64\n",
      "ponds_around3000               18181 non-null float64\n",
      "ponds_nearest                  9110 non-null float64\n",
      "days_exposition                20518 non-null float64\n",
      "price_per_sqm                  23699 non-null int64\n",
      "exposition_weekday             23699 non-null int64\n",
      "exposition_month               23699 non-null int64\n",
      "exposition_year                23699 non-null int64\n",
      "ceiling_height_correct         14452 non-null float64\n",
      "floor_grouped                  23699 non-null object\n",
      "incorrect_area                 23699 non-null bool\n",
      "living_area_share              21732 non-null float64\n",
      "kitchen_area_share             21357 non-null float64\n",
      "living_area_nokitchen_share    20918 non-null float64\n",
      "kitchen_area_noliving_share    20920 non-null float64\n",
      "living_area_correct            23699 non-null float64\n",
      "kitchen_area_correct           23699 non-null float64\n",
      "dtypes: bool(3), datetime64[ns](1), float64(21), int64(8), object(4)\n",
      "memory usage: 6.2+ MB\n",
      "None\n",
      "    kitchen_area  total_area  living_area_share  kitchen_area_share  \\\n",
      "0          25.00      108.00           0.472222            0.231481   \n",
      "1          11.00       40.40           0.460396            0.272277   \n",
      "2           8.30       56.00           0.612500            0.148214   \n",
      "3            NaN      159.00                NaN                 NaN   \n",
      "4          41.00      100.00           0.320000            0.410000   \n",
      "5           9.10       30.40           0.473684            0.299342   \n",
      "6          14.40       37.30           0.284182            0.386059   \n",
      "7          18.90       71.60                NaN            0.263966   \n",
      "8           8.81       33.16           0.465320            0.265682   \n",
      "9           6.50       61.00           0.714754            0.106557   \n",
      "10          8.50       39.60           0.512626            0.214646   \n",
      "11          6.00       44.00           0.704545            0.136364   \n",
      "12          9.00       54.00           0.555556            0.166667   \n",
      "13          5.20       42.80           0.630841            0.121495   \n",
      "14          8.00       36.00           0.472222            0.222222   \n",
      "\n",
      "    kitchen_area_correct  \n",
      "0              25.000000  \n",
      "1              11.000000  \n",
      "2               8.300000  \n",
      "3              27.368852  \n",
      "4              41.000000  \n",
      "5               9.100000  \n",
      "6              14.400000  \n",
      "7              18.900000  \n",
      "8               8.810000  \n",
      "9               6.500000  \n",
      "10              8.500000  \n",
      "11              6.000000  \n",
      "12              9.000000  \n",
      "13              5.200000  \n",
      "14              8.000000  \n"
     ]
    }
   ],
   "source": [
    "def kitchen_area_correct(row):\n",
    "    total_area = row['total_area']\n",
    "    living_area = row['living_area']\n",
    "    living_area_share = row['living_area_share']\n",
    "    kitchen_area_share = row['kitchen_area_share']\n",
    "    kitchen_area = row['kitchen_area']\n",
    "    if pd.isnull(kitchen_area_share) == False:\n",
    "        return kitchen_area\n",
    "    elif pd.isnull(living_area_share) == True and pd.isnull(kitchen_area_share) == True:\n",
    "        return kitchen_area_share_median * total_area\n",
    "    elif pd.isnull(kitchen_area_share) == True and pd.isnull(living_area_share) == False:\n",
    "        return kitchen_area_noliving_share_median * (total_area - living_area)\n",
    "data['kitchen_area_correct'] = data.apply(kitchen_area_correct, axis=1)\n",
    "print(data.info())\n",
    "print(data.loc[:, ['kitchen_area', 'total_area', 'living_area_share', 'kitchen_area_share', 'kitchen_area_correct']].head(15))"
   ]
  },
  {
   "cell_type": "markdown",
   "metadata": {},
   "source": [
    "Теперь пересчитаем долю жилой площади в общей и кухни в общей."
   ]
  },
  {
   "cell_type": "code",
   "execution_count": 32,
   "metadata": {},
   "outputs": [
    {
     "name": "stdout",
     "output_type": "stream",
     "text": [
      "<class 'pandas.core.frame.DataFrame'>\n",
      "RangeIndex: 23699 entries, 0 to 23698\n",
      "Data columns (total 37 columns):\n",
      "building_series_id             6517 non-null object\n",
      "total_images                   23699 non-null int64\n",
      "last_price                     23699 non-null int64\n",
      "total_area                     23699 non-null float64\n",
      "first_day_exposition           23699 non-null datetime64[ns]\n",
      "rooms                          23699 non-null int64\n",
      "ceiling_height                 14504 non-null float64\n",
      "floors_total                   23613 non-null float64\n",
      "living_area                    21796 non-null float64\n",
      "floor                          23699 non-null int64\n",
      "is_apartment                   2775 non-null object\n",
      "studio                         23699 non-null bool\n",
      "area                           23699 non-null float64\n",
      "open_plan                      23699 non-null bool\n",
      "kitchen_area                   21421 non-null float64\n",
      "balcony                        12180 non-null float64\n",
      "locality_name                  23650 non-null object\n",
      "airports_nearest               18157 non-null float64\n",
      "cityCenters_nearest            18180 non-null float64\n",
      "parks_around3000               18181 non-null float64\n",
      "parks_nearest                  8079 non-null float64\n",
      "ponds_around3000               18181 non-null float64\n",
      "ponds_nearest                  9110 non-null float64\n",
      "days_exposition                20518 non-null float64\n",
      "price_per_sqm                  23699 non-null int64\n",
      "exposition_weekday             23699 non-null int64\n",
      "exposition_month               23699 non-null int64\n",
      "exposition_year                23699 non-null int64\n",
      "ceiling_height_correct         14452 non-null float64\n",
      "floor_grouped                  23699 non-null object\n",
      "incorrect_area                 23699 non-null bool\n",
      "living_area_share              23699 non-null float64\n",
      "kitchen_area_share             23699 non-null float64\n",
      "living_area_nokitchen_share    20918 non-null float64\n",
      "kitchen_area_noliving_share    20920 non-null float64\n",
      "living_area_correct            23699 non-null float64\n",
      "kitchen_area_correct           23699 non-null float64\n",
      "dtypes: bool(3), datetime64[ns](1), float64(21), int64(8), object(4)\n",
      "memory usage: 6.2+ MB\n",
      "None\n"
     ]
    }
   ],
   "source": [
    "data['living_area_share'] = data['living_area_correct'] / data['total_area']\n",
    "data['kitchen_area_share'] = data['kitchen_area_correct'] / data['total_area']\n",
    "print(data.info())"
   ]
  },
  {
   "cell_type": "markdown",
   "metadata": {},
   "source": [
    "Проверим, нет ли случаев, когда сумма долей жилой площади и кухни превышает 1"
   ]
  },
  {
   "cell_type": "code",
   "execution_count": 33,
   "metadata": {},
   "outputs": [
    {
     "name": "stdout",
     "output_type": "stream",
     "text": [
      "1.0\n"
     ]
    }
   ],
   "source": [
    "print((data['living_area_share'] + data['kitchen_area_share']).max())"
   ]
  },
  {
   "cell_type": "markdown",
   "metadata": {},
   "source": [
    "Это тоже странное значение, но по крайней мере не совершенно алогичное )"
   ]
  },
  {
   "cell_type": "markdown",
   "metadata": {},
   "source": [
    "Продолжим анализ переменных. Что у нас в is_apartment?"
   ]
  },
  {
   "cell_type": "code",
   "execution_count": 34,
   "metadata": {},
   "outputs": [
    {
     "name": "stdout",
     "output_type": "stream",
     "text": [
      "NaN      20924\n",
      "False     2725\n",
      "True        50\n",
      "Name: is_apartment, dtype: int64\n"
     ]
    }
   ],
   "source": [
    "print(data['is_apartment'].value_counts(dropna=False))"
   ]
  },
  {
   "cell_type": "markdown",
   "metadata": {},
   "source": [
    "Апартаменты - вообще вещь редкая на рынке. По всей видимости, отсутствующие значения - это False."
   ]
  },
  {
   "cell_type": "code",
   "execution_count": 35,
   "metadata": {},
   "outputs": [
    {
     "name": "stdout",
     "output_type": "stream",
     "text": [
      "False    23649\n",
      "True        50\n",
      "Name: is_apartment, dtype: int64\n"
     ]
    }
   ],
   "source": [
    "data['is_apartment'] = data['is_apartment'].fillna(False)\n",
    "print(data['is_apartment'].value_counts(dropna=False))"
   ]
  },
  {
   "cell_type": "code",
   "execution_count": 36,
   "metadata": {},
   "outputs": [
    {
     "name": "stdout",
     "output_type": "stream",
     "text": [
      "False    23550\n",
      "True       149\n",
      "Name: studio, dtype: int64\n"
     ]
    }
   ],
   "source": [
    "print(data['studio'].value_counts()) # проверяем переменную studio"
   ]
  },
  {
   "cell_type": "code",
   "execution_count": 37,
   "metadata": {},
   "outputs": [
    {
     "name": "stdout",
     "output_type": "stream",
     "text": [
      "False    23632\n",
      "True        67\n",
      "Name: open_plan, dtype: int64\n"
     ]
    }
   ],
   "source": [
    "print(data['open_plan'].value_counts()) # проверяем переменную open_plan"
   ]
  },
  {
   "cell_type": "code",
   "execution_count": 38,
   "metadata": {},
   "outputs": [
    {
     "name": "stdout",
     "output_type": "stream",
     "text": [
      "NaN    11519\n",
      "1.0     4195\n",
      "0.0     3758\n",
      "2.0     3659\n",
      "5.0      304\n",
      "4.0      183\n",
      "3.0       81\n",
      "Name: balcony, dtype: int64\n"
     ]
    }
   ],
   "source": [
    "print(data['balcony'].value_counts(dropna=False)) # проверяем переменную open_plan"
   ]
  },
  {
   "cell_type": "markdown",
   "metadata": {},
   "source": [
    "Многовато пропущенных значений для однозначного понимания, можно ли заменить пропущенные значения на ноль...  \n",
    "Пока оставим эту переменную, видимо, возможности ее использования при анализе влияния на цену ограничены."
   ]
  },
  {
   "cell_type": "code",
   "execution_count": 39,
   "metadata": {},
   "outputs": [
    {
     "name": "stdout",
     "output_type": "stream",
     "text": [
      "Санкт-Петербург                                            15721\n",
      "посёлок Мурино                                               522\n",
      "посёлок Шушары                                               440\n",
      "Всеволожск                                                   398\n",
      "Пушкин                                                       369\n",
      "Колпино                                                      338\n",
      "посёлок Парголово                                            327\n",
      "Гатчина                                                      307\n",
      "деревня Кудрово                                              299\n",
      "Выборг                                                       237\n",
      "Петергоф                                                     201\n",
      "Сестрорецк                                                   183\n",
      "Красное Село                                                 178\n",
      "Кудрово                                                      173\n",
      "деревня Новое Девяткино                                      144\n",
      "Сертолово                                                    142\n",
      "Ломоносов                                                    133\n",
      "Кириши                                                       125\n",
      "Сланцы                                                       112\n",
      "Волхов                                                       111\n",
      "Кингисепп                                                    104\n",
      "Тосно                                                        104\n",
      "Кронштадт                                                     96\n",
      "Никольское                                                    93\n",
      "Коммунар                                                      89\n",
      "Сосновый Бор                                                  87\n",
      "Кировск                                                       84\n",
      "Отрадное                                                      80\n",
      "посёлок Бугры                                                 69\n",
      "посёлок Металлострой                                          66\n",
      "                                                           ...  \n",
      "деревня Пикколово                                              1\n",
      "посёлок Платформа 69-й километр                                1\n",
      "село Шум                                                       1\n",
      "деревня Нижние Осельки                                         1\n",
      "поселок Пчевжа                                                 1\n",
      "поселок станции Лужайка                                        1\n",
      "деревня Старое Хинколово                                       1\n",
      "садовое товарищество Новая Ропша                               1\n",
      "посёлок Форт Красная Горка                                     1\n",
      "деревня Иссад                                                  1\n",
      "поселок Возрождение                                            1\n",
      "поселок Дружноселье                                            1\n",
      "поселок Жилпосёлок                                             1\n",
      "поселок Цвылёво                                                1\n",
      "посёлок при железнодорожной станции Приветнинское              1\n",
      "поселок Гаврилово                                              1\n",
      "деревня Новолисино                                             1\n",
      "деревня Вахнова Кара                                           1\n",
      "деревня Кисельня                                               1\n",
      "коттеджный поселок Кивеннапа Север                             1\n",
      "деревня Куровицы                                               1\n",
      "поселок Семиозерье                                             1\n",
      "поселок Усть-Луга                                              1\n",
      "поселок Ромашки                                                1\n",
      "поселок городского типа Большая Ижора                          1\n",
      "садоводческое некоммерческое товарищество Лесная Поляна        1\n",
      "посёлок Ропша                                                  1\n",
      "посёлок Высокоключевой                                         1\n",
      "посёлок Левашово                                               1\n",
      "деревня Шпаньково                                              1\n",
      "Name: locality_name, Length: 365, dtype: int64\n"
     ]
    }
   ],
   "source": [
    "print(data['locality_name'].value_counts(dropna=False))"
   ]
  },
  {
   "cell_type": "markdown",
   "metadata": {},
   "source": [
    "Заменим пропущенное значение на \"Не указан\""
   ]
  },
  {
   "cell_type": "code",
   "execution_count": 40,
   "metadata": {},
   "outputs": [
    {
     "name": "stdout",
     "output_type": "stream",
     "text": [
      "<class 'pandas.core.frame.DataFrame'>\n",
      "RangeIndex: 23699 entries, 0 to 23698\n",
      "Data columns (total 37 columns):\n",
      "building_series_id             6517 non-null object\n",
      "total_images                   23699 non-null int64\n",
      "last_price                     23699 non-null int64\n",
      "total_area                     23699 non-null float64\n",
      "first_day_exposition           23699 non-null datetime64[ns]\n",
      "rooms                          23699 non-null int64\n",
      "ceiling_height                 14504 non-null float64\n",
      "floors_total                   23613 non-null float64\n",
      "living_area                    21796 non-null float64\n",
      "floor                          23699 non-null int64\n",
      "is_apartment                   23699 non-null bool\n",
      "studio                         23699 non-null bool\n",
      "area                           23699 non-null float64\n",
      "open_plan                      23699 non-null bool\n",
      "kitchen_area                   21421 non-null float64\n",
      "balcony                        12180 non-null float64\n",
      "locality_name                  23699 non-null object\n",
      "airports_nearest               18157 non-null float64\n",
      "cityCenters_nearest            18180 non-null float64\n",
      "parks_around3000               18181 non-null float64\n",
      "parks_nearest                  8079 non-null float64\n",
      "ponds_around3000               18181 non-null float64\n",
      "ponds_nearest                  9110 non-null float64\n",
      "days_exposition                20518 non-null float64\n",
      "price_per_sqm                  23699 non-null int64\n",
      "exposition_weekday             23699 non-null int64\n",
      "exposition_month               23699 non-null int64\n",
      "exposition_year                23699 non-null int64\n",
      "ceiling_height_correct         14452 non-null float64\n",
      "floor_grouped                  23699 non-null object\n",
      "incorrect_area                 23699 non-null bool\n",
      "living_area_share              23699 non-null float64\n",
      "kitchen_area_share             23699 non-null float64\n",
      "living_area_nokitchen_share    20918 non-null float64\n",
      "kitchen_area_noliving_share    20920 non-null float64\n",
      "living_area_correct            23699 non-null float64\n",
      "kitchen_area_correct           23699 non-null float64\n",
      "dtypes: bool(4), datetime64[ns](1), float64(21), int64(8), object(3)\n",
      "memory usage: 6.1+ MB\n",
      "None\n"
     ]
    }
   ],
   "source": [
    "data['locality_name'] = data['locality_name'].fillna('Не указан')\n",
    "print(data.info())"
   ]
  },
  {
   "cell_type": "code",
   "execution_count": 41,
   "metadata": {},
   "outputs": [
    {
     "name": "stdout",
     "output_type": "stream",
     "text": [
      "count    18157.000000\n",
      "mean     28793.672193\n",
      "std      12630.880622\n",
      "min          0.000000\n",
      "25%      18585.000000\n",
      "50%      26726.000000\n",
      "75%      37273.000000\n",
      "max      84869.000000\n",
      "Name: airports_nearest, dtype: float64\n"
     ]
    }
   ],
   "source": [
    "print(data['airports_nearest'].describe())"
   ]
  },
  {
   "cell_type": "markdown",
   "metadata": {},
   "source": [
    "Совершенно непонятно, как заполнять пропущенные в данном случае. 0 - также сомнительное значение"
   ]
  },
  {
   "cell_type": "code",
   "execution_count": 42,
   "metadata": {},
   "outputs": [
    {
     "name": "stdout",
     "output_type": "stream",
     "text": [
      "посёлок Мурино                   522\n",
      "Всеволожск                       398\n",
      "Гатчина                          307\n",
      "деревня Кудрово                  299\n",
      "Выборг                           237\n",
      "Кудрово                          173\n",
      "деревня Новое Девяткино          144\n",
      "Сертолово                        142\n",
      "Кириши                           125\n",
      "Сланцы                           112\n",
      "Волхов                           111\n",
      "Тосно                            104\n",
      "Кингисепп                        104\n",
      "Никольское                        93\n",
      "Коммунар                          89\n",
      "Сосновый Бор                      87\n",
      "Санкт-Петербург                   85\n",
      "Кировск                           84\n",
      "Отрадное                          80\n",
      "посёлок Бугры                     69\n",
      "Приозерск                         66\n",
      "деревня Старая                    64\n",
      "городской посёлок Янино-1         61\n",
      "Шлиссельбург                      57\n",
      "Луга                              56\n",
      "Тихвин                            49\n",
      "поселок Бугры                     45\n",
      "посёлок Тельмана                  39\n",
      "Волосово                          36\n",
      "поселок Романовка                 36\n",
      "                                ... \n",
      "деревня Малая Романовка            1\n",
      "поселок Гаврилово                  1\n",
      "поселок Кирпичное                  1\n",
      "деревня Новолисино                 1\n",
      "поселок Каложицы                   1\n",
      "деревня Хапо-Ое                    1\n",
      "деревня Борисова Грива             1\n",
      "Ломоносов                          1\n",
      "поселок Коробицыно                 1\n",
      "поселок Гладкое                    1\n",
      "посёлок Коробицыно                 1\n",
      "деревня Каськово                   1\n",
      "поселок Калитино                   1\n",
      "посёлок Дзержинского               1\n",
      "поселок Севастьяново               1\n",
      "Кронштадт                          1\n",
      "поселок Гончарово                  1\n",
      "посёлок Высокоключевой             1\n",
      "деревня Русско                     1\n",
      "деревня Лаврики                    1\n",
      "деревня Трубников Бор              1\n",
      "деревня Щеглово                    1\n",
      "деревня Меньково                   1\n",
      "поселок Тёсово-4                   1\n",
      "посёлок Пансионат Зелёный Бор      1\n",
      "поселок Ромашки                    1\n",
      "коттеджный поселок Счастье         1\n",
      "деревня Кисельня                   1\n",
      "деревня Вахнова Кара               1\n",
      "деревня Кривко                     1\n",
      "Name: locality_name, Length: 345, dtype: int64\n"
     ]
    }
   ],
   "source": [
    "print(data[data['airports_nearest'].isnull()]['locality_name'].value_counts(dropna=False))"
   ]
  },
  {
   "cell_type": "markdown",
   "metadata": {},
   "source": [
    "Интересно, что значения пропущены преимущественно для населенных пунктов в Ленинградской области. Но в любом случае посчитать значения для каждого пункта нереально."
   ]
  },
  {
   "cell_type": "code",
   "execution_count": 43,
   "metadata": {},
   "outputs": [
    {
     "name": "stdout",
     "output_type": "stream",
     "text": [
      "1\n"
     ]
    }
   ],
   "source": [
    "print(data.query('airports_nearest == 0')['airports_nearest'].count())"
   ]
  },
  {
   "cell_type": "markdown",
   "metadata": {},
   "source": [
    "Объект, для которого расстояние до аэропорта \"0\", только один, поэтому существенных помех в данные он не вносит.  \n",
    "Попробуем в дальнейшем проанализировать взаимосвязь со стоимостью квартир на имеющейся выборке."
   ]
  },
  {
   "cell_type": "code",
   "execution_count": 44,
   "metadata": {},
   "outputs": [
    {
     "data": {
      "text/plain": [
       "count    20518.000000\n",
       "mean       180.888634\n",
       "std        219.727988\n",
       "min          1.000000\n",
       "25%         45.000000\n",
       "50%         95.000000\n",
       "75%        232.000000\n",
       "max       1580.000000\n",
       "Name: days_exposition, dtype: float64"
      ]
     },
     "execution_count": 44,
     "metadata": {},
     "output_type": "execute_result"
    }
   ],
   "source": [
    "data['days_exposition'].describe() # проверим переменную days_exposition"
   ]
  },
  {
   "cell_type": "markdown",
   "metadata": {},
   "source": [
    "Может быть, пропущенные значения - это еще актуальные объявления?"
   ]
  },
  {
   "cell_type": "code",
   "execution_count": 45,
   "metadata": {},
   "outputs": [
    {
     "data": {
      "text/plain": [
       "exposition_year\n",
       "2014      18\n",
       "2015      70\n",
       "2016      67\n",
       "2017     271\n",
       "2018     959\n",
       "2019    1796\n",
       "Name: exposition_year, dtype: int64"
      ]
     },
     "execution_count": 45,
     "metadata": {},
     "output_type": "execute_result"
    }
   ],
   "source": [
    "data[data['days_exposition'].isnull()].groupby('exposition_year')['exposition_year'].count()"
   ]
  },
  {
   "cell_type": "markdown",
   "metadata": {},
   "source": [
    "Однозначного ответа результаты не дают, и все же более половины объявлений были опубликованы в этом году.  \n",
    "Можно было бы посчитать длительность экспозиции до сегодняшнего дня, но это не очень корректно, так как нам нужно будет оценивать среднюю продолжительность продажи объекта."
   ]
  },
  {
   "cell_type": "markdown",
   "metadata": {},
   "source": [
    "Продолжим анализ переменных. Важным параметром является расстояние до центра."
   ]
  },
  {
   "cell_type": "code",
   "execution_count": 46,
   "metadata": {},
   "outputs": [
    {
     "data": {
      "text/plain": [
       "count    18180.000000\n",
       "mean     14191.277833\n",
       "std       8608.386210\n",
       "min        181.000000\n",
       "25%       9238.000000\n",
       "50%      13098.500000\n",
       "75%      16293.000000\n",
       "max      65968.000000\n",
       "Name: cityCenters_nearest, dtype: float64"
      ]
     },
     "execution_count": 46,
     "metadata": {},
     "output_type": "execute_result"
    }
   ],
   "source": [
    "data['cityCenters_nearest'].describe()"
   ]
  },
  {
   "cell_type": "markdown",
   "metadata": {},
   "source": [
    "Пропущенных много, и у нас нет данных, чтобы их корректно заполнить. Попробуем хотя бы посмотреть, для каких населенных пунктов нет информации."
   ]
  },
  {
   "cell_type": "code",
   "execution_count": 47,
   "metadata": {},
   "outputs": [
    {
     "name": "stdout",
     "output_type": "stream",
     "text": [
      "посёлок Мурино                                522\n",
      "Всеволожск                                    398\n",
      "Гатчина                                       307\n",
      "деревня Кудрово                               299\n",
      "Выборг                                        237\n",
      "Кудрово                                       173\n",
      "деревня Новое Девяткино                       144\n",
      "Сертолово                                     142\n",
      "Кириши                                        125\n",
      "Сланцы                                        112\n",
      "Волхов                                        111\n",
      "Тосно                                         104\n",
      "Кингисепп                                     104\n",
      "Никольское                                     93\n",
      "Коммунар                                       89\n",
      "Сосновый Бор                                   87\n",
      "Кировск                                        84\n",
      "Отрадное                                       80\n",
      "посёлок Бугры                                  69\n",
      "Приозерск                                      66\n",
      "деревня Старая                                 64\n",
      "городской посёлок Янино-1                      61\n",
      "Санкт-Петербург                                61\n",
      "Шлиссельбург                                   57\n",
      "Луга                                           56\n",
      "Тихвин                                         49\n",
      "поселок Бугры                                  45\n",
      "посёлок Тельмана                               39\n",
      "поселок Романовка                              36\n",
      "Волосово                                       36\n",
      "                                             ... \n",
      "деревня Большой Сабск                           1\n",
      "посёлок Платформа 69-й километр                 1\n",
      "поселок Цвылёво                                 1\n",
      "село Шум                                        1\n",
      "Кронштадт                                       1\n",
      "садовое товарищество Рахья                      1\n",
      "поселок Каложицы                                1\n",
      "поселок станции Лужайка                         1\n",
      "поселок Красносельское                          1\n",
      "поселок Пансионат Зелёный Бор                   1\n",
      "посёлок при железнодорожной станции Вещево      1\n",
      "поселок Гладкое                                 1\n",
      "поселок станции Корнево                         1\n",
      "поселок Калитино                                1\n",
      "посёлок Алексеевка                              1\n",
      "посёлок Дзержинского                            1\n",
      "деревня Тихковицы                               1\n",
      "поселок городского типа Кондратьево             1\n",
      "посёлок городского типа Рябово                  1\n",
      "деревня Каськово                                1\n",
      "посёлок Высокоключевой                          1\n",
      "городской посёлок Свирьстрой                    1\n",
      "посёлок Коробицыно                              1\n",
      "деревня Мануйлово                               1\n",
      "посёлок Форт Красная Горка                      1\n",
      "поселок Коробицыно                              1\n",
      "деревня Пикколово                               1\n",
      "поселок Сумино                                  1\n",
      "деревня Иссад                                   1\n",
      "деревня Кривко                                  1\n",
      "Name: locality_name, Length: 346, dtype: int64\n"
     ]
    }
   ],
   "source": [
    "print(data[data['cityCenters_nearest'].isnull()]['locality_name'].value_counts(dropna=False))"
   ]
  },
  {
   "cell_type": "markdown",
   "metadata": {},
   "source": [
    "Вылез схожий список, как и для расстояния до аэропорта.  \n",
    "Вместе с тем, мы можем анализировать выборку с имеющимися значениями, так как они выглядят разумно."
   ]
  },
  {
   "cell_type": "code",
   "execution_count": 48,
   "metadata": {},
   "outputs": [
    {
     "name": "stdout",
     "output_type": "stream",
     "text": [
      "0.0    10106\n",
      "1.0     5681\n",
      "NaN     5518\n",
      "2.0     1747\n",
      "3.0      647\n",
      "Name: parks_around3000, dtype: int64\n"
     ]
    }
   ],
   "source": [
    "print(data['parks_around3000'].value_counts(dropna=False)) # проверим переменную parks_around3000"
   ]
  },
  {
   "cell_type": "markdown",
   "metadata": {},
   "source": [
    "Заполнить пропуски также не получится, но попробуем посмотреть на данные по имеющейся выборке. Также взглянем на всякий случай, что это за пункты."
   ]
  },
  {
   "cell_type": "code",
   "execution_count": 49,
   "metadata": {},
   "outputs": [
    {
     "name": "stdout",
     "output_type": "stream",
     "text": [
      "посёлок Мурино                   522\n",
      "Всеволожск                       398\n",
      "Гатчина                          307\n",
      "деревня Кудрово                  299\n",
      "Выборг                           237\n",
      "Кудрово                          173\n",
      "деревня Новое Девяткино          144\n",
      "Сертолово                        142\n",
      "Кириши                           125\n",
      "Сланцы                           112\n",
      "Волхов                           111\n",
      "Тосно                            104\n",
      "Кингисепп                        104\n",
      "Никольское                        93\n",
      "Коммунар                          89\n",
      "Сосновый Бор                      87\n",
      "Кировск                           84\n",
      "Отрадное                          80\n",
      "посёлок Бугры                     69\n",
      "Приозерск                         66\n",
      "деревня Старая                    64\n",
      "Санкт-Петербург                   61\n",
      "городской посёлок Янино-1         61\n",
      "Шлиссельбург                      57\n",
      "Луга                              56\n",
      "Тихвин                            49\n",
      "поселок Бугры                     45\n",
      "посёлок Тельмана                  39\n",
      "поселок Романовка                 36\n",
      "Волосово                          36\n",
      "                                ... \n",
      "деревня Малая Романовка            1\n",
      "поселок Гаврилово                  1\n",
      "поселок Кирпичное                  1\n",
      "деревня Новолисино                 1\n",
      "поселок Каложицы                   1\n",
      "деревня Хапо-Ое                    1\n",
      "деревня Борисова Грива             1\n",
      "Ломоносов                          1\n",
      "поселок Коробицыно                 1\n",
      "поселок Гладкое                    1\n",
      "посёлок Коробицыно                 1\n",
      "деревня Каськово                   1\n",
      "поселок Калитино                   1\n",
      "посёлок Дзержинского               1\n",
      "поселок Севастьяново               1\n",
      "Кронштадт                          1\n",
      "поселок Гончарово                  1\n",
      "посёлок Высокоключевой             1\n",
      "деревня Русско                     1\n",
      "деревня Лаврики                    1\n",
      "деревня Трубников Бор              1\n",
      "деревня Щеглово                    1\n",
      "деревня Меньково                   1\n",
      "поселок Тёсово-4                   1\n",
      "посёлок Пансионат Зелёный Бор      1\n",
      "поселок Ромашки                    1\n",
      "коттеджный поселок Счастье         1\n",
      "деревня Кисельня                   1\n",
      "деревня Вахнова Кара               1\n",
      "деревня Кривко                     1\n",
      "Name: locality_name, Length: 345, dtype: int64\n"
     ]
    }
   ],
   "source": [
    "print(data[data['parks_around3000'].isnull()]['locality_name'].value_counts(dropna=False))"
   ]
  },
  {
   "cell_type": "markdown",
   "metadata": {},
   "source": [
    "Опять тот же список - видимо, без данных по геолокации."
   ]
  },
  {
   "cell_type": "code",
   "execution_count": 50,
   "metadata": {},
   "outputs": [
    {
     "data": {
      "text/plain": [
       "count    8079.000000\n",
       "mean      490.804555\n",
       "std       342.317995\n",
       "min         1.000000\n",
       "25%       288.000000\n",
       "50%       455.000000\n",
       "75%       612.000000\n",
       "max      3190.000000\n",
       "Name: parks_nearest, dtype: float64"
      ]
     },
     "execution_count": 50,
     "metadata": {},
     "output_type": "execute_result"
    }
   ],
   "source": [
    "data['parks_nearest'].describe()"
   ]
  },
  {
   "cell_type": "markdown",
   "metadata": {},
   "source": [
    "Заметных различий по расстоянию до парка (если он есть поблизости) нет: 25% процентиль отличается от 75% всего на 300 метров. В анализе будем смотреть на наличие и количество парков."
   ]
  },
  {
   "cell_type": "code",
   "execution_count": 51,
   "metadata": {},
   "outputs": [
    {
     "name": "stdout",
     "output_type": "stream",
     "text": [
      "0.0    9071\n",
      "1.0    5717\n",
      "NaN    5518\n",
      "2.0    1892\n",
      "3.0    1501\n",
      "Name: ponds_around3000, dtype: int64\n"
     ]
    }
   ],
   "source": [
    "print(data['ponds_around3000'].value_counts(dropna=False)) # проверим переменную ponds_around3000"
   ]
  },
  {
   "cell_type": "code",
   "execution_count": 52,
   "metadata": {},
   "outputs": [
    {
     "data": {
      "text/plain": [
       "count    9110.000000\n",
       "mean      517.980900\n",
       "std       277.720643\n",
       "min        13.000000\n",
       "25%       294.000000\n",
       "50%       502.000000\n",
       "75%       729.000000\n",
       "max      1344.000000\n",
       "Name: ponds_nearest, dtype: float64"
      ]
     },
     "execution_count": 52,
     "metadata": {},
     "output_type": "execute_result"
    }
   ],
   "source": [
    "data['ponds_nearest'].describe()"
   ]
  },
  {
   "cell_type": "markdown",
   "metadata": {},
   "source": [
    "Здесь поступим по той же логике, что и с данными по наличию парка и расстоянию до него. Проанализируем зависимость цены от наличия пруда и их количества."
   ]
  },
  {
   "cell_type": "markdown",
   "metadata": {},
   "source": [
    "## 2. Исследовательский анализ данных"
   ]
  },
  {
   "cell_type": "markdown",
   "metadata": {},
   "source": [
    "### Типичные параметры квартир и выявление отклонений"
   ]
  },
  {
   "cell_type": "markdown",
   "metadata": {},
   "source": [
    "Посмотрим на общую информацию о цене на квартиры."
   ]
  },
  {
   "cell_type": "code",
   "execution_count": 53,
   "metadata": {},
   "outputs": [
    {
     "data": {
      "text/plain": [
       "count    2.369900e+04\n",
       "mean     6.541549e+06\n",
       "std      1.088701e+07\n",
       "min      1.219000e+04\n",
       "25%      3.400000e+06\n",
       "50%      4.650000e+06\n",
       "75%      6.800000e+06\n",
       "max      7.630000e+08\n",
       "Name: last_price, dtype: float64"
      ]
     },
     "execution_count": 53,
     "metadata": {},
     "output_type": "execute_result"
    }
   ],
   "source": [
    "data['last_price'].describe()"
   ]
  },
  {
   "cell_type": "markdown",
   "metadata": {},
   "source": [
    "Средняя цена квартиры около 6,5 млн рублей, медианная - 4,6 млн.  \n",
    "Минимальная цена в районе 12 тысяч рублей, а максимальная - 763 миллиона.  \n",
    "И то, и другое выглядит аномалией. \n",
    "Посмотрим на гистограмму распределения цен."
   ]
  },
  {
   "cell_type": "code",
   "execution_count": 54,
   "metadata": {},
   "outputs": [
    {
     "data": {
      "text/plain": [
       "array([[<matplotlib.axes._subplots.AxesSubplot object at 0x7fd1f69dc668>]],\n",
       "      dtype=object)"
      ]
     },
     "execution_count": 54,
     "metadata": {},
     "output_type": "execute_result"
    },
    {
     "data": {
      "image/png": "[encoded data removed]",
      "text/plain": [
       "<Figure size 432x288 with 1 Axes>"
      ]
     },
     "metadata": {
      "needs_background": "light"
     },
     "output_type": "display_data"
    }
   ],
   "source": [
    "data.hist('last_price')"
   ]
  },
  {
   "cell_type": "markdown",
   "metadata": {},
   "source": [
    "Так ничего непонятно. Разделим на большее количество корзин и ограничим значения 30 млн. рублей"
   ]
  },
  {
   "cell_type": "code",
   "execution_count": 55,
   "metadata": {},
   "outputs": [
    {
     "data": {
      "text/plain": [
       "array([[<matplotlib.axes._subplots.AxesSubplot object at 0x7fd1f69dcb70>]],\n",
       "      dtype=object)"
      ]
     },
     "execution_count": 55,
     "metadata": {},
     "output_type": "execute_result"
    },
    {
     "data": {
      "image/png": "[encoded data removed]",
      "text/plain": [
       "<Figure size 432x288 with 1 Axes>"
      ]
     },
     "metadata": {
      "needs_background": "light"
     },
     "output_type": "display_data"
    }
   ],
   "source": [
    "data.hist('last_price', bins=100, range=(0,30000000))"
   ]
  },
  {
   "cell_type": "markdown",
   "metadata": {},
   "source": [
    "В принципе, распределение похоже на нормальное.  \n",
    "Но исключать объекты из базы нужно на основе другой величины - цены за квадратный метр, так как цены могут сильно варьироваться в зависимости от площади."
   ]
  },
  {
   "cell_type": "code",
   "execution_count": 56,
   "metadata": {},
   "outputs": [
    {
     "name": "stdout",
     "output_type": "stream",
     "text": [
      "111\n",
      "1907500\n"
     ]
    }
   ],
   "source": [
    "print(data['price_per_sqm'].min())\n",
    "print(data['price_per_sqm'].max())"
   ]
  },
  {
   "cell_type": "code",
   "execution_count": 57,
   "metadata": {},
   "outputs": [
    {
     "data": {
      "text/plain": [
       "array([[<matplotlib.axes._subplots.AxesSubplot object at 0x7fd1f631eeb8>]],\n",
       "      dtype=object)"
      ]
     },
     "execution_count": 57,
     "metadata": {},
     "output_type": "execute_result"
    },
    {
     "data": {
      "image/png": "[encoded data removed]",
      "text/plain": [
       "<Figure size 432x288 with 1 Axes>"
      ]
     },
     "metadata": {
      "needs_background": "light"
     },
     "output_type": "display_data"
    }
   ],
   "source": [
    "data.hist('price_per_sqm', bins=100)"
   ]
  },
  {
   "cell_type": "markdown",
   "metadata": {},
   "source": [
    "Попробуем посмотреть на \"ящик с усами\", чтобы выявить приемлемый диапазон стоимости за квадратный метр."
   ]
  },
  {
   "cell_type": "code",
   "execution_count": 58,
   "metadata": {},
   "outputs": [
    {
     "data": {
      "text/plain": [
       "<matplotlib.axes._subplots.AxesSubplot at 0x7fd1f61a4cf8>"
      ]
     },
     "execution_count": 58,
     "metadata": {},
     "output_type": "execute_result"
    },
    {
     "data": {
      "image/png": "[encoded data removed]",
      "text/plain": [
       "<Figure size 432x288 with 1 Axes>"
      ]
     },
     "metadata": {
      "needs_background": "light"
     },
     "output_type": "display_data"
    }
   ],
   "source": [
    "data.boxplot('price_per_sqm')"
   ]
  },
  {
   "cell_type": "markdown",
   "metadata": {},
   "source": [
    "Посмотрим внимательнее на диапазон, в который попадают усы."
   ]
  },
  {
   "cell_type": "code",
   "execution_count": 59,
   "metadata": {},
   "outputs": [
    {
     "data": {
      "text/plain": [
       "<matplotlib.axes._subplots.AxesSubplot at 0x7fd1f603c550>"
      ]
     },
     "execution_count": 59,
     "metadata": {},
     "output_type": "execute_result"
    },
    {
     "data": {
      "image/png": "[encoded data removed]",
      "text/plain": [
       "<Figure size 432x288 with 1 Axes>"
      ]
     },
     "metadata": {
      "needs_background": "light"
     },
     "output_type": "display_data"
    }
   ],
   "source": [
    "plt.ylim(0, 250000)\n",
    "data.boxplot('price_per_sqm')"
   ]
  },
  {
   "cell_type": "markdown",
   "metadata": {},
   "source": [
    "Усы попадают в диапазон от 20 тысяч до 160 тысяч рублей за квадратный метр. Несколько расширим диапазон, так как рынок жилья весьма сегментирован.\n",
    "Попробуем ограничить верхний предел величиной 300 тыс. рублей"
   ]
  },
  {
   "cell_type": "code",
   "execution_count": 60,
   "metadata": {},
   "outputs": [
    {
     "data": {
      "text/plain": [
       "array([[<matplotlib.axes._subplots.AxesSubplot object at 0x7fd1f3ee3780>]],\n",
       "      dtype=object)"
      ]
     },
     "execution_count": 60,
     "metadata": {},
     "output_type": "execute_result"
    },
    {
     "data": {
      "image/png": "[encoded data removed]",
      "text/plain": [
       "<Figure size 432x288 with 1 Axes>"
      ]
     },
     "metadata": {
      "needs_background": "light"
     },
     "output_type": "display_data"
    }
   ],
   "source": [
    "data.hist('price_per_sqm', bins=100, range=(0,300000))"
   ]
  },
  {
   "cell_type": "markdown",
   "metadata": {},
   "source": [
    "При дальнейшем анализе, по всей видимости, можно будет обрезать объекты стоимостью выше 300000 тыс. рублей. Посмотрим, сколько мы потеряем."
   ]
  },
  {
   "cell_type": "code",
   "execution_count": 61,
   "metadata": {},
   "outputs": [
    {
     "name": "stdout",
     "output_type": "stream",
     "text": [
      "172\n"
     ]
    }
   ],
   "source": [
    "print(data.query('price_per_sqm > 300000')['price_per_sqm'].count())"
   ]
  },
  {
   "cell_type": "markdown",
   "metadata": {},
   "source": [
    "Приемлемая величина. На самом деле, вопросы вызывают и объекты со стоимостью за квадратный метр ниже 30 тыс. рублей. Это мало, а таких объектов явно много. Проверим."
   ]
  },
  {
   "cell_type": "code",
   "execution_count": 62,
   "metadata": {},
   "outputs": [
    {
     "name": "stdout",
     "output_type": "stream",
     "text": [
      "466\n"
     ]
    }
   ],
   "source": [
    "print(data.query('price_per_sqm < 30000')['price_per_sqm'].count())"
   ]
  },
  {
   "cell_type": "markdown",
   "metadata": {},
   "source": [
    "Проверим, где находятся эти объекты."
   ]
  },
  {
   "cell_type": "code",
   "execution_count": 63,
   "metadata": {},
   "outputs": [
    {
     "name": "stdout",
     "output_type": "stream",
     "text": [
      "locality_name\n",
      "Сланцы                                   111\n",
      "Пикалёво                                  18\n",
      "Бокситогорск                              16\n",
      "Волхов                                    16\n",
      "Подпорожье                                13\n",
      "Лодейное Поле                             12\n",
      "посёлок городского типа Кузнечное         12\n",
      "Ивангород                                 12\n",
      "Луга                                       9\n",
      "Санкт-Петербург                            8\n",
      "Каменногорск                               8\n",
      "поселок городского типа Никольский         7\n",
      "городской посёлок Назия                    7\n",
      "Выборг                                     6\n",
      "поселок Елизаветино                        6\n",
      "посёлок городского типа Важины             6\n",
      "посёлок городского типа Сиверский          6\n",
      "деревня Извара                             5\n",
      "деревня Батово                             5\n",
      "деревня Белогорка                          4\n",
      "Кириши                                     4\n",
      "Гатчина                                    4\n",
      "поселок Глажево                            4\n",
      "посёлок Суйда                              3\n",
      "деревня Калитино                           3\n",
      "деревня Лампово                            3\n",
      "поселок городского типа Дружная Горка      3\n",
      "деревня Старополье                         3\n",
      "поселок Торковичи                          3\n",
      "поселок городского типа Ефимовский         3\n",
      "                                        ... \n",
      "поселок Каложицы                           1\n",
      "поселок Кингисеппский                      1\n",
      "поселок Коммунары                          1\n",
      "поселок Котельский                         1\n",
      "поселок Почап                              1\n",
      "поселок Красносельское                     1\n",
      "поселок Любань                             1\n",
      "поселок Мичуринское                        1\n",
      "деревня Чудской Бор                        1\n",
      "поселок Старая Малукса                     1\n",
      "поселок Суходолье                          1\n",
      "деревня Тихковицы                          1\n",
      "деревня Кисельня                           1\n",
      "поселок Цвылёво                            1\n",
      "деревня Котлы                              1\n",
      "деревня Курковицы                          1\n",
      "деревня Куровицы                           1\n",
      "поселок Цвелодубово                        1\n",
      "деревня Лопухинка                          1\n",
      "деревня Малая Романовка                    1\n",
      "деревня Мануйлово                          1\n",
      "деревня Меньково                           1\n",
      "деревня Пельгора                           1\n",
      "деревня Пижма                              1\n",
      "деревня Пустынка                           1\n",
      "деревня Пчева                              1\n",
      "деревня Рабитицы                           1\n",
      "деревня Сижно                              1\n",
      "поселок Тёсово-4                           1\n",
      "деревня Кипень                             1\n",
      "Name: locality_name, Length: 138, dtype: int64\n"
     ]
    }
   ],
   "source": [
    "print(data.query('price_per_sqm < 30000').groupby('locality_name')['locality_name'].count().sort_values(ascending=False))"
   ]
  },
  {
   "cell_type": "markdown",
   "metadata": {},
   "source": [
    "Что же, в поселках Ленинградской области такие цены реальны. Посмотрим на распределение в малых значениях цены за квадратный метр, наверняка отыщется значение отсечения."
   ]
  },
  {
   "cell_type": "code",
   "execution_count": 64,
   "metadata": {},
   "outputs": [
    {
     "data": {
      "text/plain": [
       "array([[<matplotlib.axes._subplots.AxesSubplot object at 0x7fd1f3dc3860>]],\n",
       "      dtype=object)"
      ]
     },
     "execution_count": 64,
     "metadata": {},
     "output_type": "execute_result"
    },
    {
     "data": {
      "image/png": "[encoded data removed]",
      "text/plain": [
       "<Figure size 432x288 with 1 Axes>"
      ]
     },
     "metadata": {
      "needs_background": "light"
     },
     "output_type": "display_data"
    }
   ],
   "source": [
    "data.hist('price_per_sqm', bins=100, range=(0,30000))"
   ]
  },
  {
   "cell_type": "markdown",
   "metadata": {},
   "source": [
    "Меньше 10000 рублей - точно ошибка"
   ]
  },
  {
   "cell_type": "markdown",
   "metadata": {},
   "source": [
    "Посмотрим на типичные значения общей площади."
   ]
  },
  {
   "cell_type": "code",
   "execution_count": 65,
   "metadata": {},
   "outputs": [
    {
     "data": {
      "text/plain": [
       "count    23699.000000\n",
       "mean        60.348651\n",
       "std         35.654083\n",
       "min         12.000000\n",
       "25%         40.000000\n",
       "50%         52.000000\n",
       "75%         69.900000\n",
       "max        900.000000\n",
       "Name: total_area, dtype: float64"
      ]
     },
     "execution_count": 65,
     "metadata": {},
     "output_type": "execute_result"
    }
   ],
   "source": [
    "data['total_area'].describe()"
   ]
  },
  {
   "cell_type": "code",
   "execution_count": 66,
   "metadata": {},
   "outputs": [
    {
     "data": {
      "text/plain": [
       "array([[<matplotlib.axes._subplots.AxesSubplot object at 0x7fd1f3d1fe80>]],\n",
       "      dtype=object)"
      ]
     },
     "execution_count": 66,
     "metadata": {},
     "output_type": "execute_result"
    },
    {
     "data": {
      "image/png": "[encoded data removed]",
      "text/plain": [
       "<Figure size 432x288 with 1 Axes>"
      ]
     },
     "metadata": {
      "needs_background": "light"
     },
     "output_type": "display_data"
    }
   ],
   "source": [
    "data.hist('total_area', bins=100)"
   ]
  },
  {
   "cell_type": "markdown",
   "metadata": {},
   "source": [
    "Хвост очень длинный! Посмотрим внимательнее на основной массив, до 150 метров."
   ]
  },
  {
   "cell_type": "code",
   "execution_count": 67,
   "metadata": {},
   "outputs": [
    {
     "data": {
      "text/plain": [
       "array([[<matplotlib.axes._subplots.AxesSubplot object at 0x7fd1f3de3780>]],\n",
       "      dtype=object)"
      ]
     },
     "execution_count": 67,
     "metadata": {},
     "output_type": "execute_result"
    },
    {
     "data": {
      "image/png": "[encoded data removed]",
      "text/plain": [
       "<Figure size 432x288 with 1 Axes>"
      ]
     },
     "metadata": {
      "needs_background": "light"
     },
     "output_type": "display_data"
    }
   ],
   "source": [
    "data.hist('total_area', bins=100, range=(0,150))"
   ]
  },
  {
   "cell_type": "markdown",
   "metadata": {},
   "source": [
    "Распределение ближе к распределению Пуассона. В принципе, при анализе факторов, влияющих на цену, вполне можно исключить квартиры слишком большой площади.  \n",
    "Посмотрим, сколько квартир более 250 квадратных метров."
   ]
  },
  {
   "cell_type": "code",
   "execution_count": 68,
   "metadata": {},
   "outputs": [
    {
     "name": "stdout",
     "output_type": "stream",
     "text": [
      "112\n"
     ]
    }
   ],
   "source": [
    "print(data.query('total_area > 250')['total_area'].count())"
   ]
  },
  {
   "cell_type": "markdown",
   "metadata": {},
   "source": [
    "Вполне можно убрать.\n",
    "Посмотрим еще на диапазон стоимости квартир в зависимости от количества комнат."
   ]
  },
  {
   "cell_type": "code",
   "execution_count": 69,
   "metadata": {},
   "outputs": [
    {
     "name": "stdout",
     "output_type": "stream",
     "text": [
      "           count        min        max     median\n",
      "      last_price last_price last_price last_price\n",
      "rooms                                            \n",
      "0            197     945750   71000000    2700000\n",
      "1           8047     430000   43511000    3600000\n",
      "2           7940      12190  289238400    4770169\n",
      "3           5814     550000  330000000    6200000\n",
      "4           1180     999000  159984000    9000000\n",
      "5            326    1650000  401300000   14000000\n",
      "6            105    4390000  245000000   19000000\n",
      "7             59    7900000  763000000   24900000\n",
      "8             12   15800000  180000000   23095000\n",
      "9              8   17000000   88000000   23750000\n",
      "10             3   15500000   40000000   23000000\n",
      "11             2   17500000   33000000   25250000\n",
      "12             1  420000000  420000000  420000000\n",
      "14             2   25000000   28659000   26829500\n",
      "15             1   65000000   65000000   65000000\n",
      "16             1   28500000   28500000   28500000\n",
      "19             1   32250000   32250000   32250000\n"
     ]
    }
   ],
   "source": [
    "print(data.pivot_table(index='rooms', values='last_price', aggfunc=['count', 'min', 'max', 'median']))"
   ]
  },
  {
   "cell_type": "markdown",
   "metadata": {},
   "source": [
    "Медианные цены возрастают. Для дальнейшего анализа вполне можно было бы объединить квартиры с 5 и более комнатами в один сегмент. Неоднородной выглядит группа без комнат - ведь там и студии, и квартиры с открытой планировкой.  \n",
    "Создадим новую переменную с группировкой по количеству комнат."
   ]
  },
  {
   "cell_type": "code",
   "execution_count": 70,
   "metadata": {},
   "outputs": [
    {
     "name": "stdout",
     "output_type": "stream",
     "text": [
      "1-комнатная            8033\n",
      "2-комнатная            7939\n",
      "3-комнатная            5812\n",
      "4-комнатная            1179\n",
      "5 комнат и больше       520\n",
      "Студия                  149\n",
      "Открытая планировка      67\n",
      "Name: rooms_grouped, dtype: int64\n"
     ]
    }
   ],
   "source": [
    "def rooms_grouped(row):\n",
    "    rooms = row['rooms']\n",
    "    studio = row['studio']\n",
    "    open_plan = row['open_plan']\n",
    "    if studio == True:\n",
    "        return 'Студия'\n",
    "    if open_plan == True:\n",
    "        return 'Открытая планировка'\n",
    "    if rooms == 1:\n",
    "        return '1-комнатная'\n",
    "    if rooms == 2:\n",
    "        return '2-комнатная'\n",
    "    if rooms == 3:\n",
    "        return '3-комнатная'\n",
    "    if rooms == 4:\n",
    "        return '4-комнатная'\n",
    "    if rooms > 4:\n",
    "        return '5 комнат и больше'\n",
    "data['rooms_grouped'] = data.apply(rooms_grouped, axis=1)\n",
    "print(data['rooms_grouped'].value_counts())"
   ]
  },
  {
   "cell_type": "markdown",
   "metadata": {},
   "source": [
    "Теперь посмотрим на цену на квадратный метр по этим группам."
   ]
  },
  {
   "cell_type": "code",
   "execution_count": 71,
   "metadata": {},
   "outputs": [
    {
     "name": "stdout",
     "output_type": "stream",
     "text": [
      "                            count           min           max        median\n",
      "                    price_per_sqm price_per_sqm price_per_sqm price_per_sqm\n",
      "rooms_grouped                                                              \n",
      "1-комнатная                  8033         11000        848484      100000.0\n",
      "2-комнатная                  7939           111       1542604       92807.0\n",
      "3-комнатная                  5812         10507       1736842       88985.0\n",
      "4-комнатная                  1179         13483        995983       92666.0\n",
      "5 комнат и больше             520         14347       1907500       99593.5\n",
      "Открытая планировка            67         48133        310592      102222.0\n",
      "Студия                        149         34375        231960      105555.0\n"
     ]
    }
   ],
   "source": [
    "print(data.pivot_table(index='rooms_grouped', values='price_per_sqm', aggfunc=['count', 'min', 'max', 'median']))"
   ]
  },
  {
   "cell_type": "markdown",
   "metadata": {},
   "source": [
    "Уберем экстремальные значения стоимости за квадратный метр (менее 30000 и более 300000) и сохраним переменную со статистикой по количеству комнат."
   ]
  },
  {
   "cell_type": "code",
   "execution_count": 72,
   "metadata": {},
   "outputs": [
    {
     "name": "stdout",
     "output_type": "stream",
     "text": [
      "                            count           min           max        median\n",
      "                    price_per_sqm price_per_sqm price_per_sqm price_per_sqm\n",
      "rooms_grouped                                                              \n",
      "1-комнатная                  8021         11000        292307        100000\n",
      "2-комнатная                  7905         10185        299000         92666\n",
      "3-комнатная                  5753         10507        300000         88732\n",
      "4-комнатная                  1141         13483        300000         91626\n",
      "5 комнат и больше             489         14347        300000         96551\n",
      "Открытая планировка            66         48133        191374        101111\n",
      "Студия                        149         34375        231960        105555\n"
     ]
    }
   ],
   "source": [
    "rooms_stat = (\n",
    "    data.query('10000 <= price_per_sqm <= 300000')\n",
    "    .pivot_table(index='rooms_grouped', values='price_per_sqm', aggfunc=['count', 'min', 'max', 'median'])\n",
    ")\n",
    "print(rooms_stat)"
   ]
  },
  {
   "cell_type": "markdown",
   "metadata": {},
   "source": [
    "Интересно, что площадь за квадратный метр ниже для 2-5 комнатных квартир, чем для студий и однокомнатных. Но отличия между квартирами с различным количеством комнат не очень велики."
   ]
  },
  {
   "cell_type": "markdown",
   "metadata": {},
   "source": [
    "Посмотрим на зависимость стоимости квадратного метра от общей площади квартиры."
   ]
  },
  {
   "cell_type": "code",
   "execution_count": 73,
   "metadata": {},
   "outputs": [
    {
     "data": {
      "text/plain": [
       "<matplotlib.axes._subplots.AxesSubplot at 0x7fd1f6225940>"
      ]
     },
     "execution_count": 73,
     "metadata": {},
     "output_type": "execute_result"
    },
    {
     "data": {
      "image/png": "[encoded data removed]",
      "text/plain": [
       "<Figure size 864x432 with 1 Axes>"
      ]
     },
     "metadata": {
      "needs_background": "light"
     },
     "output_type": "display_data"
    }
   ],
   "source": [
    "data.plot(x='total_area', y='price_per_sqm', style='o', ylim=(0, 400000), grid=True, figsize=(12, 6))"
   ]
  },
  {
   "cell_type": "markdown",
   "metadata": {},
   "source": [
    "Видно, что явной зависимости не выявляется. Кроме того,очевидно, что основной массив объектов ограничен, с одной стороны, площадью квартир в 200 квадратных метров, а с другой - стоимостью в 200 тысяч рублей за квадратный метр.  \n",
    "Несколько расширим диапазон, чтобы не потерять слишком много объектов - 300 тысяч и 250 квадратных метров. Кроме того, уберем сомнительные объявления с ценой менее 10 тысяч рублей за квадратный метр.  \n",
    "Сделаем выборку этих объектов и посчитаем для них корреляцию цены за квадратный метр с основными численными параметрами (общая площадь, жилая площадь, площадь кухни, доля жилой площади, доля кухни, высота потолков, удаленность до центра города, длительность экспозиции объявления, расстояние до аэропорта)."
   ]
  },
  {
   "cell_type": "markdown",
   "metadata": {},
   "source": [
    "### Влияние факторов на цену за квадратный метр"
   ]
  },
  {
   "cell_type": "code",
   "execution_count": 74,
   "metadata": {},
   "outputs": [
    {
     "name": "stdout",
     "output_type": "stream",
     "text": [
      "Корреляция цены за квадратный метр и общей площади: 0.20\n",
      "Корреляция цены за квадратный метр и жилой площади: 0.10\n",
      "Корреляция цены за квадратный метр и площади кухни: 0.37\n",
      "Корреляция цены за квадратный метр и доли жилой площади: -0.20\n",
      "Корреляция цены за квадратный метр и доли площади кухни: 0.21\n",
      "Корреляция цены за квадратный метр и высоты потолков: 0.35\n",
      "Корреляция цены за квадратный метр и удаленности от центра: -0.40\n",
      "Корреляция цены за квадратный метр и длительности экспозиции объявления: 0.04\n",
      "Корреляция цены за квадратный метр и расстояния до аэропорта: -0.04\n"
     ]
    }
   ],
   "source": [
    "sample = data.query('10000 <= price_per_sqm <= 300000 and total_area <= 250')\n",
    "print(\"Корреляция цены за квадратный метр и общей площади: {:.2f}\".format(sample['price_per_sqm'].corr(sample['total_area'])))\n",
    "print(\"Корреляция цены за квадратный метр и жилой площади: {:.2f}\".format(sample['price_per_sqm'].corr(sample['living_area'])))\n",
    "print(\"Корреляция цены за квадратный метр и площади кухни: {:.2f}\".format(sample['price_per_sqm'].corr(sample['kitchen_area'])))\n",
    "print(\"Корреляция цены за квадратный метр и доли жилой площади: {:.2f}\".format(sample['price_per_sqm'].corr(sample['living_area_share'])))\n",
    "print(\"Корреляция цены за квадратный метр и доли площади кухни: {:.2f}\".format(sample['price_per_sqm'].corr(sample['kitchen_area_share'])))\n",
    "print(\"Корреляция цены за квадратный метр и высоты потолков: {:.2f}\".format(sample['price_per_sqm'].corr(sample['ceiling_height_correct'])))\n",
    "print(\"Корреляция цены за квадратный метр и удаленности от центра: {:.2f}\".format(sample['price_per_sqm'].corr(sample['cityCenters_nearest'])))\n",
    "print(\"Корреляция цены за квадратный метр и длительности экспозиции объявления: {:.2f}\".format(sample['price_per_sqm'].corr(sample['days_exposition'])))\n",
    "print(\"Корреляция цены за квадратный метр и расстояния до аэропорта: {:.2f}\".format(sample['price_per_sqm'].corr(sample['airports_nearest'])))"
   ]
  },
  {
   "cell_type": "markdown",
   "metadata": {},
   "source": [
    "Результаты весьма любопытны. Стоимость за квадратный метр крайне сильно зависит от:\n",
    "    - удаленности от центра, причем связь отрицательная: чем дальше от центра, тем дешевле метр;\n",
    "    - площади кухни: здесь отразилась, очевидно, тенденция в новых домах, особенно комфорт и элит класса, делать большие кухни-гостиные;\n",
    "    - положительно от доли площади кухни и отрицательно от доли жилой площади, что опять же объясняется популярностью больших кухонь;\n",
    "    - есть положительная связь и с общей площадью, по всей видимости, за счет дороговизны элитных квартир.\n",
    "Практически нет зависимости между ценой за квадратный метр и расстоянием до аэропорта, высотой потолков, длительностью экспозиции объявления, жилой площадью."
   ]
  },
  {
   "cell_type": "markdown",
   "metadata": {},
   "source": [
    "Посмотрим на взаимосвязь цены на квадратный метр с другими имеющимися данными."
   ]
  },
  {
   "cell_type": "code",
   "execution_count": 75,
   "metadata": {},
   "outputs": [
    {
     "name": "stdout",
     "output_type": "stream",
     "text": [
      "                      count           min           max        median\n",
      "              price_per_sqm price_per_sqm price_per_sqm price_per_sqm\n",
      "floor_grouped                                                        \n",
      "Другой                17188         10368        300000         98000\n",
      "Неизвестно               82         47041        198913        101603\n",
      "Первый                 2896         10185        286666         81096\n",
      "Последний              3270         10507        284545         87251\n"
     ]
    }
   ],
   "source": [
    "print(sample.pivot_table(index='floor_grouped', values='price_per_sqm', aggfunc=['count', 'min', 'max', 'median']))"
   ]
  },
  {
   "cell_type": "markdown",
   "metadata": {},
   "source": [
    "За первый и последний этажи однозначно просят меньше, особенно за первый!"
   ]
  },
  {
   "cell_type": "code",
   "execution_count": 76,
   "metadata": {},
   "outputs": [
    {
     "name": "stdout",
     "output_type": "stream",
     "text": [
      "                         count           min           max        median\n",
      "                 price_per_sqm price_per_sqm price_per_sqm price_per_sqm\n",
      "parks_around3000                                                        \n",
      "0.0                      10041         15345        300000       99488.0\n",
      "1.0                       5618         16842        300000      104352.5\n",
      "2.0                       1676         41911        295202      106168.0\n",
      "3.0                        591         53349        297556      103787.0\n"
     ]
    }
   ],
   "source": [
    "print(sample.pivot_table(index='parks_around3000', values='price_per_sqm', aggfunc=['count', 'min', 'max', 'median']))"
   ]
  },
  {
   "cell_type": "markdown",
   "metadata": {},
   "source": [
    "Если парка нет в радиусе 3км - это плохо. Но количество парков уже не столь важно."
   ]
  },
  {
   "cell_type": "code",
   "execution_count": 77,
   "metadata": {},
   "outputs": [
    {
     "name": "stdout",
     "output_type": "stream",
     "text": [
      "                         count           min           max        median\n",
      "                 price_per_sqm price_per_sqm price_per_sqm price_per_sqm\n",
      "ponds_around3000                                                        \n",
      "0.0                       9016         15345        300000        100000\n",
      "1.0                       5655         26250        293269        101428\n",
      "2.0                       1845         15861        295202        103988\n",
      "3.0                       1410         17391        300000        114009\n"
     ]
    }
   ],
   "source": [
    "print(sample.pivot_table(index='ponds_around3000', values='price_per_sqm', aggfunc=['count', 'min', 'max', 'median']))"
   ]
  },
  {
   "cell_type": "markdown",
   "metadata": {},
   "source": [
    "Водоемы - это также отличный бонус. Наличие трех водоемов в радиусе 3км увеличивает цену за квадратный метр почти на 14% по сравнению с квартирами, для которых водоем поблизости отсутствует."
   ]
  },
  {
   "cell_type": "markdown",
   "metadata": {},
   "source": [
    "Посмотрим, как влияет дата размещения на стоимость за квадратный метр."
   ]
  },
  {
   "cell_type": "code",
   "execution_count": 78,
   "metadata": {},
   "outputs": [
    {
     "name": "stdout",
     "output_type": "stream",
     "text": [
      "                           count           min           max        median\n",
      "                   price_per_sqm price_per_sqm price_per_sqm price_per_sqm\n",
      "exposition_weekday                                                        \n",
      "0                           3578         10561        288311         94444\n",
      "1                           4141         10769        300000         95371\n",
      "2                           3930         10925        292307         95354\n",
      "3                           4233         10185        297556         94807\n",
      "4                           3960         10368        300000         94437\n",
      "5                           1909         12542        288940         92948\n",
      "6                           1685         11463        299000         94252\n"
     ]
    }
   ],
   "source": [
    "print(sample.pivot_table(index='exposition_weekday', values='price_per_sqm', aggfunc=['count', 'min', 'max', 'median']))"
   ]
  },
  {
   "cell_type": "markdown",
   "metadata": {},
   "source": [
    "Явной зависимости от дня недели размещения не выявлено (0 - понедельник, 6 - вокресенье). Что, в общем, ожидаемо."
   ]
  },
  {
   "cell_type": "code",
   "execution_count": 79,
   "metadata": {},
   "outputs": [
    {
     "name": "stdout",
     "output_type": "stream",
     "text": [
      "                         count           min           max        median\n",
      "                 price_per_sqm price_per_sqm price_per_sqm price_per_sqm\n",
      "exposition_month                                                        \n",
      "1                         1480         12422        292207       95096.5\n",
      "2                         2613         10185        297556       94805.0\n",
      "3                         2562         12931        299000       95075.0\n",
      "4                         2355         11250        286000       96000.0\n",
      "5                         1262         10897        296610       92528.5\n",
      "6                         1734         10925        295202       92440.0\n",
      "7                         1672         10507        293269       94598.5\n",
      "8                         1724         10368        266789       95538.5\n",
      "9                         1959         12555        272097       95351.0\n",
      "10                        2111         14264        300000       94102.0\n",
      "11                        2349         10769        289473       95454.0\n",
      "12                        1615         12250        283333       93684.0\n"
     ]
    }
   ],
   "source": [
    "print(sample.pivot_table(index='exposition_month', values='price_per_sqm', aggfunc=['count', 'min', 'max', 'median']))"
   ]
  },
  {
   "cell_type": "markdown",
   "metadata": {},
   "source": [
    "Ниже всего стоимость квартир, выставленных в июне. Определенная логика в этом есть - лето, сезон отпусков, мертвое время для риэлторов. Но все же размах не очень велик."
   ]
  },
  {
   "cell_type": "code",
   "execution_count": 80,
   "metadata": {},
   "outputs": [
    {
     "name": "stdout",
     "output_type": "stream",
     "text": [
      "                        count           min           max        median\n",
      "                price_per_sqm price_per_sqm price_per_sqm price_per_sqm\n",
      "exposition_year                                                        \n",
      "2014                      131         20338        278099      106344.0\n",
      "2015                     1160         12542        273096       92756.0\n",
      "2016                     2745         11587        299000       91379.0\n",
      "2017                     8096         10714        300000       92268.5\n",
      "2018                     8458         10368        296610       95555.0\n",
      "2019                     2846         10185        286666      103057.5\n"
     ]
    }
   ],
   "source": [
    "print(sample.pivot_table(index='exposition_year', values='price_per_sqm', aggfunc=['count', 'min', 'max', 'median']))"
   ]
  },
  {
   "cell_type": "markdown",
   "metadata": {},
   "source": [
    "Самые дорогие квартиры - выставленные в 2014 году. Самая очевидная гипотеза - эти квартиры слишком дорогие, поэтому их никто не покупает.  \n",
    "По высокой цене выставлены также \"свежие\" квартиры."
   ]
  },
  {
   "cell_type": "markdown",
   "metadata": {},
   "source": [
    "### Цена квадратного метра в пригородах"
   ]
  },
  {
   "cell_type": "markdown",
   "metadata": {},
   "source": [
    "Проанализируем цены в пригородах, сравнив с Петербургом. Выберем top-10 пригородов.  \n",
    "Для этого сохраним табличку с value_counts по столбцу locality_name."
   ]
  },
  {
   "cell_type": "code",
   "execution_count": 81,
   "metadata": {},
   "outputs": [
    {
     "name": "stdout",
     "output_type": "stream",
     "text": [
      "Санкт-Петербург                                            15466\n",
      "посёлок Мурино                                               522\n",
      "посёлок Шушары                                               440\n",
      "Всеволожск                                                   397\n",
      "Пушкин                                                       367\n",
      "Колпино                                                      337\n",
      "посёлок Парголово                                            327\n",
      "Гатчина                                                      307\n",
      "деревня Кудрово                                              299\n",
      "Выборг                                                       237\n",
      "Петергоф                                                     201\n",
      "Сестрорецк                                                   183\n",
      "Красное Село                                                 177\n",
      "Кудрово                                                      173\n",
      "деревня Новое Девяткино                                      144\n",
      "Сертолово                                                    142\n",
      "Ломоносов                                                    133\n",
      "Кириши                                                       125\n",
      "Сланцы                                                       111\n",
      "Волхов                                                       111\n",
      "Тосно                                                        104\n",
      "Кингисепп                                                    104\n",
      "Кронштадт                                                     96\n",
      "Никольское                                                    93\n",
      "Коммунар                                                      89\n",
      "Сосновый Бор                                                  87\n",
      "Кировск                                                       84\n",
      "Отрадное                                                      80\n",
      "посёлок Бугры                                                 69\n",
      "Приозерск                                                     66\n",
      "                                                           ...  \n",
      "деревня Большая Пустомержа                                     1\n",
      "деревня Пикколово                                              1\n",
      "деревня Нижние Осельки                                         1\n",
      "деревня Старое Хинколово                                       1\n",
      "посёлок Высокоключевой                                         1\n",
      "деревня Новолисино                                             1\n",
      "посёлок при железнодорожной станции Приветнинское              1\n",
      "деревня Снегирёвка                                             1\n",
      "посёлок Форт Красная Горка                                     1\n",
      "деревня Иссад                                                  1\n",
      "поселок Возрождение                                            1\n",
      "поселок Цвылёво                                                1\n",
      "деревня Ялгино                                                 1\n",
      "поселок станции Лужайка                                        1\n",
      "деревня Большой Сабск                                          1\n",
      "посёлок Левашово                                               1\n",
      "деревня Борисова Грива                                         1\n",
      "деревня Хапо-Ое                                                1\n",
      "посёлок Ропша                                                  1\n",
      "садоводческое некоммерческое товарищество Лесная Поляна        1\n",
      "поселок городского типа Большая Ижора                          1\n",
      "поселок Усть-Луга                                              1\n",
      "деревня Кривко                                                 1\n",
      "деревня Пельгора                                               1\n",
      "поселок Семиозерье                                             1\n",
      "деревня Куровицы                                               1\n",
      "деревня Вахнова Кара                                           1\n",
      "деревня Раздолье                                               1\n",
      "деревня Курковицы                                              1\n",
      "посёлок Алексеевка                                             1\n",
      "Name: locality_name, Length: 365, dtype: int64\n"
     ]
    }
   ],
   "source": [
    "locality_list = sample['locality_name'].value_counts()\n",
    "print(locality_list)"
   ]
  },
  {
   "cell_type": "code",
   "execution_count": 82,
   "metadata": {},
   "outputs": [
    {
     "name": "stdout",
     "output_type": "stream",
     "text": [
      "Санкт-Петербург      15466\n",
      "посёлок Мурино         522\n",
      "посёлок Шушары         440\n",
      "Всеволожск             397\n",
      "Пушкин                 367\n",
      "Колпино                337\n",
      "посёлок Парголово      327\n",
      "Гатчина                307\n",
      "деревня Кудрово        299\n",
      "Выборг                 237\n",
      "Петергоф               201\n",
      "Name: locality_name, dtype: int64\n"
     ]
    }
   ],
   "source": [
    "locality_list = locality_list[:11] # отберем СПб и топ-10 пригородов\n",
    "print(locality_list)"
   ]
  },
  {
   "cell_type": "code",
   "execution_count": 83,
   "metadata": {},
   "outputs": [
    {
     "name": "stdout",
     "output_type": "stream",
     "text": [
      "Санкт-Петербург      15466\n",
      "посёлок Мурино         522\n",
      "посёлок Шушары         440\n",
      "Всеволожск             397\n",
      "Пушкин                 367\n",
      "Колпино                337\n",
      "посёлок Парголово      327\n",
      "Гатчина                307\n",
      "деревня Кудрово        299\n",
      "Выборг                 237\n",
      "Петергоф               201\n",
      "Name: locality_name, dtype: int64\n"
     ]
    }
   ],
   "source": [
    "suburbs_sample = sample.query('locality_name in @locality_list.index') # сделаем выборку из улучшенных данных\n",
    "print(suburbs_sample['locality_name'].value_counts())"
   ]
  },
  {
   "cell_type": "code",
   "execution_count": 84,
   "metadata": {},
   "outputs": [
    {
     "name": "stdout",
     "output_type": "stream",
     "text": [
      "                   count    min     max  median\n",
      "locality_name                                  \n",
      "Санкт-Петербург    15466  15345  300000  104411\n",
      "Пушкин               367  59836  256521  100000\n",
      "деревня Кудрово      299  54160  142857   91860\n",
      "посёлок Парголово    327  39205  138522   91642\n",
      "посёлок Мурино       522  50000  138580   85878\n",
      "Петергоф             201  51612  225971   82142\n",
      "посёлок Шушары       440  47700  147826   76876\n",
      "Колпино              337  47957  125000   74722\n",
      "Гатчина              307  10507  146315   67796\n",
      "Всеволожск           397  31400  136423   65789\n",
      "Выборг               237  18750  107473   58158\n"
     ]
    }
   ],
   "source": [
    "suburbs_sample_stat = suburbs_sample.pivot_table(index='locality_name', values='price_per_sqm', aggfunc=['count', 'min', 'max', 'median'])\n",
    "suburbs_sample_stat.columns = ['count', 'min', 'max', 'median']\n",
    "print(suburbs_sample_stat.sort_values(by='median', ascending=False))"
   ]
  },
  {
   "cell_type": "markdown",
   "metadata": {},
   "source": [
    "Среди крупных пригородов только в Пушкине цена близка к Петербургу. В Парголово и Кудрово цена за квадратный метр ниже в среднем на 10%, а в Выборге аж на 40%."
   ]
  },
  {
   "cell_type": "markdown",
   "metadata": {},
   "source": [
    "### Сегментация"
   ]
  },
  {
   "cell_type": "markdown",
   "metadata": {},
   "source": [
    "Прежде всего, построим гистограмму, чтобы понять, как выглядит выборка с точки зрения удаленности от центра."
   ]
  },
  {
   "cell_type": "code",
   "execution_count": 85,
   "metadata": {},
   "outputs": [
    {
     "data": {
      "text/plain": [
       "array([[<matplotlib.axes._subplots.AxesSubplot object at 0x7fd1f2e32898>]],\n",
       "      dtype=object)"
      ]
     },
     "execution_count": 85,
     "metadata": {},
     "output_type": "execute_result"
    },
    {
     "data": {
      "image/png": "[encoded data removed]",
      "text/plain": [
       "<Figure size 432x288 with 1 Axes>"
      ]
     },
     "metadata": {
      "needs_background": "light"
     },
     "output_type": "display_data"
    }
   ],
   "source": [
    "data.hist('cityCenters_nearest', bins=100)"
   ]
  },
  {
   "cell_type": "markdown",
   "metadata": {},
   "source": [
    "Сегмент с удаленностью выше 20 км можно выделить отдельно. Внутри этого диапазон посмотрим внимательнее. Уменьшим количество корзин, чтобы примерно понимать размер сегмента."
   ]
  },
  {
   "cell_type": "code",
   "execution_count": 86,
   "metadata": {},
   "outputs": [
    {
     "data": {
      "text/plain": [
       "array([[<matplotlib.axes._subplots.AxesSubplot object at 0x7fd1f2e56908>]],\n",
       "      dtype=object)"
      ]
     },
     "execution_count": 86,
     "metadata": {},
     "output_type": "execute_result"
    },
    {
     "data": {
      "image/png": "[encoded data removed]",
      "text/plain": [
       "<Figure size 432x288 with 1 Axes>"
      ]
     },
     "metadata": {
      "needs_background": "light"
     },
     "output_type": "display_data"
    }
   ],
   "source": [
    "data.hist('cityCenters_nearest', bins=10, range=[0,20000])"
   ]
  },
  {
   "cell_type": "markdown",
   "metadata": {},
   "source": [
    "На основе гистограммы выделим 4 сегмента по удаленности: до 5км, 5-10км, 10-15 км, 15-20 км, свыше 20км.  \n",
    "Назовем ближний сегмент \"Центр\" (условно, но ведь нам нужны крупные сегменты, мы не можем ограничиваться только историческим центром), 10-15 км - \"Ближние новые районы\", 15-20 км - \"Дальние новые районы\", более 20 км - \"Пригороды и область\""
   ]
  },
  {
   "cell_type": "code",
   "execution_count": 87,
   "metadata": {},
   "outputs": [
    {
     "name": "stdout",
     "output_type": "stream",
     "text": [
      "Ближние новые районы    6759\n",
      "Центр                   5097\n",
      "Дальние новые районы    3692\n",
      "Пригороды и область     2632\n",
      "Name: centre_distance, dtype: int64\n"
     ]
    }
   ],
   "source": [
    "def centre_distance(distance):\n",
    "    if distance < 10000:\n",
    "        return 'Центр'\n",
    "    if 10000 <= distance < 15000:\n",
    "        return 'Ближние новые районы'\n",
    "    if 15000 <= distance < 20000:\n",
    "        return 'Дальние новые районы'\n",
    "    if distance >= 20000:\n",
    "        return 'Пригороды и область'\n",
    "data['centre_distance'] = data['cityCenters_nearest'].apply(centre_distance)\n",
    "print(data['centre_distance'].value_counts())"
   ]
  },
  {
   "cell_type": "code",
   "execution_count": 88,
   "metadata": {},
   "outputs": [],
   "source": [
    "sample = data.query('10000 <= price_per_sqm <= 300000 and total_area <= 250') # еще раз создадим датафрейм sample с новым столбцом"
   ]
  },
  {
   "cell_type": "code",
   "execution_count": 89,
   "metadata": {},
   "outputs": [
    {
     "name": "stdout",
     "output_type": "stream",
     "text": [
      "rooms_grouped         1-комнатная  2-комнатная  3-комнатная  4-комнатная  \\\n",
      "centre_distance                                                            \n",
      "Ближние новые районы         2431         2329         1624          272   \n",
      "Дальние новые районы         1501         1134          901           99   \n",
      "Пригороды и область           973          875          647          102   \n",
      "Центр                         964         1558         1461          538   \n",
      "\n",
      "rooms_grouped         5 комнат и больше  Открытая планировка  Студия  \n",
      "centre_distance                                                       \n",
      "Ближние новые районы                 35                   17      38  \n",
      "Дальние новые районы                 18                    7      26  \n",
      "Пригороды и область                  20                    4       6  \n",
      "Центр                               316                    7      22  \n"
     ]
    }
   ],
   "source": [
    "print(sample.pivot_table(index='centre_distance', columns='rooms_grouped', values='total_area', aggfunc='count'))"
   ]
  },
  {
   "cell_type": "markdown",
   "metadata": {},
   "source": [
    "Количество комнат не является однозначным основанием для деления квартир на сегменты: могут существовать относительно большие \"двушки\" и крошечные 4-комнатные \"хрущевки\". Надежнее сегментировать по площади."
   ]
  },
  {
   "cell_type": "code",
   "execution_count": 90,
   "metadata": {},
   "outputs": [
    {
     "data": {
      "text/plain": [
       "array([[<matplotlib.axes._subplots.AxesSubplot object at 0x7fd1f6a7d4e0>]],\n",
       "      dtype=object)"
      ]
     },
     "execution_count": 90,
     "metadata": {},
     "output_type": "execute_result"
    },
    {
     "data": {
      "image/png": "[encoded data removed]",
      "text/plain": [
       "<Figure size 432x288 with 1 Axes>"
      ]
     },
     "metadata": {
      "needs_background": "light"
     },
     "output_type": "display_data"
    }
   ],
   "source": [
    "data.hist('total_area', bins=50, range=(0,250))"
   ]
  },
  {
   "cell_type": "markdown",
   "metadata": {},
   "source": [
    "Взглянем детальнее на квартиры до 100 м."
   ]
  },
  {
   "cell_type": "code",
   "execution_count": 91,
   "metadata": {},
   "outputs": [
    {
     "data": {
      "text/plain": [
       "array([[<matplotlib.axes._subplots.AxesSubplot object at 0x7fd1f3654e80>]],\n",
       "      dtype=object)"
      ]
     },
     "execution_count": 91,
     "metadata": {},
     "output_type": "execute_result"
    },
    {
     "data": {
      "image/png": "[encoded data removed]",
      "text/plain": [
       "<Figure size 432x288 with 1 Axes>"
      ]
     },
     "metadata": {
      "needs_background": "light"
     },
     "output_type": "display_data"
    }
   ],
   "source": [
    "data.hist('total_area', bins=20, range=(0,100))"
   ]
  },
  {
   "cell_type": "markdown",
   "metadata": {},
   "source": [
    "Видимо, имеет смысл выделить небольшие квартиры до 40 метров, средний и очень распространенный сегмент от 40 до 60 метров, вместительные квартиры от 60 до 100 метров, большие квартиры более 100метров. Создадим сегменты и взглянем на размер получившихся сегментов."
   ]
  },
  {
   "cell_type": "code",
   "execution_count": 92,
   "metadata": {},
   "outputs": [
    {
     "name": "stdout",
     "output_type": "stream",
     "text": [
      "Средние       9074\n",
      "Просторные    6990\n",
      "Маленькие     5727\n",
      "Большие       1908\n",
      "Name: total_area_grouped, dtype: int64\n"
     ]
    }
   ],
   "source": [
    "def total_area_grouped(total_area):\n",
    "    if total_area < 40:\n",
    "        return 'Маленькие'\n",
    "    if 40 <= total_area < 60:\n",
    "        return 'Средние'\n",
    "    if 60 <= total_area < 100:\n",
    "        return 'Просторные'\n",
    "    if total_area >= 100:\n",
    "        return 'Большие'\n",
    "data['total_area_grouped'] = data['total_area'].apply(total_area_grouped)\n",
    "print(data['total_area_grouped'].value_counts(dropna=False))"
   ]
  },
  {
   "cell_type": "code",
   "execution_count": 93,
   "metadata": {},
   "outputs": [
    {
     "name": "stdout",
     "output_type": "stream",
     "text": [
      "total_area_grouped    Большие  Маленькие  Просторные  Средние\n",
      "centre_distance                                              \n",
      "Ближние новые районы      310       1695        1875     2866\n",
      "Дальние новые районы      105       1007        1079     1495\n",
      "Пригороды и область       116        703         772     1036\n",
      "Центр                    1079        551        1916     1320\n"
     ]
    }
   ],
   "source": [
    "sample = data.query('10000 <= price_per_sqm <= 300000 and total_area <= 250') # еще раз создадим датафрейм sample с новым столбцом\n",
    "print(sample.pivot_table(index='centre_distance', columns='total_area_grouped', values='total_area', aggfunc='count')) # выведем в разбивке по районам"
   ]
  },
  {
   "cell_type": "markdown",
   "metadata": {},
   "source": [
    "Выделим следующие сегменты:\n",
    "    - Центр: маленькие и средние квартиры\n",
    "    - Центр: большие и просторные квартиры\n",
    "    - Новые районы (объединим ближние и дальние для простоты восприятия): отдельно маленькие/средние/большие и просторные\n",
    "    - Пригороды и область: отдельный сегмент без разбивки"
   ]
  },
  {
   "cell_type": "code",
   "execution_count": 94,
   "metadata": {},
   "outputs": [
    {
     "name": "stdout",
     "output_type": "stream",
     "text": [
      "NaN                                    5519\n",
      "Средние квартиры в новых районах       4361\n",
      "Просторные квартиры в новых районах    3387\n",
      "Просторные квартиры в центре           3216\n",
      "Маленькие квартиры в новых районах     2703\n",
      "Пригороды и область                    2632\n",
      "Компактные квартиры в центре           1881\n",
      "Name: apart_segment, dtype: int64\n"
     ]
    }
   ],
   "source": [
    "def apart_segment(row):\n",
    "    total_area_grouped = row['total_area_grouped']\n",
    "    centre_distance = row['centre_distance']\n",
    "    if centre_distance == 'Центр' and (total_area_grouped == 'Маленькие' or total_area_grouped == 'Средние'):\n",
    "        return 'Компактные квартиры в центре'\n",
    "    if centre_distance == 'Центр' and (total_area_grouped == 'Большие' or total_area_grouped == 'Просторные'):\n",
    "        return 'Просторные квартиры в центре'\n",
    "    if (centre_distance == 'Ближние новые районы' or centre_distance == 'Дальние новые районы') and total_area_grouped == 'Маленькие':\n",
    "        return 'Маленькие квартиры в новых районах' \n",
    "    if (centre_distance == 'Ближние новые районы' or centre_distance == 'Дальние новые районы') and total_area_grouped == 'Средние':\n",
    "        return 'Средние квартиры в новых районах'     \n",
    "    if (centre_distance == 'Ближние новые районы' or centre_distance == 'Дальние новые районы') and (total_area_grouped == 'Большие' or total_area_grouped == 'Просторные'):\n",
    "        return 'Просторные квартиры в новых районах'\n",
    "    if centre_distance == 'Пригороды и область':\n",
    "        return 'Пригороды и область'\n",
    "data['apart_segment'] = data.apply(apart_segment, axis=1)\n",
    "print(data['apart_segment'].value_counts(dropna=False))"
   ]
  },
  {
   "cell_type": "code",
   "execution_count": 95,
   "metadata": {},
   "outputs": [],
   "source": [
    "sample = data.query('10000 <= price_per_sqm <= 300000 and total_area <= 250') # еще раз выделим выборку"
   ]
  },
  {
   "cell_type": "code",
   "execution_count": 96,
   "metadata": {},
   "outputs": [
    {
     "name": "stdout",
     "output_type": "stream",
     "text": [
      "Корреляция цены за квадратный метр и общей площади: -0.11\n",
      "Корреляция цены за квадратный метр и жилой площади: -0.29\n",
      "Корреляция цены за квадратный метр и площади кухни: 0.35\n",
      "Корреляция цены за квадратный метр и доли жилой площади: -0.31\n",
      "Корреляция цены за квадратный метр и доли площади кухни: 0.33\n",
      "Корреляция цены за квадратный метр и высоты потолков: 0.29\n",
      "Корреляция цены за квадратный метр и удаленности от центра: -0.35\n",
      "Корреляция цены за квадратный метр и длительности экспозиции объявления: 0.08\n",
      "Корреляция цены за квадратный метр и расстояния до аэропорта: -0.12\n"
     ]
    }
   ],
   "source": [
    "sample_segm = sample.query('apart_segment == \"Компактные квартиры в центре\"')\n",
    "print(\"Корреляция цены за квадратный метр и общей площади: {:.2f}\".format(sample_segm['price_per_sqm'].corr(sample_segm['total_area'])))\n",
    "print(\"Корреляция цены за квадратный метр и жилой площади: {:.2f}\".format(sample_segm['price_per_sqm'].corr(sample_segm['living_area'])))\n",
    "print(\"Корреляция цены за квадратный метр и площади кухни: {:.2f}\".format(sample_segm['price_per_sqm'].corr(sample_segm['kitchen_area'])))\n",
    "print(\"Корреляция цены за квадратный метр и доли жилой площади: {:.2f}\".format(sample_segm['price_per_sqm'].corr(sample_segm['living_area_share'])))\n",
    "print(\"Корреляция цены за квадратный метр и доли площади кухни: {:.2f}\".format(sample_segm['price_per_sqm'].corr(sample_segm['kitchen_area_share'])))\n",
    "print(\"Корреляция цены за квадратный метр и высоты потолков: {:.2f}\".format(sample_segm['price_per_sqm'].corr(sample_segm['ceiling_height_correct'])))\n",
    "print(\"Корреляция цены за квадратный метр и удаленности от центра: {:.2f}\".format(sample_segm['price_per_sqm'].corr(sample_segm['cityCenters_nearest'])))\n",
    "print(\"Корреляция цены за квадратный метр и длительности экспозиции объявления: {:.2f}\".format(sample_segm['price_per_sqm'].corr(sample_segm['days_exposition'])))\n",
    "print(\"Корреляция цены за квадратный метр и расстояния до аэропорта: {:.2f}\".format(sample_segm['price_per_sqm'].corr(sample_segm['airports_nearest'])))"
   ]
  },
  {
   "cell_type": "markdown",
   "metadata": {},
   "source": [
    "Интересно, что и в центральной части города - чем ближе к центру, тем дороже. Кроме того, для компактных квартир имеет значение размер кухни и высота потолков. Чем больше квартира, тем дешевле стоит метр."
   ]
  },
  {
   "cell_type": "code",
   "execution_count": 97,
   "metadata": {},
   "outputs": [
    {
     "name": "stdout",
     "output_type": "stream",
     "text": [
      "Корреляция цены за квадратный метр и общей площади: 0.09\n",
      "Корреляция цены за квадратный метр и жилой площади: -0.04\n",
      "Корреляция цены за квадратный метр и площади кухни: 0.32\n",
      "Корреляция цены за квадратный метр и доли жилой площади: -0.27\n",
      "Корреляция цены за квадратный метр и доли площади кухни: 0.28\n",
      "Корреляция цены за квадратный метр и высоты потолков: 0.01\n",
      "Корреляция цены за квадратный метр и удаленности от центра: 0.00\n",
      "Корреляция цены за квадратный метр и длительности экспозиции объявления: 0.02\n",
      "Корреляция цены за квадратный метр и расстояния до аэропорта: 0.07\n"
     ]
    }
   ],
   "source": [
    "sample_segm = sample.query('apart_segment == \"Просторные квартиры в центре\"')\n",
    "print(\"Корреляция цены за квадратный метр и общей площади: {:.2f}\".format(sample_segm['price_per_sqm'].corr(sample_segm['total_area'])))\n",
    "print(\"Корреляция цены за квадратный метр и жилой площади: {:.2f}\".format(sample_segm['price_per_sqm'].corr(sample_segm['living_area'])))\n",
    "print(\"Корреляция цены за квадратный метр и площади кухни: {:.2f}\".format(sample_segm['price_per_sqm'].corr(sample_segm['kitchen_area'])))\n",
    "print(\"Корреляция цены за квадратный метр и доли жилой площади: {:.2f}\".format(sample_segm['price_per_sqm'].corr(sample_segm['living_area_share'])))\n",
    "print(\"Корреляция цены за квадратный метр и доли площади кухни: {:.2f}\".format(sample_segm['price_per_sqm'].corr(sample_segm['kitchen_area_share'])))\n",
    "print(\"Корреляция цены за квадратный метр и высоты потолков: {:.2f}\".format(sample_segm['price_per_sqm'].corr(sample_segm['ceiling_height_correct'])))\n",
    "print(\"Корреляция цены за квадратный метр и удаленности от центра: {:.2f}\".format(sample_segm['price_per_sqm'].corr(sample_segm['cityCenters_nearest'])))\n",
    "print(\"Корреляция цены за квадратный метр и длительности экспозиции объявления: {:.2f}\".format(sample_segm['price_per_sqm'].corr(sample_segm['days_exposition'])))\n",
    "print(\"Корреляция цены за квадратный метр и расстояния до аэропорта: {:.2f}\".format(sample_segm['price_per_sqm'].corr(sample_segm['airports_nearest'])))"
   ]
  },
  {
   "cell_type": "markdown",
   "metadata": {},
   "source": [
    "Для просторных квартир в центре увеличение площади уже не приводит к снижению цены за метр. Но по-прежнему на цену положительно влияет размер кухни."
   ]
  },
  {
   "cell_type": "code",
   "execution_count": 98,
   "metadata": {},
   "outputs": [
    {
     "name": "stdout",
     "output_type": "stream",
     "text": [
      "Корреляция цены за квадратный метр и общей площади: -0.01\n",
      "Корреляция цены за квадратный метр и жилой площади: -0.03\n",
      "Корреляция цены за квадратный метр и площади кухни: 0.20\n",
      "Корреляция цены за квадратный метр и доли жилой площади: -0.03\n",
      "Корреляция цены за квадратный метр и доли площади кухни: 0.13\n",
      "Корреляция цены за квадратный метр и высоты потолков: 0.25\n",
      "Корреляция цены за квадратный метр и удаленности от центра: -0.23\n",
      "Корреляция цены за квадратный метр и длительности экспозиции объявления: 0.01\n",
      "Корреляция цены за квадратный метр и расстояния до аэропорта: -0.05\n"
     ]
    }
   ],
   "source": [
    "sample_segm = sample.query('apart_segment == \"Маленькие квартиры в новых районах\"')\n",
    "print(\"Корреляция цены за квадратный метр и общей площади: {:.2f}\".format(sample_segm['price_per_sqm'].corr(sample_segm['total_area'])))\n",
    "print(\"Корреляция цены за квадратный метр и жилой площади: {:.2f}\".format(sample_segm['price_per_sqm'].corr(sample_segm['living_area'])))\n",
    "print(\"Корреляция цены за квадратный метр и площади кухни: {:.2f}\".format(sample_segm['price_per_sqm'].corr(sample_segm['kitchen_area'])))\n",
    "print(\"Корреляция цены за квадратный метр и доли жилой площади: {:.2f}\".format(sample_segm['price_per_sqm'].corr(sample_segm['living_area_share'])))\n",
    "print(\"Корреляция цены за квадратный метр и доли площади кухни: {:.2f}\".format(sample_segm['price_per_sqm'].corr(sample_segm['kitchen_area_share'])))\n",
    "print(\"Корреляция цены за квадратный метр и высоты потолков: {:.2f}\".format(sample_segm['price_per_sqm'].corr(sample_segm['ceiling_height_correct'])))\n",
    "print(\"Корреляция цены за квадратный метр и удаленности от центра: {:.2f}\".format(sample_segm['price_per_sqm'].corr(sample_segm['cityCenters_nearest'])))\n",
    "print(\"Корреляция цены за квадратный метр и длительности экспозиции объявления: {:.2f}\".format(sample_segm['price_per_sqm'].corr(sample_segm['days_exposition'])))\n",
    "print(\"Корреляция цены за квадратный метр и расстояния до аэропорта: {:.2f}\".format(sample_segm['price_per_sqm'].corr(sample_segm['airports_nearest'])))"
   ]
  },
  {
   "cell_type": "markdown",
   "metadata": {},
   "source": [
    "Для маленьких квартир в новых районах важное значение имеет размер кухни и высота потолков, а также удаленность от центра."
   ]
  },
  {
   "cell_type": "code",
   "execution_count": 99,
   "metadata": {},
   "outputs": [
    {
     "name": "stdout",
     "output_type": "stream",
     "text": [
      "Корреляция цены за квадратный метр и общей площади: -0.11\n",
      "Корреляция цены за квадратный метр и жилой площади: -0.36\n",
      "Корреляция цены за квадратный метр и площади кухни: 0.42\n",
      "Корреляция цены за квадратный метр и доли жилой площади: -0.39\n",
      "Корреляция цены за квадратный метр и доли площади кухни: 0.41\n",
      "Корреляция цены за квадратный метр и высоты потолков: 0.38\n",
      "Корреляция цены за квадратный метр и удаленности от центра: -0.16\n",
      "Корреляция цены за квадратный метр и длительности экспозиции объявления: 0.00\n",
      "Корреляция цены за квадратный метр и расстояния до аэропорта: 0.08\n"
     ]
    }
   ],
   "source": [
    "sample_segm = sample.query('apart_segment == \"Средние квартиры в новых районах\"')\n",
    "print(\"Корреляция цены за квадратный метр и общей площади: {:.2f}\".format(sample_segm['price_per_sqm'].corr(sample_segm['total_area'])))\n",
    "print(\"Корреляция цены за квадратный метр и жилой площади: {:.2f}\".format(sample_segm['price_per_sqm'].corr(sample_segm['living_area'])))\n",
    "print(\"Корреляция цены за квадратный метр и площади кухни: {:.2f}\".format(sample_segm['price_per_sqm'].corr(sample_segm['kitchen_area'])))\n",
    "print(\"Корреляция цены за квадратный метр и доли жилой площади: {:.2f}\".format(sample_segm['price_per_sqm'].corr(sample_segm['living_area_share'])))\n",
    "print(\"Корреляция цены за квадратный метр и доли площади кухни: {:.2f}\".format(sample_segm['price_per_sqm'].corr(sample_segm['kitchen_area_share'])))\n",
    "print(\"Корреляция цены за квадратный метр и высоты потолков: {:.2f}\".format(sample_segm['price_per_sqm'].corr(sample_segm['ceiling_height_correct'])))\n",
    "print(\"Корреляция цены за квадратный метр и удаленности от центра: {:.2f}\".format(sample_segm['price_per_sqm'].corr(sample_segm['cityCenters_nearest'])))\n",
    "print(\"Корреляция цены за квадратный метр и длительности экспозиции объявления: {:.2f}\".format(sample_segm['price_per_sqm'].corr(sample_segm['days_exposition'])))\n",
    "print(\"Корреляция цены за квадратный метр и расстояния до аэропорта: {:.2f}\".format(sample_segm['price_per_sqm'].corr(sample_segm['airports_nearest'])))"
   ]
  },
  {
   "cell_type": "markdown",
   "metadata": {},
   "source": [
    "Цена на квартиры среднего размера в новых районах зависит от целого ряда факторов:\n",
    "    - размер кухни и ее доля в жилой площади;\n",
    "    - высота потолков;\n",
    "    - слабая связь с расстоянием до центра."
   ]
  },
  {
   "cell_type": "code",
   "execution_count": 100,
   "metadata": {},
   "outputs": [
    {
     "name": "stdout",
     "output_type": "stream",
     "text": [
      "Корреляция цены за квадратный метр и общей площади: 0.22\n",
      "Корреляция цены за квадратный метр и жилой площади: 0.01\n",
      "Корреляция цены за квадратный метр и площади кухни: 0.39\n",
      "Корреляция цены за квадратный метр и доли жилой площади: -0.36\n",
      "Корреляция цены за квадратный метр и доли площади кухни: 0.35\n",
      "Корреляция цены за квадратный метр и высоты потолков: 0.38\n",
      "Корреляция цены за квадратный метр и удаленности от центра: -0.28\n",
      "Корреляция цены за квадратный метр и длительности экспозиции объявления: -0.01\n",
      "Корреляция цены за квадратный метр и расстояния до аэропорта: 0.10\n"
     ]
    }
   ],
   "source": [
    "sample_segm = sample.query('apart_segment == \"Просторные квартиры в новых районах\"')\n",
    "print(\"Корреляция цены за квадратный метр и общей площади: {:.2f}\".format(sample_segm['price_per_sqm'].corr(sample_segm['total_area'])))\n",
    "print(\"Корреляция цены за квадратный метр и жилой площади: {:.2f}\".format(sample_segm['price_per_sqm'].corr(sample_segm['living_area'])))\n",
    "print(\"Корреляция цены за квадратный метр и площади кухни: {:.2f}\".format(sample_segm['price_per_sqm'].corr(sample_segm['kitchen_area'])))\n",
    "print(\"Корреляция цены за квадратный метр и доли жилой площади: {:.2f}\".format(sample_segm['price_per_sqm'].corr(sample_segm['living_area_share'])))\n",
    "print(\"Корреляция цены за квадратный метр и доли площади кухни: {:.2f}\".format(sample_segm['price_per_sqm'].corr(sample_segm['kitchen_area_share'])))\n",
    "print(\"Корреляция цены за квадратный метр и высоты потолков: {:.2f}\".format(sample_segm['price_per_sqm'].corr(sample_segm['ceiling_height_correct'])))\n",
    "print(\"Корреляция цены за квадратный метр и удаленности от центра: {:.2f}\".format(sample_segm['price_per_sqm'].corr(sample_segm['cityCenters_nearest'])))\n",
    "print(\"Корреляция цены за квадратный метр и длительности экспозиции объявления: {:.2f}\".format(sample_segm['price_per_sqm'].corr(sample_segm['days_exposition'])))\n",
    "print(\"Корреляция цены за квадратный метр и расстояния до аэропорта: {:.2f}\".format(sample_segm['price_per_sqm'].corr(sample_segm['airports_nearest'])))"
   ]
  },
  {
   "cell_type": "markdown",
   "metadata": {},
   "source": [
    "Для просторных квартир в новых районах также выделяются прежние факторы - размер кухни, высота потолков и удаленность от центра.  \n",
    "Интересно, что увеличение площади для элитного жилья приводит к увеличению стоимости за метр!"
   ]
  },
  {
   "cell_type": "code",
   "execution_count": 101,
   "metadata": {},
   "outputs": [
    {
     "name": "stdout",
     "output_type": "stream",
     "text": [
      "Корреляция цены за квадратный метр и общей площади: -0.03\n",
      "Корреляция цены за квадратный метр и жилой площади: -0.10\n",
      "Корреляция цены за квадратный метр и площади кухни: 0.23\n",
      "Корреляция цены за квадратный метр и доли жилой площади: -0.21\n",
      "Корреляция цены за квадратный метр и доли площади кухни: 0.27\n",
      "Корреляция цены за квадратный метр и высоты потолков: 0.25\n",
      "Корреляция цены за квадратный метр и удаленности от центра: -0.15\n",
      "Корреляция цены за квадратный метр и длительности экспозиции объявления: 0.02\n",
      "Корреляция цены за квадратный метр и расстояния до аэропорта: -0.04\n"
     ]
    }
   ],
   "source": [
    "sample_segm = sample.query('apart_segment == \"Пригороды и область\"')\n",
    "print(\"Корреляция цены за квадратный метр и общей площади: {:.2f}\".format(sample_segm['price_per_sqm'].corr(sample_segm['total_area'])))\n",
    "print(\"Корреляция цены за квадратный метр и жилой площади: {:.2f}\".format(sample_segm['price_per_sqm'].corr(sample_segm['living_area'])))\n",
    "print(\"Корреляция цены за квадратный метр и площади кухни: {:.2f}\".format(sample_segm['price_per_sqm'].corr(sample_segm['kitchen_area'])))\n",
    "print(\"Корреляция цены за квадратный метр и доли жилой площади: {:.2f}\".format(sample_segm['price_per_sqm'].corr(sample_segm['living_area_share'])))\n",
    "print(\"Корреляция цены за квадратный метр и доли площади кухни: {:.2f}\".format(sample_segm['price_per_sqm'].corr(sample_segm['kitchen_area_share'])))\n",
    "print(\"Корреляция цены за квадратный метр и высоты потолков: {:.2f}\".format(sample_segm['price_per_sqm'].corr(sample_segm['ceiling_height_correct'])))\n",
    "print(\"Корреляция цены за квадратный метр и удаленности от центра: {:.2f}\".format(sample_segm['price_per_sqm'].corr(sample_segm['cityCenters_nearest'])))\n",
    "print(\"Корреляция цены за квадратный метр и длительности экспозиции объявления: {:.2f}\".format(sample_segm['price_per_sqm'].corr(sample_segm['days_exposition'])))\n",
    "print(\"Корреляция цены за квадратный метр и расстояния до аэропорта: {:.2f}\".format(sample_segm['price_per_sqm'].corr(sample_segm['airports_nearest'])))"
   ]
  },
  {
   "cell_type": "markdown",
   "metadata": {},
   "source": [
    "Размер кухни и высота потолков имеют значения и для квартир в пригородах и области."
   ]
  },
  {
   "cell_type": "markdown",
   "metadata": {},
   "source": [
    "Из значимых параметров еще стоит посмотреть на этажность."
   ]
  },
  {
   "cell_type": "code",
   "execution_count": 102,
   "metadata": {},
   "outputs": [
    {
     "name": "stdout",
     "output_type": "stream",
     "text": [
      "floor_grouped                          Другой  Неизвестно    Первый  Последний\n",
      "apart_segment                                                                 \n",
      "Компактные квартиры в центре         121052.0    118423.5  107112.0   111904.0\n",
      "Маленькие квартиры в новых районах   109008.5    110956.0  100000.0   105509.5\n",
      "Пригороды и область                   83596.0     90600.0   78620.0    82453.0\n",
      "Просторные квартиры в новых районах  100370.5     93779.0   84670.5    96284.5\n",
      "Просторные квартиры в центре         120041.0    138253.0  100000.0   110240.0\n",
      "Средние квартиры в новых районах     100000.0    106632.0   86424.5    92100.5\n"
     ]
    }
   ],
   "source": [
    "print(sample.pivot_table(index='apart_segment', columns='floor_grouped', values='price_per_sqm', aggfunc='median'))"
   ]
  },
  {
   "cell_type": "markdown",
   "metadata": {},
   "source": [
    "За первый этаж всегда просят меньше, а вот скидка за последний заметно ниже в новых районах и пригородах, чем в центре."
   ]
  },
  {
   "cell_type": "markdown",
   "metadata": {},
   "source": [
    "### Апартаменты, студии, квартиры свободной планировки"
   ]
  },
  {
   "cell_type": "markdown",
   "metadata": {},
   "source": [
    "В исходном датафрейме создадим столбец, в котором выделим апартаменты/студии/квартиры свободной планировки/обычное жилье.  \n",
    "Проверим, являются ли эти три типа квартир пересекающимися множествами."
   ]
  },
  {
   "cell_type": "code",
   "execution_count": 103,
   "metadata": {},
   "outputs": [
    {
     "name": "stdout",
     "output_type": "stream",
     "text": [
      "0\n",
      "0\n",
      "0\n"
     ]
    }
   ],
   "source": [
    "print(data.query('is_apartment == True and studio == True')['total_area'].count())\n",
    "print(data.query('is_apartment == True and open_plan == True')['total_area'].count())\n",
    "print(data.query('open_plan == True and studio == True')['total_area'].count())"
   ]
  },
  {
   "cell_type": "code",
   "execution_count": 104,
   "metadata": {},
   "outputs": [
    {
     "name": "stdout",
     "output_type": "stream",
     "text": [
      "Обычная квартира       23433\n",
      "Студия                   149\n",
      "Открытая планировка       67\n",
      "Апартаменты               50\n",
      "Name: object_type, dtype: int64\n"
     ]
    }
   ],
   "source": [
    "def object_type(row):\n",
    "    is_apartment = row['is_apartment']\n",
    "    studio = row['studio']\n",
    "    open_plan = row['open_plan']\n",
    "    if is_apartment == True:\n",
    "        return 'Апартаменты'\n",
    "    if studio == True:\n",
    "        return 'Студия'\n",
    "    if open_plan == True:\n",
    "        return 'Открытая планировка'\n",
    "    else:\n",
    "        return 'Обычная квартира'\n",
    "data['object_type'] = data.apply(object_type, axis=1)\n",
    "print(data['object_type'].value_counts())"
   ]
  },
  {
   "cell_type": "code",
   "execution_count": 105,
   "metadata": {},
   "outputs": [],
   "source": [
    "sample = data.query('10000 <= price_per_sqm <= 300000 and total_area <= 250') # еще раз выделим выборку"
   ]
  },
  {
   "cell_type": "code",
   "execution_count": 106,
   "metadata": {},
   "outputs": [
    {
     "name": "stdout",
     "output_type": "stream",
     "text": [
      "                              min           max        median\n",
      "                    price_per_sqm price_per_sqm price_per_sqm\n",
      "object_type                                                  \n",
      "Апартаменты                 40816        278000      107911.5\n",
      "Обычная квартира            10185        300000       94573.0\n",
      "Открытая планировка         48133        160990      100000.0\n",
      "Студия                      34375        231960      105555.0\n"
     ]
    }
   ],
   "source": [
    "print(sample.pivot_table(index='object_type', values='price_per_sqm', aggfunc=['min', 'max','median']))"
   ]
  },
  {
   "cell_type": "markdown",
   "metadata": {},
   "source": [
    "Стоимость за метр может сильно колебаться для разных типов квартир. В целом, цена ниже для обычных квартир и выше - для студий и апартаментов.  \n",
    "Можно еще взглянуть на распределения для каждого из типов объектов."
   ]
  },
  {
   "cell_type": "code",
   "execution_count": 107,
   "metadata": {},
   "outputs": [
    {
     "data": {
      "image/png": "[encoded data removed]",
      "text/plain": [
       "<Figure size 432x288 with 1 Axes>"
      ]
     },
     "metadata": {
      "needs_background": "light"
     },
     "output_type": "display_data"
    },
    {
     "data": {
      "image/png": "[encoded data removed]",
      "text/plain": [
       "<Figure size 432x288 with 1 Axes>"
      ]
     },
     "metadata": {
      "needs_background": "light"
     },
     "output_type": "display_data"
    },
    {
     "data": {
      "image/png": "[encoded data removed]",
      "text/plain": [
       "<Figure size 432x288 with 1 Axes>"
      ]
     },
     "metadata": {
      "needs_background": "light"
     },
     "output_type": "display_data"
    },
    {
     "data": {
      "image/png": "[encoded data removed]",
      "text/plain": [
       "<Figure size 432x288 with 1 Axes>"
      ]
     },
     "metadata": {
      "needs_background": "light"
     },
     "output_type": "display_data"
    }
   ],
   "source": [
    "for objects, group_data in sample.groupby('object_type'):\n",
    "    group_data.plot(y='price_per_sqm', title=objects, kind='hist', bins=50)"
   ]
  },
  {
   "cell_type": "markdown",
   "metadata": {},
   "source": [
    "Для обычных квартир распределение нормальное, для студий - близко к таковому. Для апартаментов и квартир с открытой планировкой недостаточно данных.  \n",
    "А выглядят распределения и основные параметры по общей площади?"
   ]
  },
  {
   "cell_type": "code",
   "execution_count": 108,
   "metadata": {},
   "outputs": [
    {
     "name": "stdout",
     "output_type": "stream",
     "text": [
      "                           min        max     median\n",
      "                    total_area total_area total_area\n",
      "object_type                                         \n",
      "Апартаменты               20.1      245.8       58.0\n",
      "Обычная квартира          12.0      250.0       52.0\n",
      "Открытая планировка       16.0       97.2       27.0\n",
      "Студия                    15.5       98.4       26.0\n"
     ]
    },
    {
     "data": {
      "image/png": "[encoded data removed]",
      "text/plain": [
       "<Figure size 432x288 with 1 Axes>"
      ]
     },
     "metadata": {
      "needs_background": "light"
     },
     "output_type": "display_data"
    },
    {
     "data": {
      "image/png": "[encoded data removed]",
      "text/plain": [
       "<Figure size 432x288 with 1 Axes>"
      ]
     },
     "metadata": {
      "needs_background": "light"
     },
     "output_type": "display_data"
    },
    {
     "data": {
      "image/png": "[encoded data removed]",
      "text/plain": [
       "<Figure size 432x288 with 1 Axes>"
      ]
     },
     "metadata": {
      "needs_background": "light"
     },
     "output_type": "display_data"
    },
    {
     "data": {
      "image/png": "[encoded data removed]",
      "text/plain": [
       "<Figure size 432x288 with 1 Axes>"
      ]
     },
     "metadata": {
      "needs_background": "light"
     },
     "output_type": "display_data"
    }
   ],
   "source": [
    "print(sample.pivot_table(index='object_type', values='total_area', aggfunc=['min', 'max','median']))\n",
    "for objects, group_data in sample.groupby('object_type'):\n",
    "    group_data.plot(y='total_area', title=objects, kind='hist', bins=50)"
   ]
  },
  {
   "cell_type": "markdown",
   "metadata": {},
   "source": [
    "Типичные параметры для квартир и апартаментов близки (в среднем, общая площадь таких объектов 50-60 квадратных метров.  \n",
    "Студии квартиры с открытой планировкой, в среднем, в 2 раза меньше.  \n",
    "Еще интересно взглянуть, есть ли различия с точки зрения местоположения объектов."
   ]
  },
  {
   "cell_type": "code",
   "execution_count": 109,
   "metadata": {},
   "outputs": [
    {
     "name": "stdout",
     "output_type": "stream",
     "text": [
      "centre_distance      Ближние новые районы  Дальние новые районы  \\\n",
      "object_type                                                       \n",
      "Апартаменты                             7                     1   \n",
      "Обычная квартира                     6684                  3652   \n",
      "Открытая планировка                    17                     7   \n",
      "Студия                                 38                    26   \n",
      "\n",
      "centre_distance      Пригороды и область  Центр  \n",
      "object_type                                      \n",
      "Апартаменты                           19     10  \n",
      "Обычная квартира                    2598   4827  \n",
      "Открытая планировка                    4      7  \n",
      "Студия                                 6     22  \n"
     ]
    }
   ],
   "source": [
    "print(sample.pivot_table(index='object_type', columns='centre_distance', values='total_area', aggfunc='count')) "
   ]
  },
  {
   "cell_type": "markdown",
   "metadata": {},
   "source": [
    "Явных трендов здесь нет, во многом, из-за недостаточного количества объектов по типам, отличным от обычных квартир.  \n",
    "Посмотрим, есть ли зависимость цены за квадратный метр от площади по различным типам объектов."
   ]
  },
  {
   "cell_type": "code",
   "execution_count": 110,
   "metadata": {},
   "outputs": [
    {
     "name": "stdout",
     "output_type": "stream",
     "text": [
      "total_area_grouped    Большие  Маленькие  Просторные   Средние\n",
      "object_type                                                   \n",
      "Апартаменты          115000.0   120751.0    101294.5  104070.5\n",
      "Обычная квартира     114655.0    98961.5     93200.0   90073.5\n",
      "Открытая планировка       NaN   102222.0    104363.5   68988.0\n",
      "Студия                    NaN   104901.5    115492.0  128319.5\n"
     ]
    }
   ],
   "source": [
    "print(sample.pivot_table(index='object_type', columns='total_area_grouped', values='price_per_sqm', aggfunc='median')) "
   ]
  },
  {
   "cell_type": "markdown",
   "metadata": {},
   "source": [
    "Для апартаментов и обычных квартир тренд схожий: просторные и средние квартиры дешевле за квадратный метр, чем маленькие, но элитные большие квартиры стоят уже больше, чем \"однушки\" в пересчете на метр.\n",
    "Для остальных типов объектов данные странные, что связано, по всей видимости, с недостаточностью выборки."
   ]
  },
  {
   "cell_type": "markdown",
   "metadata": {},
   "source": [
    "### Результаты анализа"
   ]
  },
  {
   "cell_type": "markdown",
   "metadata": {},
   "source": [
    "После анализа данных можно сделать следующие выводы.  \n",
    "1. Стоимость подавляющей части квартир в Петербурге и Ленинградской области колеблется от 20 тысяч до 160 тысяч рублей за квадратный метр, с ощутимым элитным сегментом, в котором цена может достигать 300 тысяч за кв.м.\n",
    "2. Общая площадь большинства квартир находится в диапазоне от 20 до 100 кв.м с медианным значением около 50 кв.м.\n",
    "3. Были выявлены следующие взаимосвязи цены за квадратный метр с различными параметрами квартир.    \n",
    "  A. Стоимость имеет отрицательную корреляцию с расстоянием до центра города: чем дальше от центра, тем дешевле метр.  \n",
    "  B. Чем больше площадь кухни и доля кухни в общей площади, тем дороже квадартный метр жилья. По всей видимости, здесь отразилась тенденция в новых домах, особенно комфорт и элит класса, делать большие кухни-гостиные.  \n",
    "  C. Взаимосвязь цены за метр с общей площадью квартир и количеством комнат неоднозначна.  \n",
    "  - С одной стороны, метр в студиях и однокомнатных квартирах стоит дороже, чем в 2-4 комнатных квартирах среднего и даже большого метража.\n",
    "  - С другой стороны, большие элитные квартиры могут стоить дороже за метр, чем студии, что связано с дороговизной этого сегмента жилья.  \n",
    "  \n",
    "  D. Этаж влияет на цену за метр довольно сильно, особенно большой дисконт дает первый этаж; в среднем, дешевле стоит метр и на последнем этаже.  \n",
    "  E. В Петербурге, где катастрофически не хватает водоемов и зеленых зон, наличие парка или водоема поблизости заметно увеличивает стоимость метра.  \n",
    "  G. При анализе все выборки, практически нет зависимости между ценой за квадратный метр и расстоянием до аэропорта, высотой потолков, длительностью экспозиции объявления, жилой площадью.  \n",
    "4. Квартиры в пригороде и области ожидаемо дешевле, чем жилье в самом Петербурге. Среди крупных пригородов только в Пушкине цена близка к Петербургу. В Парголово и Кудрово цена за квадратный метр ниже в среднем на 10%, а в Выборге аж на 40%.\n",
    "5. Анализ факторов, влияющих на стоимость квадратного метра, в разрезе сегментов показывает, что индикатором жилья комфорт и элит классов, помимо размера кухни и удаленности от центра, является высота потолков: в различных сегментах квартиры с более высокими потолками при прочих равных стоят дороже."
   ]
  },
  {
   "cell_type": "code",
   "execution_count": null,
   "metadata": {},
   "outputs": [],
   "source": []
  }
 ],
 "metadata": {
  "kernelspec": {
   "display_name": "Python 3",
   "language": "python",
   "name": "python3"
  },
  "language_info": {
   "codemirror_mode": {
    "name": "ipython",
    "version": 3
   },
   "file_extension": ".py",
   "mimetype": "text/x-python",
   "name": "python",
   "nbconvert_exporter": "python",
   "pygments_lexer": "ipython3",
   "version": "3.7.3"
  },
  "toc": {
   "base_numbering": 1,
   "nav_menu": {},
   "number_sections": true,
   "sideBar": true,
   "skip_h1_title": true,
   "title_cell": "Table of Contents",
   "title_sidebar": "Contents",
   "toc_cell": false,
   "toc_position": {},
   "toc_section_display": true,
   "toc_window_display": false
  }
 },
 "nbformat": 4,
 "nbformat_minor": 2
}
